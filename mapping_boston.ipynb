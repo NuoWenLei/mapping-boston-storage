{
 "metadata": {
  "language_info": {
   "codemirror_mode": {
    "name": "ipython",
    "version": 3
   },
   "file_extension": ".py",
   "mimetype": "text/x-python",
   "name": "python",
   "nbconvert_exporter": "python",
   "pygments_lexer": "ipython3",
   "version": "3.7.9"
  },
  "orig_nbformat": 2,
  "kernelspec": {
   "name": "python379jvsc74a57bd0aee8b7b246df8f9039afb4144a1f6fd8d2ca17a180786b69acc140d282b71a49",
   "display_name": "Python 3.7.9 64-bit"
  },
  "metadata": {
   "interpreter": {
    "hash": "aee8b7b246df8f9039afb4144a1f6fd8d2ca17a180786b69acc140d282b71a49"
   }
  }
 },
 "nbformat": 4,
 "nbformat_minor": 2,
 "cells": [
  {
   "source": [
    "## 5/21 Cells"
   ],
   "cell_type": "markdown",
   "metadata": {}
  },
  {
   "cell_type": "code",
   "execution_count": 3,
   "metadata": {},
   "outputs": [],
   "source": [
    "import json"
   ]
  },
  {
   "cell_type": "code",
   "execution_count": 2,
   "metadata": {},
   "outputs": [],
   "source": [
    "with open('detailed_compounds.json', 'r') as comp_json:\n",
    "    compounds = json.load(comp_json)"
   ]
  },
  {
   "cell_type": "code",
   "execution_count": 3,
   "metadata": {},
   "outputs": [],
   "source": [
    "with open('detailed_buildings.json', 'r') as build_json:\n",
    "    buildings = json.load(build_json)"
   ]
  },
  {
   "cell_type": "code",
   "execution_count": 15,
   "metadata": {},
   "outputs": [
    {
     "output_type": "execute_result",
     "data": {
      "text/plain": [
       "dict_keys(['name', 'total_price', 'unit_price', 'area(sq_meters)', 'year_of_construction', 'floors_of_building', 'compound_name', 'compound_link', 'floor_plan', 'room_type'])"
      ]
     },
     "metadata": {},
     "execution_count": 15
    }
   ],
   "source": [
    "buildings[0].keys()"
   ]
  },
  {
   "cell_type": "code",
   "execution_count": 28,
   "metadata": {},
   "outputs": [],
   "source": [
    "updated_compounds_v1 = []\n",
    "for compound in compounds:\n",
    "    updated_compound = compound.copy()\n",
    "    updated_compound['sum_of_prices($/space)'] = 0\n",
    "    updated_compound['sum_of_prices(total)'] = 0\n",
    "    updated_compound['sum_of_area(sq_meters)'] = 0\n",
    "    updated_compound['sum_of_floors'] = 0\n",
    "    updated_compound['units_on_sale'] = 0\n",
    "    for building in buildings:\n",
    "        if compound['compound_name'] == building['compound_name']:\n",
    "            updated_compound['sum_of_prices($/space)'] += building['unit_price']\n",
    "            updated_compound['sum_of_prices(total)'] += building['total_price']\n",
    "            updated_compound['sum_of_area(sq_meters)'] += building['area(sq_meters)']\n",
    "            updated_compound['sum_of_floors'] += building['floors_of_building']\n",
    "            updated_compound['units_on_sale'] += 1\n",
    "    updated_compounds_v1.append(updated_compound)\n"
   ]
  },
  {
   "cell_type": "code",
   "execution_count": 29,
   "metadata": {},
   "outputs": [],
   "source": [
    "for updated_compound in updated_compounds_v1:\n",
    "    updated_compound['avg_prices($/space)'] = updated_compound['sum_of_prices($/space)'] / updated_compound['units_on_sale']\n",
    "    updated_compound['avg_prices(total)'] = updated_compound['sum_of_prices(total)'] / updated_compound['units_on_sale']\n",
    "    updated_compound['avg_area(sq_meters)'] = updated_compound['sum_of_area(sq_meters)'] / updated_compound['units_on_sale']\n",
    "    updated_compound['avg_floors'] = updated_compound['sum_of_floors'] / updated_compound['units_on_sale']"
   ]
  },
  {
   "cell_type": "code",
   "execution_count": 30,
   "metadata": {},
   "outputs": [
    {
     "output_type": "execute_result",
     "data": {
      "text/plain": [
       "{'compound_name': '永清新村',\n",
       " 'link': 'https://sh.lianjia.com/xiaoqu/5011000012529/',\n",
       " 'available_address': '永清新村',\n",
       " 'year_of_construction': 1987,\n",
       " 'building_type': '板楼',\n",
       " 'management_company': '新寓物业',\n",
       " 'developer_company': '宝辰集团控股有限公司',\n",
       " 'number_of_buildings': 190,\n",
       " 'number_of_rooms': 2562,\n",
       " 'name': '永清新村小区',\n",
       " 'location': {'lat': 31.39679, 'lng': 121.504638},\n",
       " 'address': '上海市宝山区双城路(永清新村幼儿园西侧)',\n",
       " 'province': '上海市',\n",
       " 'city': '上海市',\n",
       " 'area': '宝山区',\n",
       " 'street_id': 'f44609182e33ed6bb11e367f',\n",
       " 'detail': 1,\n",
       " 'uid': 'f44609182e33ed6bb11e367f',\n",
       " 'sum_of_prices($/space)': 82365,\n",
       " 'sum_of_prices(total)': 10270000,\n",
       " 'sum_of_area(sq_meters)': 42.92,\n",
       " 'sum_of_floors': 6,\n",
       " 'units_on_sale': 1,\n",
       " 'avg_prices($/space)': 82365.0,\n",
       " 'avg_prices(total)': 10270000.0,\n",
       " 'avg_area(sq_meters)': 42.92,\n",
       " 'avg_floors': 6.0}"
      ]
     },
     "metadata": {},
     "execution_count": 30
    }
   ],
   "source": [
    "updated_compounds_v1.pop(4)\n",
    "updated_compounds_v1.pop(4)"
   ]
  },
  {
   "cell_type": "code",
   "execution_count": 31,
   "metadata": {},
   "outputs": [
    {
     "output_type": "execute_result",
     "data": {
      "text/plain": [
       "{'compound_name': '虹桥电子时代广场',\n",
       " 'link': 'https://sh.lianjia.com/xiaoqu/5011000011570/',\n",
       " 'available_address': '天山支路168号',\n",
       " 'year_of_construction': 2001,\n",
       " 'building_type': '板楼',\n",
       " 'management_company': '上海嘉平物业管理有限公司',\n",
       " 'developer_company': '上海嘉平房地产有限公司',\n",
       " 'number_of_buildings': 1,\n",
       " 'number_of_rooms': 585,\n",
       " 'name': '天山支路168号',\n",
       " 'location': {'lat': 31.22062, 'lng': 121.40283},\n",
       " 'address': '长宁区',\n",
       " 'sum_of_prices($/space)': 89419,\n",
       " 'sum_of_prices(total)': 7300000,\n",
       " 'sum_of_area(sq_meters)': 159.8,\n",
       " 'sum_of_floors': 18,\n",
       " 'units_on_sale': 2,\n",
       " 'avg_prices($/space)': 44709.5,\n",
       " 'avg_prices(total)': 3650000.0,\n",
       " 'avg_area(sq_meters)': 79.9,\n",
       " 'avg_floors': 9.0}"
      ]
     },
     "metadata": {},
     "execution_count": 31
    }
   ],
   "source": [
    "updated_compounds_v1[0]"
   ]
  },
  {
   "cell_type": "code",
   "execution_count": 32,
   "metadata": {},
   "outputs": [
    {
     "output_type": "execute_result",
     "data": {
      "text/plain": [
       "{'compound_name': '古南小区',\n",
       " 'link': 'https://sh.lianjia.com/xiaoqu/5011000014139/',\n",
       " 'available_address': '天山支路100弄1-7号,古北路108弄7-11号,古北路124弄8-14号,古北路136弄11-43号,天山支路50弄1-7号',\n",
       " 'year_of_construction': 1977,\n",
       " 'building_type': '板楼',\n",
       " 'management_company': '华阳物业',\n",
       " 'developer_company': '上海新长宁集团',\n",
       " 'number_of_buildings': 30,\n",
       " 'number_of_rooms': 651,\n",
       " 'name': '古南小区',\n",
       " 'location': {'lat': 31.221202, 'lng': 121.40508},\n",
       " 'address': '天山支路50弄1-7号,天山支路100弄1-7号,古北路108弄7-11号,古北路124弄8-14号,古北路136弄11-43号',\n",
       " 'province': '上海市',\n",
       " 'city': '上海市',\n",
       " 'area': '长宁区',\n",
       " 'street_id': '750ec16522869e2a4c3a591d',\n",
       " 'detail': 1,\n",
       " 'uid': '750ec16522869e2a4c3a591d',\n",
       " 'sum_of_prices($/space)': 165620,\n",
       " 'sum_of_prices(total)': 7700000,\n",
       " 'sum_of_area(sq_meters)': 93.07,\n",
       " 'sum_of_floors': 12,\n",
       " 'units_on_sale': 2,\n",
       " 'avg_prices($/space)': 82810.0,\n",
       " 'avg_prices(total)': 3850000.0,\n",
       " 'avg_area(sq_meters)': 46.535,\n",
       " 'avg_floors': 6.0}"
      ]
     },
     "metadata": {},
     "execution_count": 32
    }
   ],
   "source": [
    "updated_compounds_v1[10]"
   ]
  },
  {
   "cell_type": "code",
   "execution_count": 33,
   "metadata": {},
   "outputs": [
    {
     "output_type": "execute_result",
     "data": {
      "text/plain": [
       "{'compound_name': '天山新苑',\n",
       " 'link': 'https://sh.lianjia.com/xiaoqu/5011000017982/',\n",
       " 'available_address': '天山路202弄1-56号',\n",
       " 'year_of_construction': 1998,\n",
       " 'building_type': '板楼',\n",
       " 'management_company': '上海司力物业有限公司',\n",
       " 'developer_company': '上海司力房地产公司',\n",
       " 'number_of_buildings': 51,\n",
       " 'number_of_rooms': 673,\n",
       " 'name': '天山新苑',\n",
       " 'location': {'lat': 31.222608, 'lng': 121.388744},\n",
       " 'address': '天山路202弄1~56号',\n",
       " 'province': '上海市',\n",
       " 'city': '上海市',\n",
       " 'area': '长宁区',\n",
       " 'street_id': 'f2f15ffb38925289631c671c',\n",
       " 'detail': 1,\n",
       " 'uid': 'f2f15ffb38925289631c671c',\n",
       " 'sum_of_prices($/space)': 369135,\n",
       " 'sum_of_prices(total)': 45460000,\n",
       " 'sum_of_area(sq_meters)': 492.7,\n",
       " 'sum_of_floors': 30,\n",
       " 'units_on_sale': 4,\n",
       " 'avg_prices($/space)': 92283.75,\n",
       " 'avg_prices(total)': 11365000.0,\n",
       " 'avg_area(sq_meters)': 123.175,\n",
       " 'avg_floors': 7.5}"
      ]
     },
     "metadata": {},
     "execution_count": 33
    }
   ],
   "source": [
    "updated_compounds_v1[4]"
   ]
  },
  {
   "cell_type": "code",
   "execution_count": 34,
   "metadata": {},
   "outputs": [],
   "source": [
    "import numpy as np\n",
    "import matplotlib.pyplot as plt\n",
    "import seaborn as sns\n",
    "\n",
    "sns.set_theme()\n",
    "\n",
    "%matplotlib inline"
   ]
  },
  {
   "cell_type": "code",
   "execution_count": 35,
   "metadata": {},
   "outputs": [],
   "source": [
    "def create_distribution_plot(compounds, key):\n",
    "    selected_data = np.array([i[key] for i in compounds])\n",
    "    \n",
    "    sns.histplot(x=selected_data, bins=10)\n",
    "\n",
    "    plt.xlabel(key)\n",
    "\n"
   ]
  },
  {
   "cell_type": "code",
   "execution_count": 36,
   "metadata": {},
   "outputs": [
    {
     "output_type": "display_data",
     "data": {
      "text/plain": "<Figure size 432x288 with 1 Axes>",
      "image/svg+xml": "<?xml version=\"1.0\" encoding=\"utf-8\" standalone=\"no\"?>\n<!DOCTYPE svg PUBLIC \"-//W3C//DTD SVG 1.1//EN\"\n  \"http://www.w3.org/Graphics/SVG/1.1/DTD/svg11.dtd\">\n<!-- Created with matplotlib (https://matplotlib.org/) -->\n<svg height=\"266.661094pt\" version=\"1.1\" viewBox=\"0 0 385.908437 266.661094\" width=\"385.908437pt\" xmlns=\"http://www.w3.org/2000/svg\" xmlns:xlink=\"http://www.w3.org/1999/xlink\">\n <metadata>\n  <rdf:RDF xmlns:cc=\"http://creativecommons.org/ns#\" xmlns:dc=\"http://purl.org/dc/elements/1.1/\" xmlns:rdf=\"http://www.w3.org/1999/02/22-rdf-syntax-ns#\">\n   <cc:Work>\n    <dc:type rdf:resource=\"http://purl.org/dc/dcmitype/StillImage\"/>\n    <dc:date>2021-05-21T16:02:13.739408</dc:date>\n    <dc:format>image/svg+xml</dc:format>\n    <dc:creator>\n     <cc:Agent>\n      <dc:title>Matplotlib v3.3.3, https://matplotlib.org/</dc:title>\n     </cc:Agent>\n    </dc:creator>\n   </cc:Work>\n  </rdf:RDF>\n </metadata>\n <defs>\n  <style type=\"text/css\">*{stroke-linecap:butt;stroke-linejoin:round;}</style>\n </defs>\n <g id=\"figure_1\">\n  <g id=\"patch_1\">\n   <path d=\"M 0 266.661094 \nL 385.908437 266.661094 \nL 385.908437 0 \nL 0 0 \nz\n\" style=\"fill:none;\"/>\n  </g>\n  <g id=\"axes_1\">\n   <g id=\"patch_2\">\n    <path d=\"M 43.908438 224.64 \nL 378.708438 224.64 \nL 378.708438 7.2 \nL 43.908438 7.2 \nz\n\" style=\"fill:#eaeaf2;\"/>\n   </g>\n   <g id=\"matplotlib.axis_1\">\n    <g id=\"xtick_1\">\n     <g id=\"line2d_1\">\n      <path clip-path=\"url(#p223537e0aa)\" d=\"M 69.621917 224.64 \nL 69.621917 7.2 \n\" style=\"fill:none;stroke:#ffffff;stroke-linecap:round;\"/>\n     </g>\n     <g id=\"text_1\">\n      <!-- 5 -->\n      <g style=\"fill:#262626;\" transform=\"translate(66.563401 242.013594)scale(0.11 -0.11)\">\n       <defs>\n        <path d=\"M 4.15625 18.75 \nL 13.375 19.53125 \nQ 14.40625 12.796875 18.140625 9.390625 \nQ 21.875 6 27.15625 6 \nQ 33.5 6 37.890625 10.78125 \nQ 42.28125 15.578125 42.28125 23.484375 \nQ 42.28125 31 38.0625 35.34375 \nQ 33.84375 39.703125 27 39.703125 \nQ 22.75 39.703125 19.328125 37.765625 \nQ 15.921875 35.84375 13.96875 32.765625 \nL 5.71875 33.84375 \nL 12.640625 70.609375 \nL 48.25 70.609375 \nL 48.25 62.203125 \nL 19.671875 62.203125 \nL 15.828125 42.96875 \nQ 22.265625 47.46875 29.34375 47.46875 \nQ 38.71875 47.46875 45.15625 40.96875 \nQ 51.609375 34.46875 51.609375 24.265625 \nQ 51.609375 14.546875 45.953125 7.46875 \nQ 39.0625 -1.21875 27.15625 -1.21875 \nQ 17.390625 -1.21875 11.203125 4.25 \nQ 5.03125 9.71875 4.15625 18.75 \nz\n\" id=\"ArialMT-53\"/>\n       </defs>\n       <use xlink:href=\"#ArialMT-53\"/>\n      </g>\n     </g>\n    </g>\n    <g id=\"xtick_2\">\n     <g id=\"line2d_2\">\n      <path clip-path=\"url(#p223537e0aa)\" d=\"M 122.098406 224.64 \nL 122.098406 7.2 \n\" style=\"fill:none;stroke:#ffffff;stroke-linecap:round;\"/>\n     </g>\n     <g id=\"text_2\">\n      <!-- 10 -->\n      <g style=\"fill:#262626;\" transform=\"translate(115.981375 242.013594)scale(0.11 -0.11)\">\n       <defs>\n        <path d=\"M 37.25 0 \nL 28.46875 0 \nL 28.46875 56 \nQ 25.296875 52.984375 20.140625 49.953125 \nQ 14.984375 46.921875 10.890625 45.40625 \nL 10.890625 53.90625 \nQ 18.265625 57.375 23.78125 62.296875 \nQ 29.296875 67.234375 31.59375 71.875 \nL 37.25 71.875 \nz\n\" id=\"ArialMT-49\"/>\n        <path d=\"M 4.15625 35.296875 \nQ 4.15625 48 6.765625 55.734375 \nQ 9.375 63.484375 14.515625 67.671875 \nQ 19.671875 71.875 27.484375 71.875 \nQ 33.25 71.875 37.59375 69.546875 \nQ 41.9375 67.234375 44.765625 62.859375 \nQ 47.609375 58.5 49.21875 52.21875 \nQ 50.828125 45.953125 50.828125 35.296875 \nQ 50.828125 22.703125 48.234375 14.96875 \nQ 45.65625 7.234375 40.5 3 \nQ 35.359375 -1.21875 27.484375 -1.21875 \nQ 17.140625 -1.21875 11.234375 6.203125 \nQ 4.15625 15.140625 4.15625 35.296875 \nz\nM 13.1875 35.296875 \nQ 13.1875 17.671875 17.3125 11.828125 \nQ 21.4375 6 27.484375 6 \nQ 33.546875 6 37.671875 11.859375 \nQ 41.796875 17.71875 41.796875 35.296875 \nQ 41.796875 52.984375 37.671875 58.78125 \nQ 33.546875 64.59375 27.390625 64.59375 \nQ 21.34375 64.59375 17.71875 59.46875 \nQ 13.1875 52.9375 13.1875 35.296875 \nz\n\" id=\"ArialMT-48\"/>\n       </defs>\n       <use xlink:href=\"#ArialMT-49\"/>\n       <use x=\"55.615234\" xlink:href=\"#ArialMT-48\"/>\n      </g>\n     </g>\n    </g>\n    <g id=\"xtick_3\">\n     <g id=\"line2d_3\">\n      <path clip-path=\"url(#p223537e0aa)\" d=\"M 174.574895 224.64 \nL 174.574895 7.2 \n\" style=\"fill:none;stroke:#ffffff;stroke-linecap:round;\"/>\n     </g>\n     <g id=\"text_3\">\n      <!-- 15 -->\n      <g style=\"fill:#262626;\" transform=\"translate(168.457864 242.013594)scale(0.11 -0.11)\">\n       <use xlink:href=\"#ArialMT-49\"/>\n       <use x=\"55.615234\" xlink:href=\"#ArialMT-53\"/>\n      </g>\n     </g>\n    </g>\n    <g id=\"xtick_4\">\n     <g id=\"line2d_4\">\n      <path clip-path=\"url(#p223537e0aa)\" d=\"M 227.051384 224.64 \nL 227.051384 7.2 \n\" style=\"fill:none;stroke:#ffffff;stroke-linecap:round;\"/>\n     </g>\n     <g id=\"text_4\">\n      <!-- 20 -->\n      <g style=\"fill:#262626;\" transform=\"translate(220.934353 242.013594)scale(0.11 -0.11)\">\n       <defs>\n        <path d=\"M 50.34375 8.453125 \nL 50.34375 0 \nL 3.03125 0 \nQ 2.9375 3.171875 4.046875 6.109375 \nQ 5.859375 10.9375 9.828125 15.625 \nQ 13.8125 20.3125 21.34375 26.46875 \nQ 33.015625 36.03125 37.109375 41.625 \nQ 41.21875 47.21875 41.21875 52.203125 \nQ 41.21875 57.421875 37.46875 61 \nQ 33.734375 64.59375 27.734375 64.59375 \nQ 21.390625 64.59375 17.578125 60.78125 \nQ 13.765625 56.984375 13.71875 50.25 \nL 4.6875 51.171875 \nQ 5.609375 61.28125 11.65625 66.578125 \nQ 17.71875 71.875 27.9375 71.875 \nQ 38.234375 71.875 44.234375 66.15625 \nQ 50.25 60.453125 50.25 52 \nQ 50.25 47.703125 48.484375 43.546875 \nQ 46.734375 39.40625 42.65625 34.8125 \nQ 38.578125 30.21875 29.109375 22.21875 \nQ 21.1875 15.578125 18.9375 13.203125 \nQ 16.703125 10.84375 15.234375 8.453125 \nz\n\" id=\"ArialMT-50\"/>\n       </defs>\n       <use xlink:href=\"#ArialMT-50\"/>\n       <use x=\"55.615234\" xlink:href=\"#ArialMT-48\"/>\n      </g>\n     </g>\n    </g>\n    <g id=\"xtick_5\">\n     <g id=\"line2d_5\">\n      <path clip-path=\"url(#p223537e0aa)\" d=\"M 279.527873 224.64 \nL 279.527873 7.2 \n\" style=\"fill:none;stroke:#ffffff;stroke-linecap:round;\"/>\n     </g>\n     <g id=\"text_5\">\n      <!-- 25 -->\n      <g style=\"fill:#262626;\" transform=\"translate(273.410842 242.013594)scale(0.11 -0.11)\">\n       <use xlink:href=\"#ArialMT-50\"/>\n       <use x=\"55.615234\" xlink:href=\"#ArialMT-53\"/>\n      </g>\n     </g>\n    </g>\n    <g id=\"xtick_6\">\n     <g id=\"line2d_6\">\n      <path clip-path=\"url(#p223537e0aa)\" d=\"M 332.004362 224.64 \nL 332.004362 7.2 \n\" style=\"fill:none;stroke:#ffffff;stroke-linecap:round;\"/>\n     </g>\n     <g id=\"text_6\">\n      <!-- 30 -->\n      <g style=\"fill:#262626;\" transform=\"translate(325.887331 242.013594)scale(0.11 -0.11)\">\n       <defs>\n        <path d=\"M 4.203125 18.890625 \nL 12.984375 20.0625 \nQ 14.5 12.59375 18.140625 9.296875 \nQ 21.78125 6 27 6 \nQ 33.203125 6 37.46875 10.296875 \nQ 41.75 14.59375 41.75 20.953125 \nQ 41.75 27 37.796875 30.921875 \nQ 33.84375 34.859375 27.734375 34.859375 \nQ 25.25 34.859375 21.53125 33.890625 \nL 22.515625 41.609375 \nQ 23.390625 41.5 23.921875 41.5 \nQ 29.546875 41.5 34.03125 44.421875 \nQ 38.53125 47.359375 38.53125 53.46875 \nQ 38.53125 58.296875 35.25 61.46875 \nQ 31.984375 64.65625 26.8125 64.65625 \nQ 21.6875 64.65625 18.265625 61.421875 \nQ 14.84375 58.203125 13.875 51.765625 \nL 5.078125 53.328125 \nQ 6.6875 62.15625 12.390625 67.015625 \nQ 18.109375 71.875 26.609375 71.875 \nQ 32.46875 71.875 37.390625 69.359375 \nQ 42.328125 66.84375 44.9375 62.5 \nQ 47.5625 58.15625 47.5625 53.265625 \nQ 47.5625 48.640625 45.0625 44.828125 \nQ 42.578125 41.015625 37.703125 38.765625 \nQ 44.046875 37.3125 47.5625 32.6875 \nQ 51.078125 28.078125 51.078125 21.140625 \nQ 51.078125 11.765625 44.234375 5.25 \nQ 37.40625 -1.265625 26.953125 -1.265625 \nQ 17.53125 -1.265625 11.296875 4.34375 \nQ 5.078125 9.96875 4.203125 18.890625 \nz\n\" id=\"ArialMT-51\"/>\n       </defs>\n       <use xlink:href=\"#ArialMT-51\"/>\n       <use x=\"55.615234\" xlink:href=\"#ArialMT-48\"/>\n      </g>\n     </g>\n    </g>\n    <g id=\"text_7\">\n     <!-- avg_floors -->\n     <g style=\"fill:#262626;\" transform=\"translate(183.627813 256.935469)scale(0.12 -0.12)\">\n      <defs>\n       <path d=\"M 40.4375 6.390625 \nQ 35.546875 2.25 31.03125 0.53125 \nQ 26.515625 -1.171875 21.34375 -1.171875 \nQ 12.796875 -1.171875 8.203125 3 \nQ 3.609375 7.171875 3.609375 13.671875 \nQ 3.609375 17.484375 5.34375 20.625 \nQ 7.078125 23.78125 9.890625 25.6875 \nQ 12.703125 27.59375 16.21875 28.5625 \nQ 18.796875 29.25 24.03125 29.890625 \nQ 34.671875 31.15625 39.703125 32.90625 \nQ 39.75 34.71875 39.75 35.203125 \nQ 39.75 40.578125 37.25 42.78125 \nQ 33.890625 45.75 27.25 45.75 \nQ 21.046875 45.75 18.09375 43.578125 \nQ 15.140625 41.40625 13.71875 35.890625 \nL 5.125 37.0625 \nQ 6.296875 42.578125 8.984375 45.96875 \nQ 11.671875 49.359375 16.75 51.1875 \nQ 21.828125 53.03125 28.515625 53.03125 \nQ 35.15625 53.03125 39.296875 51.46875 \nQ 43.453125 49.90625 45.40625 47.53125 \nQ 47.359375 45.171875 48.140625 41.546875 \nQ 48.578125 39.3125 48.578125 33.453125 \nL 48.578125 21.734375 \nQ 48.578125 9.46875 49.140625 6.21875 \nQ 49.703125 2.984375 51.375 0 \nL 42.1875 0 \nQ 40.828125 2.734375 40.4375 6.390625 \nz\nM 39.703125 26.03125 \nQ 34.90625 24.078125 25.34375 22.703125 \nQ 19.921875 21.921875 17.671875 20.9375 \nQ 15.4375 19.96875 14.203125 18.09375 \nQ 12.984375 16.21875 12.984375 13.921875 \nQ 12.984375 10.40625 15.640625 8.0625 \nQ 18.3125 5.71875 23.4375 5.71875 \nQ 28.515625 5.71875 32.46875 7.9375 \nQ 36.421875 10.15625 38.28125 14.015625 \nQ 39.703125 17 39.703125 22.796875 \nz\n\" id=\"ArialMT-97\"/>\n       <path d=\"M 21 0 \nL 1.265625 51.859375 \nL 10.546875 51.859375 \nL 21.6875 20.796875 \nQ 23.484375 15.765625 25 10.359375 \nQ 26.171875 14.453125 28.265625 20.21875 \nL 39.796875 51.859375 \nL 48.828125 51.859375 \nL 29.203125 0 \nz\n\" id=\"ArialMT-118\"/>\n       <path d=\"M 4.984375 -4.296875 \nL 13.53125 -5.5625 \nQ 14.0625 -9.515625 16.5 -11.328125 \nQ 19.78125 -13.765625 25.4375 -13.765625 \nQ 31.546875 -13.765625 34.859375 -11.328125 \nQ 38.1875 -8.890625 39.359375 -4.5 \nQ 40.046875 -1.8125 39.984375 6.78125 \nQ 34.234375 0 25.640625 0 \nQ 14.9375 0 9.078125 7.71875 \nQ 3.21875 15.4375 3.21875 26.21875 \nQ 3.21875 33.640625 5.90625 39.90625 \nQ 8.59375 46.1875 13.6875 49.609375 \nQ 18.796875 53.03125 25.6875 53.03125 \nQ 34.859375 53.03125 40.828125 45.609375 \nL 40.828125 51.859375 \nL 48.921875 51.859375 \nL 48.921875 7.03125 \nQ 48.921875 -5.078125 46.453125 -10.125 \nQ 44 -15.1875 38.640625 -18.109375 \nQ 33.296875 -21.046875 25.484375 -21.046875 \nQ 16.21875 -21.046875 10.5 -16.875 \nQ 4.78125 -12.703125 4.984375 -4.296875 \nz\nM 12.25 26.859375 \nQ 12.25 16.65625 16.296875 11.96875 \nQ 20.359375 7.28125 26.46875 7.28125 \nQ 32.515625 7.28125 36.609375 11.9375 \nQ 40.71875 16.609375 40.71875 26.5625 \nQ 40.71875 36.078125 36.5 40.90625 \nQ 32.28125 45.75 26.3125 45.75 \nQ 20.453125 45.75 16.34375 40.984375 \nQ 12.25 36.234375 12.25 26.859375 \nz\n\" id=\"ArialMT-103\"/>\n       <path d=\"M -1.515625 -19.875 \nL -1.515625 -13.53125 \nL 56.734375 -13.53125 \nL 56.734375 -19.875 \nz\n\" id=\"ArialMT-95\"/>\n       <path d=\"M 8.6875 0 \nL 8.6875 45.015625 \nL 0.921875 45.015625 \nL 0.921875 51.859375 \nL 8.6875 51.859375 \nL 8.6875 57.375 \nQ 8.6875 62.59375 9.625 65.140625 \nQ 10.890625 68.5625 14.078125 70.671875 \nQ 17.28125 72.796875 23.046875 72.796875 \nQ 26.765625 72.796875 31.25 71.921875 \nL 29.9375 64.265625 \nQ 27.203125 64.75 24.75 64.75 \nQ 20.75 64.75 19.09375 63.03125 \nQ 17.4375 61.328125 17.4375 56.640625 \nL 17.4375 51.859375 \nL 27.546875 51.859375 \nL 27.546875 45.015625 \nL 17.4375 45.015625 \nL 17.4375 0 \nz\n\" id=\"ArialMT-102\"/>\n       <path d=\"M 6.390625 0 \nL 6.390625 71.578125 \nL 15.1875 71.578125 \nL 15.1875 0 \nz\n\" id=\"ArialMT-108\"/>\n       <path d=\"M 3.328125 25.921875 \nQ 3.328125 40.328125 11.328125 47.265625 \nQ 18.015625 53.03125 27.640625 53.03125 \nQ 38.328125 53.03125 45.109375 46.015625 \nQ 51.90625 39.015625 51.90625 26.65625 \nQ 51.90625 16.65625 48.90625 10.90625 \nQ 45.90625 5.171875 40.15625 2 \nQ 34.421875 -1.171875 27.640625 -1.171875 \nQ 16.75 -1.171875 10.03125 5.8125 \nQ 3.328125 12.796875 3.328125 25.921875 \nz\nM 12.359375 25.921875 \nQ 12.359375 15.96875 16.703125 11.015625 \nQ 21.046875 6.0625 27.640625 6.0625 \nQ 34.1875 6.0625 38.53125 11.03125 \nQ 42.875 16.015625 42.875 26.21875 \nQ 42.875 35.84375 38.5 40.796875 \nQ 34.125 45.75 27.640625 45.75 \nQ 21.046875 45.75 16.703125 40.8125 \nQ 12.359375 35.890625 12.359375 25.921875 \nz\n\" id=\"ArialMT-111\"/>\n       <path d=\"M 6.5 0 \nL 6.5 51.859375 \nL 14.40625 51.859375 \nL 14.40625 44 \nQ 17.4375 49.515625 20 51.265625 \nQ 22.5625 53.03125 25.640625 53.03125 \nQ 30.078125 53.03125 34.671875 50.203125 \nL 31.640625 42.046875 \nQ 28.421875 43.953125 25.203125 43.953125 \nQ 22.3125 43.953125 20.015625 42.21875 \nQ 17.71875 40.484375 16.75 37.40625 \nQ 15.28125 32.71875 15.28125 27.15625 \nL 15.28125 0 \nz\n\" id=\"ArialMT-114\"/>\n       <path d=\"M 3.078125 15.484375 \nL 11.765625 16.84375 \nQ 12.5 11.625 15.84375 8.84375 \nQ 19.1875 6.0625 25.203125 6.0625 \nQ 31.25 6.0625 34.171875 8.515625 \nQ 37.109375 10.984375 37.109375 14.3125 \nQ 37.109375 17.28125 34.515625 19 \nQ 32.71875 20.171875 25.53125 21.96875 \nQ 15.875 24.421875 12.140625 26.203125 \nQ 8.40625 27.984375 6.46875 31.125 \nQ 4.546875 34.28125 4.546875 38.09375 \nQ 4.546875 41.546875 6.125 44.5 \nQ 7.71875 47.46875 10.453125 49.421875 \nQ 12.5 50.921875 16.03125 51.96875 \nQ 19.578125 53.03125 23.640625 53.03125 \nQ 29.734375 53.03125 34.34375 51.265625 \nQ 38.96875 49.515625 41.15625 46.5 \nQ 43.359375 43.5 44.1875 38.484375 \nL 35.59375 37.3125 \nQ 35.015625 41.3125 32.203125 43.546875 \nQ 29.390625 45.796875 24.265625 45.796875 \nQ 18.21875 45.796875 15.625 43.796875 \nQ 13.03125 41.796875 13.03125 39.109375 \nQ 13.03125 37.40625 14.109375 36.03125 \nQ 15.1875 34.625 17.484375 33.6875 \nQ 18.796875 33.203125 25.25 31.453125 \nQ 34.578125 28.953125 38.25 27.359375 \nQ 41.9375 25.78125 44.03125 22.75 \nQ 46.140625 19.734375 46.140625 15.234375 \nQ 46.140625 10.84375 43.578125 6.953125 \nQ 41.015625 3.078125 36.171875 0.953125 \nQ 31.34375 -1.171875 25.25 -1.171875 \nQ 15.140625 -1.171875 9.84375 3.03125 \nQ 4.546875 7.234375 3.078125 15.484375 \nz\n\" id=\"ArialMT-115\"/>\n      </defs>\n      <use xlink:href=\"#ArialMT-97\"/>\n      <use x=\"55.615234\" xlink:href=\"#ArialMT-118\"/>\n      <use x=\"105.615234\" xlink:href=\"#ArialMT-103\"/>\n      <use x=\"161.230469\" xlink:href=\"#ArialMT-95\"/>\n      <use x=\"216.845703\" xlink:href=\"#ArialMT-102\"/>\n      <use x=\"244.628906\" xlink:href=\"#ArialMT-108\"/>\n      <use x=\"266.845703\" xlink:href=\"#ArialMT-111\"/>\n      <use x=\"322.460938\" xlink:href=\"#ArialMT-111\"/>\n      <use x=\"378.076172\" xlink:href=\"#ArialMT-114\"/>\n      <use x=\"411.376953\" xlink:href=\"#ArialMT-115\"/>\n     </g>\n    </g>\n   </g>\n   <g id=\"matplotlib.axis_2\">\n    <g id=\"ytick_1\">\n     <g id=\"line2d_7\">\n      <path clip-path=\"url(#p223537e0aa)\" d=\"M 43.908438 224.64 \nL 378.708438 224.64 \n\" style=\"fill:none;stroke:#ffffff;stroke-linecap:round;\"/>\n     </g>\n     <g id=\"text_8\">\n      <!-- 0 -->\n      <g style=\"fill:#262626;\" transform=\"translate(28.291406 228.576797)scale(0.11 -0.11)\">\n       <use xlink:href=\"#ArialMT-48\"/>\n      </g>\n     </g>\n    </g>\n    <g id=\"ytick_2\">\n     <g id=\"line2d_8\">\n      <path clip-path=\"url(#p223537e0aa)\" d=\"M 43.908438 192.780659 \nL 378.708438 192.780659 \n\" style=\"fill:none;stroke:#ffffff;stroke-linecap:round;\"/>\n     </g>\n     <g id=\"text_9\">\n      <!-- 2 -->\n      <g style=\"fill:#262626;\" transform=\"translate(28.291406 196.717456)scale(0.11 -0.11)\">\n       <use xlink:href=\"#ArialMT-50\"/>\n      </g>\n     </g>\n    </g>\n    <g id=\"ytick_3\">\n     <g id=\"line2d_9\">\n      <path clip-path=\"url(#p223537e0aa)\" d=\"M 43.908438 160.921319 \nL 378.708438 160.921319 \n\" style=\"fill:none;stroke:#ffffff;stroke-linecap:round;\"/>\n     </g>\n     <g id=\"text_10\">\n      <!-- 4 -->\n      <g style=\"fill:#262626;\" transform=\"translate(28.291406 164.858116)scale(0.11 -0.11)\">\n       <defs>\n        <path d=\"M 32.328125 0 \nL 32.328125 17.140625 \nL 1.265625 17.140625 \nL 1.265625 25.203125 \nL 33.9375 71.578125 \nL 41.109375 71.578125 \nL 41.109375 25.203125 \nL 50.78125 25.203125 \nL 50.78125 17.140625 \nL 41.109375 17.140625 \nL 41.109375 0 \nz\nM 32.328125 25.203125 \nL 32.328125 57.46875 \nL 9.90625 25.203125 \nz\n\" id=\"ArialMT-52\"/>\n       </defs>\n       <use xlink:href=\"#ArialMT-52\"/>\n      </g>\n     </g>\n    </g>\n    <g id=\"ytick_4\">\n     <g id=\"line2d_10\">\n      <path clip-path=\"url(#p223537e0aa)\" d=\"M 43.908438 129.061978 \nL 378.708438 129.061978 \n\" style=\"fill:none;stroke:#ffffff;stroke-linecap:round;\"/>\n     </g>\n     <g id=\"text_11\">\n      <!-- 6 -->\n      <g style=\"fill:#262626;\" transform=\"translate(28.291406 132.998775)scale(0.11 -0.11)\">\n       <defs>\n        <path d=\"M 49.75 54.046875 \nL 41.015625 53.375 \nQ 39.84375 58.546875 37.703125 60.890625 \nQ 34.125 64.65625 28.90625 64.65625 \nQ 24.703125 64.65625 21.53125 62.3125 \nQ 17.390625 59.28125 14.984375 53.46875 \nQ 12.59375 47.65625 12.5 36.921875 \nQ 15.671875 41.75 20.265625 44.09375 \nQ 24.859375 46.4375 29.890625 46.4375 \nQ 38.671875 46.4375 44.84375 39.96875 \nQ 51.03125 33.5 51.03125 23.25 \nQ 51.03125 16.5 48.125 10.71875 \nQ 45.21875 4.9375 40.140625 1.859375 \nQ 35.0625 -1.21875 28.609375 -1.21875 \nQ 17.625 -1.21875 10.6875 6.859375 \nQ 3.765625 14.9375 3.765625 33.5 \nQ 3.765625 54.25 11.421875 63.671875 \nQ 18.109375 71.875 29.4375 71.875 \nQ 37.890625 71.875 43.28125 67.140625 \nQ 48.6875 62.40625 49.75 54.046875 \nz\nM 13.875 23.1875 \nQ 13.875 18.65625 15.796875 14.5 \nQ 17.71875 10.359375 21.1875 8.171875 \nQ 24.65625 6 28.46875 6 \nQ 34.03125 6 38.03125 10.484375 \nQ 42.046875 14.984375 42.046875 22.703125 \nQ 42.046875 30.125 38.078125 34.390625 \nQ 34.125 38.671875 28.125 38.671875 \nQ 22.171875 38.671875 18.015625 34.390625 \nQ 13.875 30.125 13.875 23.1875 \nz\n\" id=\"ArialMT-54\"/>\n       </defs>\n       <use xlink:href=\"#ArialMT-54\"/>\n      </g>\n     </g>\n    </g>\n    <g id=\"ytick_5\">\n     <g id=\"line2d_11\">\n      <path clip-path=\"url(#p223537e0aa)\" d=\"M 43.908438 97.202637 \nL 378.708438 97.202637 \n\" style=\"fill:none;stroke:#ffffff;stroke-linecap:round;\"/>\n     </g>\n     <g id=\"text_12\">\n      <!-- 8 -->\n      <g style=\"fill:#262626;\" transform=\"translate(28.291406 101.139434)scale(0.11 -0.11)\">\n       <defs>\n        <path d=\"M 17.671875 38.8125 \nQ 12.203125 40.828125 9.5625 44.53125 \nQ 6.9375 48.25 6.9375 53.421875 \nQ 6.9375 61.234375 12.546875 66.546875 \nQ 18.171875 71.875 27.484375 71.875 \nQ 36.859375 71.875 42.578125 66.421875 \nQ 48.296875 60.984375 48.296875 53.171875 \nQ 48.296875 48.1875 45.671875 44.5 \nQ 43.0625 40.828125 37.75 38.8125 \nQ 44.34375 36.671875 47.78125 31.875 \nQ 51.21875 27.09375 51.21875 20.453125 \nQ 51.21875 11.28125 44.71875 5.03125 \nQ 38.234375 -1.21875 27.640625 -1.21875 \nQ 17.046875 -1.21875 10.546875 5.046875 \nQ 4.046875 11.328125 4.046875 20.703125 \nQ 4.046875 27.6875 7.59375 32.390625 \nQ 11.140625 37.109375 17.671875 38.8125 \nz\nM 15.921875 53.71875 \nQ 15.921875 48.640625 19.1875 45.40625 \nQ 22.46875 42.1875 27.6875 42.1875 \nQ 32.765625 42.1875 36.015625 45.375 \nQ 39.265625 48.578125 39.265625 53.21875 \nQ 39.265625 58.0625 35.90625 61.359375 \nQ 32.5625 64.65625 27.59375 64.65625 \nQ 22.5625 64.65625 19.234375 61.421875 \nQ 15.921875 58.203125 15.921875 53.71875 \nz\nM 13.09375 20.65625 \nQ 13.09375 16.890625 14.875 13.375 \nQ 16.65625 9.859375 20.171875 7.921875 \nQ 23.6875 6 27.734375 6 \nQ 34.03125 6 38.125 10.046875 \nQ 42.234375 14.109375 42.234375 20.359375 \nQ 42.234375 26.703125 38.015625 30.859375 \nQ 33.796875 35.015625 27.4375 35.015625 \nQ 21.234375 35.015625 17.15625 30.90625 \nQ 13.09375 26.8125 13.09375 20.65625 \nz\n\" id=\"ArialMT-56\"/>\n       </defs>\n       <use xlink:href=\"#ArialMT-56\"/>\n      </g>\n     </g>\n    </g>\n    <g id=\"ytick_6\">\n     <g id=\"line2d_12\">\n      <path clip-path=\"url(#p223537e0aa)\" d=\"M 43.908438 65.343297 \nL 378.708438 65.343297 \n\" style=\"fill:none;stroke:#ffffff;stroke-linecap:round;\"/>\n     </g>\n     <g id=\"text_13\">\n      <!-- 10 -->\n      <g style=\"fill:#262626;\" transform=\"translate(22.174375 69.280094)scale(0.11 -0.11)\">\n       <use xlink:href=\"#ArialMT-49\"/>\n       <use x=\"55.615234\" xlink:href=\"#ArialMT-48\"/>\n      </g>\n     </g>\n    </g>\n    <g id=\"ytick_7\">\n     <g id=\"line2d_13\">\n      <path clip-path=\"url(#p223537e0aa)\" d=\"M 43.908438 33.483956 \nL 378.708438 33.483956 \n\" style=\"fill:none;stroke:#ffffff;stroke-linecap:round;\"/>\n     </g>\n     <g id=\"text_14\">\n      <!-- 12 -->\n      <g style=\"fill:#262626;\" transform=\"translate(22.174375 37.420753)scale(0.11 -0.11)\">\n       <use xlink:href=\"#ArialMT-49\"/>\n       <use x=\"55.615234\" xlink:href=\"#ArialMT-50\"/>\n      </g>\n     </g>\n    </g>\n    <g id=\"text_15\">\n     <!-- Count -->\n     <g style=\"fill:#262626;\" transform=\"translate(15.789375 131.929688)rotate(-90)scale(0.12 -0.12)\">\n      <defs>\n       <path d=\"M 58.796875 25.09375 \nL 68.265625 22.703125 \nQ 65.28125 11.03125 57.546875 4.90625 \nQ 49.8125 -1.21875 38.625 -1.21875 \nQ 27.046875 -1.21875 19.796875 3.484375 \nQ 12.546875 8.203125 8.765625 17.140625 \nQ 4.984375 26.078125 4.984375 36.328125 \nQ 4.984375 47.515625 9.25 55.828125 \nQ 13.53125 64.15625 21.40625 68.46875 \nQ 29.296875 72.796875 38.765625 72.796875 \nQ 49.515625 72.796875 56.828125 67.328125 \nQ 64.15625 61.859375 67.046875 51.953125 \nL 57.71875 49.75 \nQ 55.21875 57.5625 50.484375 61.125 \nQ 45.75 64.703125 38.578125 64.703125 \nQ 30.328125 64.703125 24.78125 60.734375 \nQ 19.234375 56.78125 16.984375 50.109375 \nQ 14.75 43.453125 14.75 36.375 \nQ 14.75 27.25 17.40625 20.4375 \nQ 20.0625 13.625 25.671875 10.25 \nQ 31.296875 6.890625 37.84375 6.890625 \nQ 45.796875 6.890625 51.3125 11.46875 \nQ 56.84375 16.0625 58.796875 25.09375 \nz\n\" id=\"ArialMT-67\"/>\n       <path d=\"M 40.578125 0 \nL 40.578125 7.625 \nQ 34.515625 -1.171875 24.125 -1.171875 \nQ 19.53125 -1.171875 15.546875 0.578125 \nQ 11.578125 2.34375 9.640625 5 \nQ 7.71875 7.671875 6.9375 11.53125 \nQ 6.390625 14.109375 6.390625 19.734375 \nL 6.390625 51.859375 \nL 15.1875 51.859375 \nL 15.1875 23.09375 \nQ 15.1875 16.21875 15.71875 13.8125 \nQ 16.546875 10.359375 19.234375 8.375 \nQ 21.921875 6.390625 25.875 6.390625 \nQ 29.828125 6.390625 33.296875 8.421875 \nQ 36.765625 10.453125 38.203125 13.9375 \nQ 39.65625 17.4375 39.65625 24.078125 \nL 39.65625 51.859375 \nL 48.4375 51.859375 \nL 48.4375 0 \nz\n\" id=\"ArialMT-117\"/>\n       <path d=\"M 6.59375 0 \nL 6.59375 51.859375 \nL 14.5 51.859375 \nL 14.5 44.484375 \nQ 20.21875 53.03125 31 53.03125 \nQ 35.6875 53.03125 39.625 51.34375 \nQ 43.5625 49.65625 45.515625 46.921875 \nQ 47.46875 44.1875 48.25 40.4375 \nQ 48.734375 37.984375 48.734375 31.890625 \nL 48.734375 0 \nL 39.9375 0 \nL 39.9375 31.546875 \nQ 39.9375 36.921875 38.90625 39.578125 \nQ 37.890625 42.234375 35.28125 43.8125 \nQ 32.671875 45.40625 29.15625 45.40625 \nQ 23.53125 45.40625 19.453125 41.84375 \nQ 15.375 38.28125 15.375 28.328125 \nL 15.375 0 \nz\n\" id=\"ArialMT-110\"/>\n       <path d=\"M 25.78125 7.859375 \nL 27.046875 0.09375 \nQ 23.34375 -0.6875 20.40625 -0.6875 \nQ 15.625 -0.6875 12.984375 0.828125 \nQ 10.359375 2.34375 9.28125 4.8125 \nQ 8.203125 7.28125 8.203125 15.1875 \nL 8.203125 45.015625 \nL 1.765625 45.015625 \nL 1.765625 51.859375 \nL 8.203125 51.859375 \nL 8.203125 64.703125 \nL 16.9375 69.96875 \nL 16.9375 51.859375 \nL 25.78125 51.859375 \nL 25.78125 45.015625 \nL 16.9375 45.015625 \nL 16.9375 14.703125 \nQ 16.9375 10.9375 17.40625 9.859375 \nQ 17.875 8.796875 18.921875 8.15625 \nQ 19.96875 7.515625 21.921875 7.515625 \nQ 23.390625 7.515625 25.78125 7.859375 \nz\n\" id=\"ArialMT-116\"/>\n      </defs>\n      <use xlink:href=\"#ArialMT-67\"/>\n      <use x=\"72.216797\" xlink:href=\"#ArialMT-111\"/>\n      <use x=\"127.832031\" xlink:href=\"#ArialMT-117\"/>\n      <use x=\"183.447266\" xlink:href=\"#ArialMT-110\"/>\n      <use x=\"239.0625\" xlink:href=\"#ArialMT-116\"/>\n     </g>\n    </g>\n   </g>\n   <g id=\"patch_3\">\n    <path clip-path=\"url(#p223537e0aa)\" d=\"M 59.126619 224.64 \nL 89.562983 224.64 \nL 89.562983 17.554286 \nL 59.126619 17.554286 \nz\n\" style=\"fill:#4c72b0;fill-opacity:0.75;stroke:#ffffff;stroke-linejoin:miter;\"/>\n   </g>\n   <g id=\"patch_4\">\n    <path clip-path=\"url(#p223537e0aa)\" d=\"M 89.562983 224.64 \nL 119.999347 224.64 \nL 119.999347 160.921319 \nL 89.562983 160.921319 \nz\n\" style=\"fill:#4c72b0;fill-opacity:0.75;stroke:#ffffff;stroke-linejoin:miter;\"/>\n   </g>\n   <g id=\"patch_5\">\n    <path clip-path=\"url(#p223537e0aa)\" d=\"M 119.999347 224.64 \nL 150.43571 224.64 \nL 150.43571 144.991648 \nL 119.999347 144.991648 \nz\n\" style=\"fill:#4c72b0;fill-opacity:0.75;stroke:#ffffff;stroke-linejoin:miter;\"/>\n   </g>\n   <g id=\"patch_6\">\n    <path clip-path=\"url(#p223537e0aa)\" d=\"M 150.43571 224.64 \nL 180.872074 224.64 \nL 180.872074 160.921319 \nL 150.43571 160.921319 \nz\n\" style=\"fill:#4c72b0;fill-opacity:0.75;stroke:#ffffff;stroke-linejoin:miter;\"/>\n   </g>\n   <g id=\"patch_7\">\n    <path clip-path=\"url(#p223537e0aa)\" d=\"M 180.872074 224.64 \nL 211.308437 224.64 \nL 211.308437 208.71033 \nL 180.872074 208.71033 \nz\n\" style=\"fill:#4c72b0;fill-opacity:0.75;stroke:#ffffff;stroke-linejoin:miter;\"/>\n   </g>\n   <g id=\"patch_8\">\n    <path clip-path=\"url(#p223537e0aa)\" d=\"M 211.308437 224.64 \nL 241.744801 224.64 \nL 241.744801 160.921319 \nL 211.308437 160.921319 \nz\n\" style=\"fill:#4c72b0;fill-opacity:0.75;stroke:#ffffff;stroke-linejoin:miter;\"/>\n   </g>\n   <g id=\"patch_9\">\n    <path clip-path=\"url(#p223537e0aa)\" d=\"M 241.744801 224.64 \nL 272.181165 224.64 \nL 272.181165 208.71033 \nL 241.744801 208.71033 \nz\n\" style=\"fill:#4c72b0;fill-opacity:0.75;stroke:#ffffff;stroke-linejoin:miter;\"/>\n   </g>\n   <g id=\"patch_10\">\n    <path clip-path=\"url(#p223537e0aa)\" d=\"M 272.181165 224.64 \nL 302.617528 224.64 \nL 302.617528 192.780659 \nL 272.181165 192.780659 \nz\n\" style=\"fill:#4c72b0;fill-opacity:0.75;stroke:#ffffff;stroke-linejoin:miter;\"/>\n   </g>\n   <g id=\"patch_11\">\n    <path clip-path=\"url(#p223537e0aa)\" d=\"M 302.617528 224.64 \nL 333.053892 224.64 \nL 333.053892 192.780659 \nL 302.617528 192.780659 \nz\n\" style=\"fill:#4c72b0;fill-opacity:0.75;stroke:#ffffff;stroke-linejoin:miter;\"/>\n   </g>\n   <g id=\"patch_12\">\n    <path clip-path=\"url(#p223537e0aa)\" d=\"M 333.053892 224.64 \nL 363.490256 224.64 \nL 363.490256 192.780659 \nL 333.053892 192.780659 \nz\n\" style=\"fill:#4c72b0;fill-opacity:0.75;stroke:#ffffff;stroke-linejoin:miter;\"/>\n   </g>\n   <g id=\"patch_13\">\n    <path d=\"M 43.908438 224.64 \nL 43.908438 7.2 \n\" style=\"fill:none;stroke:#ffffff;stroke-linecap:square;stroke-linejoin:miter;stroke-width:1.25;\"/>\n   </g>\n   <g id=\"patch_14\">\n    <path d=\"M 378.708438 224.64 \nL 378.708438 7.2 \n\" style=\"fill:none;stroke:#ffffff;stroke-linecap:square;stroke-linejoin:miter;stroke-width:1.25;\"/>\n   </g>\n   <g id=\"patch_15\">\n    <path d=\"M 43.908438 224.64 \nL 378.708438 224.64 \n\" style=\"fill:none;stroke:#ffffff;stroke-linecap:square;stroke-linejoin:miter;stroke-width:1.25;\"/>\n   </g>\n   <g id=\"patch_16\">\n    <path d=\"M 43.908438 7.2 \nL 378.708438 7.2 \n\" style=\"fill:none;stroke:#ffffff;stroke-linecap:square;stroke-linejoin:miter;stroke-width:1.25;\"/>\n   </g>\n  </g>\n </g>\n <defs>\n  <clipPath id=\"p223537e0aa\">\n   <rect height=\"217.44\" width=\"334.8\" x=\"43.908438\" y=\"7.2\"/>\n  </clipPath>\n </defs>\n</svg>\n",
      "image/png": "[encoded data removed]"
     },
     "metadata": {
      "needs_background": "light"
     }
    }
   ],
   "source": [
    "create_distribution_plot(updated_compounds_v1, 'avg_floors')"
   ]
  },
  {
   "cell_type": "code",
   "execution_count": 37,
   "metadata": {},
   "outputs": [
    {
     "output_type": "execute_result",
     "data": {
      "text/plain": [
       "{'compound_name': '泰荣苑',\n",
       " 'link': 'https://sh.lianjia.com/xiaoqu/5011000018279/',\n",
       " 'available_address': '水城路680弄',\n",
       " 'year_of_construction': 2002,\n",
       " 'building_type': '板楼/塔板结合',\n",
       " 'management_company': '上海长宁顿肯房地产开发经营有限公司',\n",
       " 'developer_company': '上海长宁顿肯房地产开发经营有限公司',\n",
       " 'number_of_buildings': 2,\n",
       " 'number_of_rooms': 244,\n",
       " 'name': '泰荣苑',\n",
       " 'location': {'lat': 31.217847, 'lng': 121.398512},\n",
       " 'address': '水城路680弄1-2号',\n",
       " 'province': '上海市',\n",
       " 'city': '上海市',\n",
       " 'area': '长宁区',\n",
       " 'street_id': '49d959385e7f6542c61e511c',\n",
       " 'detail': 1,\n",
       " 'uid': '49d959385e7f6542c61e511c',\n",
       " 'sum_of_prices($/space)': 97530,\n",
       " 'sum_of_prices(total)': 15750000,\n",
       " 'sum_of_area(sq_meters)': 161.49,\n",
       " 'sum_of_floors': 33,\n",
       " 'units_on_sale': 1,\n",
       " 'avg_prices($/space)': 97530.0,\n",
       " 'avg_prices(total)': 15750000.0,\n",
       " 'avg_area(sq_meters)': 161.49,\n",
       " 'avg_floors': 33.0}"
      ]
     },
     "metadata": {},
     "execution_count": 37
    }
   ],
   "source": [
    "selected_data = np.array([i['avg_floors'] for i in updated_compounds_v1])\n",
    "updated_compounds_v1[np.argmax(selected_data)]\n"
   ]
  },
  {
   "cell_type": "code",
   "execution_count": 38,
   "metadata": {},
   "outputs": [],
   "source": [
    "with open('detailed_compounds.json', 'w') as compound_json:\n",
    "    json.dump(updated_compounds_v1, compound_json, ensure_ascii=False)"
   ]
  },
  {
   "cell_type": "code",
   "execution_count": 97,
   "metadata": {},
   "outputs": [
    {
     "output_type": "execute_result",
     "data": {
      "text/plain": [
       "(32, 56, 3)"
      ]
     },
     "metadata": {},
     "execution_count": 97
    }
   ],
   "source": [
    "from PIL import Image\n",
    "\n",
    "base_icon = Image.open('recolorable_pointer.png')\n",
    "\n",
    "icon_arr = np.array(base_icon)\n",
    "icon_expanded = np.repeat(icon_arr, 3, -1).reshape(32,56,3)\n",
    "icon_expanded.shape\n"
   ]
  },
  {
   "cell_type": "code",
   "execution_count": 100,
   "metadata": {},
   "outputs": [],
   "source": [
    "icon_refreshed_ls = []\n",
    "for n in icon_expanded.flatten():\n",
    "    if n != 0:\n",
    "        icon_refreshed_ls.append(0)\n",
    "    else:\n",
    "        icon_refreshed_ls.append(255)"
   ]
  },
  {
   "cell_type": "code",
   "execution_count": 101,
   "metadata": {},
   "outputs": [],
   "source": [
    "icon_refreshed = np.array(icon_refreshed_ls).reshape(32,56,3)"
   ]
  },
  {
   "cell_type": "code",
   "execution_count": 102,
   "metadata": {},
   "outputs": [],
   "source": [
    "\n",
    "try_im = Image.fromarray(icon_refreshed.astype(np.uint8))\n",
    "try_im.show()"
   ]
  },
  {
   "cell_type": "code",
   "execution_count": 103,
   "metadata": {},
   "outputs": [],
   "source": [
    "from colour import Color"
   ]
  },
  {
   "cell_type": "code",
   "execution_count": 105,
   "metadata": {},
   "outputs": [],
   "source": [
    "ls = icon_refreshed.tolist()"
   ]
  },
  {
   "cell_type": "code",
   "execution_count": 106,
   "metadata": {},
   "outputs": [
    {
     "output_type": "execute_result",
     "data": {
      "text/plain": [
       "255"
      ]
     },
     "metadata": {},
     "execution_count": 106
    }
   ],
   "source": [
    "icon_refreshed.max()"
   ]
  },
  {
   "cell_type": "code",
   "execution_count": 109,
   "metadata": {},
   "outputs": [],
   "source": [
    "import copy"
   ]
  },
  {
   "cell_type": "code",
   "execution_count": 131,
   "metadata": {},
   "outputs": [
    {
     "output_type": "stream",
     "name": "stdout",
     "text": [
      "0\n",
      "10\n",
      "20\n",
      "30\n",
      "40\n",
      "50\n",
      "60\n",
      "70\n",
      "80\n",
      "90\n"
     ]
    }
   ],
   "source": [
    "orange = Color('orange')\n",
    "color_range = list(orange.range_to(Color('blue'), 100))\n",
    "for n, c in enumerate(orange.range_to(Color('blue'), 100)):\n",
    "    if n % 10 == 0:\n",
    "        print(n)\n",
    "    new_ls = copy.deepcopy(ls)\n",
    "    for x in range(len(ls)):\n",
    "        for y in range(len(ls[0])):\n",
    "            for i,(a,b) in enumerate(zip(c.rgb, ls[x][y])):\n",
    "                new_ls[x][y][i] = a*b\n",
    "            if sum(new_ls[x][y]) == 0:\n",
    "                new_ls[x][y].append(0)\n",
    "            else:\n",
    "                new_ls[x][y].append(255)\n",
    "    new_im = Image.fromarray(np.array(new_ls).astype(np.uint8))\n",
    "    new_im.save(f'index/icon_fade_{n}.png', 'PNG')\n",
    "\n",
    "\n",
    "\n"
   ]
  },
  {
   "cell_type": "code",
   "execution_count": 93,
   "metadata": {},
   "outputs": [
    {
     "output_type": "execute_result",
     "data": {
      "text/plain": [
       "(1.0, 0.6470588235294115, 0.0)"
      ]
     },
     "metadata": {},
     "execution_count": 93
    }
   ],
   "source": [
    "color_range[0].rgb"
   ]
  },
  {
   "cell_type": "code",
   "execution_count": 128,
   "metadata": {},
   "outputs": [],
   "source": [
    "new_ls = copy.deepcopy(ls)\n",
    "c = color_range[0]\n",
    "for x in range(len(ls)):\n",
    "    for y in range(len(ls[0])):\n",
    "        for i,(a,b) in enumerate(zip(c.rgb, ls[x][y])):\n",
    "            new_ls[x][y][i] = a*b\n",
    "        if sum(new_ls[x][y]) == 0:\n",
    "            new_ls[x][y].append(0)\n",
    "        else:\n",
    "            new_ls[x][y].append(255)"
   ]
  },
  {
   "cell_type": "code",
   "execution_count": 129,
   "metadata": {},
   "outputs": [
    {
     "output_type": "execute_result",
     "data": {
      "text/plain": [
       "(32, 56, 4)"
      ]
     },
     "metadata": {},
     "execution_count": 129
    }
   ],
   "source": [
    "arr = np.array(new_ls)\n",
    "arr.shape"
   ]
  },
  {
   "cell_type": "code",
   "execution_count": 130,
   "metadata": {},
   "outputs": [],
   "source": [
    "test_im = Image.fromarray(arr.astype(np.uint8))\n",
    "test_im.show()"
   ]
  },
  {
   "cell_type": "code",
   "execution_count": 132,
   "metadata": {},
   "outputs": [],
   "source": [
    "with open('detailed_compounds.json', 'r') as comp_json:\n",
    "    compounds = json.load(comp_json)"
   ]
  },
  {
   "cell_type": "code",
   "execution_count": 134,
   "metadata": {},
   "outputs": [
    {
     "output_type": "execute_result",
     "data": {
      "text/plain": [
       "dict_keys(['compound_name', 'link', 'available_address', 'year_of_construction', 'building_type', 'management_company', 'developer_company', 'number_of_buildings', 'number_of_rooms', 'name', 'location', 'address', 'sum_of_prices($/space)', 'sum_of_prices(total)', 'sum_of_area(sq_meters)', 'sum_of_floors', 'units_on_sale', 'avg_prices($/space)', 'avg_prices(total)', 'avg_area(sq_meters)', 'avg_floors'])"
      ]
     },
     "metadata": {},
     "execution_count": 134
    }
   ],
   "source": [
    "compounds[0].keys()"
   ]
  },
  {
   "cell_type": "code",
   "execution_count": 133,
   "metadata": {},
   "outputs": [],
   "source": [
    "def add_rank_attr(compounds, key):\n",
    "    new_compounds = copy.deepcopy(compounds)\n",
    "    selected_attr = np.array([i[key] for i in compounds])\n",
    "    attr_max = selected_attr.max()\n",
    "    attr_min = selected_attr.min()\n",
    "    lin_range = np.linspace(attr_min, attr_max, 50)\n",
    "    print(len(lin_range))\n",
    "    ranked_attr = []\n",
    "    for j,a in enumerate(selected_attr):\n",
    "        for i,r in enumerate(lin_range):\n",
    "            if a < r:\n",
    "                new_compounds[j][f'{key}_ranking'] = i - 1\n",
    "                break\n",
    "        else:\n",
    "            new_compounds[j][f'{key}_ranking'] = len(lin_range) - 1\n",
    "    return new_compounds\n",
    "            \n",
    "\n"
   ]
  },
  {
   "cell_type": "code",
   "execution_count": 135,
   "metadata": {},
   "outputs": [
    {
     "output_type": "stream",
     "name": "stdout",
     "text": [
      "50\n"
     ]
    }
   ],
   "source": [
    "try_compounds = add_rank_attr(compounds, 'year_of_construction')"
   ]
  },
  {
   "cell_type": "code",
   "execution_count": 138,
   "metadata": {},
   "outputs": [
    {
     "output_type": "stream",
     "name": "stdout",
     "text": [
      "50\n50\n50\n50\n50\n50\n50\n"
     ]
    }
   ],
   "source": [
    "for k in ['year_of_construction', 'number_of_buildings', 'number_of_rooms', 'avg_prices($/space)', 'avg_prices(total)', 'avg_area(sq_meters)', 'avg_floors']:\n",
    "    compounds = add_rank_attr(compounds, k)"
   ]
  },
  {
   "cell_type": "code",
   "execution_count": 139,
   "metadata": {},
   "outputs": [
    {
     "output_type": "execute_result",
     "data": {
      "text/plain": [
       "{'compound_name': '虹桥电子时代广场',\n",
       " 'link': 'https://sh.lianjia.com/xiaoqu/5011000011570/',\n",
       " 'available_address': '天山支路168号',\n",
       " 'year_of_construction': 2001,\n",
       " 'building_type': '板楼',\n",
       " 'management_company': '上海嘉平物业管理有限公司',\n",
       " 'developer_company': '上海嘉平房地产有限公司',\n",
       " 'number_of_buildings': 1,\n",
       " 'number_of_rooms': 585,\n",
       " 'name': '天山支路168号',\n",
       " 'location': {'lat': 31.22062, 'lng': 121.40283},\n",
       " 'address': '长宁区',\n",
       " 'sum_of_prices($/space)': 89419,\n",
       " 'sum_of_prices(total)': 7300000,\n",
       " 'sum_of_area(sq_meters)': 159.8,\n",
       " 'sum_of_floors': 18,\n",
       " 'units_on_sale': 2,\n",
       " 'avg_prices($/space)': 44709.5,\n",
       " 'avg_prices(total)': 3650000.0,\n",
       " 'avg_area(sq_meters)': 79.9,\n",
       " 'avg_floors': 9.0,\n",
       " 'year_of_construction_ranking': 39,\n",
       " 'number_of_buildings_ranking': 0,\n",
       " 'number_of_rooms_ranking': 4,\n",
       " 'avg_prices($/space)_ranking': 5,\n",
       " 'avg_prices(total)_ranking': 3,\n",
       " 'avg_area(sq_meters)_ranking': 12,\n",
       " 'avg_floors_ranking': 8}"
      ]
     },
     "metadata": {},
     "execution_count": 139
    }
   ],
   "source": [
    "compounds[0]"
   ]
  },
  {
   "cell_type": "code",
   "execution_count": 140,
   "metadata": {},
   "outputs": [],
   "source": [
    "with open('detailed_compounds.json', 'w') as compounds_json:\n",
    "    json.dump(compounds, compounds_json, ensure_ascii=False)"
   ]
  },
  {
   "cell_type": "code",
   "execution_count": 141,
   "metadata": {},
   "outputs": [
    {
     "output_type": "stream",
     "name": "stdout",
     "text": [
      "year_of_construction_ranking\nnumber_of_buildings_ranking\nnumber_of_rooms_ranking\navg_prices($/space)_ranking\navg_prices(total)_ranking\navg_area(sq_meters)_ranking\navg_floors_ranking\n"
     ]
    }
   ],
   "source": [
    "for k in compounds[0].keys():\n",
    "    if '_ranking' in k:\n",
    "        print(k)"
   ]
  },
  {
   "source": [
    "## 5/22 Cells"
   ],
   "cell_type": "markdown",
   "metadata": {}
  },
  {
   "cell_type": "code",
   "execution_count": 9,
   "metadata": {},
   "outputs": [],
   "source": [
    "import json, numpy as np, copy"
   ]
  },
  {
   "cell_type": "code",
   "execution_count": 39,
   "metadata": {},
   "outputs": [],
   "source": [
    "with open('detailed_compounds.json', 'r') as comp_json:\n",
    "    compounds = json.load(comp_json)"
   ]
  },
  {
   "cell_type": "code",
   "execution_count": 37,
   "metadata": {},
   "outputs": [],
   "source": [
    "def label_outliers(data, k, m=2):\n",
    "    new_data = []\n",
    "    selected_data = np.array([i[k] for i in data])\n",
    "    mask_arr = (abs(selected_data - np.mean(selected_data)) < (m * np.std(selected_data)))\n",
    "    for mask, c in zip(mask_arr, data):\n",
    "        new_obj = c.copy()\n",
    "        new_obj[f'not_{k}_ranking_outlier'] = 1 if mask else 0\n",
    "        new_data.append(new_obj)\n",
    "    return new_data"
   ]
  },
  {
   "cell_type": "code",
   "execution_count": 38,
   "metadata": {},
   "outputs": [],
   "source": [
    "for k in ['year_of_construction', 'number_of_buildings', 'number_of_rooms', 'avg_prices($/space)', 'avg_prices(total)', 'avg_area(sq_meters)', 'avg_floors']:\n",
    "    compounds = label_outliers(compounds, k)"
   ]
  },
  {
   "cell_type": "code",
   "execution_count": 28,
   "metadata": {},
   "outputs": [
    {
     "output_type": "execute_result",
     "data": {
      "text/plain": [
       "{'compound_name': '虹桥电子时代广场',\n",
       " 'link': 'https://sh.lianjia.com/xiaoqu/5011000011570/',\n",
       " 'available_address': '天山支路168号',\n",
       " 'year_of_construction': 2001,\n",
       " 'building_type': '板楼',\n",
       " 'management_company': '上海嘉平物业管理有限公司',\n",
       " 'developer_company': '上海嘉平房地产有限公司',\n",
       " 'number_of_buildings': 1,\n",
       " 'number_of_rooms': 585,\n",
       " 'name': '天山支路168号',\n",
       " 'location': {'lat': 31.22062, 'lng': 121.40283},\n",
       " 'address': '长宁区',\n",
       " 'sum_of_prices($/space)': 89419,\n",
       " 'sum_of_prices(total)': 7300000,\n",
       " 'sum_of_area(sq_meters)': 159.8,\n",
       " 'sum_of_floors': 18,\n",
       " 'units_on_sale': 2,\n",
       " 'avg_prices($/space)': 44709.5,\n",
       " 'avg_prices(total)': 3650000.0,\n",
       " 'avg_area(sq_meters)': 79.9,\n",
       " 'avg_floors': 9.0,\n",
       " 'year_of_construction_ranking': 39,\n",
       " 'number_of_buildings_ranking': 0,\n",
       " 'number_of_rooms_ranking': 4,\n",
       " 'avg_prices($/space)_ranking': 5,\n",
       " 'avg_prices(total)_ranking': 3,\n",
       " 'avg_area(sq_meters)_ranking': 12,\n",
       " 'avg_floors_ranking': 8,\n",
       " 'not_year_of_construction_outlier': 1,\n",
       " 'not_number_of_buildings_outlier': 1,\n",
       " 'not_number_of_rooms_outlier': 1,\n",
       " 'not_avg_prices($/space)_outlier': 1,\n",
       " 'not_avg_prices(total)_outlier': 1,\n",
       " 'not_avg_area(sq_meters)_outlier': 1,\n",
       " 'not_avg_floors_outlier': 1,\n",
       " 'year_of_construction_ranking_adjusted': 34,\n",
       " 'number_of_buildings_ranking_adjusted': 0,\n",
       " 'number_of_rooms_ranking_adjusted': 12,\n",
       " 'avg_prices($/space)_ranking_adjusted': 0,\n",
       " 'avg_prices(total)_ranking_adjusted': 4,\n",
       " 'avg_area(sq_meters)_ranking_adjusted': 18,\n",
       " 'avg_floors_ranking_adjusted': 9}"
      ]
     },
     "metadata": {},
     "execution_count": 28
    }
   ],
   "source": [
    "compounds[0]"
   ]
  },
  {
   "cell_type": "code",
   "execution_count": 30,
   "metadata": {},
   "outputs": [],
   "source": [
    "def adjust_rank_attr_by_outliers(compounds, key):\n",
    "    new_compounds = copy.deepcopy(compounds)\n",
    "    index_arr = np.array([i for i,obj in enumerate(compounds) if obj[f'not_{key}_outlier'] == 1])\n",
    "    selected_attr = np.array([i[key] for i in compounds if i[f'not_{key}_outlier'] == 1])\n",
    "    attr_max = selected_attr.max()\n",
    "    attr_min = selected_attr.min()\n",
    "    lin_range = np.linspace(attr_min, attr_max, 50)\n",
    "    ranked_attr = []\n",
    "    for j,a in zip(index_arr, selected_attr):\n",
    "        for i,r in enumerate(lin_range):\n",
    "            if a < r:\n",
    "                new_compounds[j][f'{key}_ranking_adjusted'] = i - 1\n",
    "                break\n",
    "        else:\n",
    "            new_compounds[j][f'{key}_ranking_adjusted'] = len(lin_range) - 1\n",
    "    return new_compounds\n"
   ]
  },
  {
   "cell_type": "code",
   "execution_count": 31,
   "metadata": {},
   "outputs": [],
   "source": [
    "for k in ['year_of_construction', 'number_of_buildings', 'number_of_rooms', 'avg_prices($/space)', 'avg_prices(total)', 'avg_area(sq_meters)', 'avg_floors']:\n",
    "    compounds = adjust_rank_attr_by_outliers(compounds, k)"
   ]
  },
  {
   "cell_type": "code",
   "execution_count": 32,
   "metadata": {},
   "outputs": [
    {
     "output_type": "execute_result",
     "data": {
      "text/plain": [
       "{'compound_name': '虹桥电子时代广场',\n",
       " 'link': 'https://sh.lianjia.com/xiaoqu/5011000011570/',\n",
       " 'available_address': '天山支路168号',\n",
       " 'year_of_construction': 2001,\n",
       " 'building_type': '板楼',\n",
       " 'management_company': '上海嘉平物业管理有限公司',\n",
       " 'developer_company': '上海嘉平房地产有限公司',\n",
       " 'number_of_buildings': 1,\n",
       " 'number_of_rooms': 585,\n",
       " 'name': '天山支路168号',\n",
       " 'location': {'lat': 31.22062, 'lng': 121.40283},\n",
       " 'address': '长宁区',\n",
       " 'sum_of_prices($/space)': 89419,\n",
       " 'sum_of_prices(total)': 7300000,\n",
       " 'sum_of_area(sq_meters)': 159.8,\n",
       " 'sum_of_floors': 18,\n",
       " 'units_on_sale': 2,\n",
       " 'avg_prices($/space)': 44709.5,\n",
       " 'avg_prices(total)': 3650000.0,\n",
       " 'avg_area(sq_meters)': 79.9,\n",
       " 'avg_floors': 9.0,\n",
       " 'year_of_construction_ranking': 39,\n",
       " 'number_of_buildings_ranking': 0,\n",
       " 'number_of_rooms_ranking': 4,\n",
       " 'avg_prices($/space)_ranking': 5,\n",
       " 'avg_prices(total)_ranking': 3,\n",
       " 'avg_area(sq_meters)_ranking': 12,\n",
       " 'avg_floors_ranking': 8,\n",
       " 'not_year_of_construction_outlier': 1,\n",
       " 'not_number_of_buildings_outlier': 1,\n",
       " 'not_number_of_rooms_outlier': 1,\n",
       " 'not_avg_prices($/space)_outlier': 1,\n",
       " 'not_avg_prices(total)_outlier': 1,\n",
       " 'not_avg_area(sq_meters)_outlier': 1,\n",
       " 'not_avg_floors_outlier': 1,\n",
       " 'year_of_construction_ranking_adjusted': 34,\n",
       " 'number_of_buildings_ranking_adjusted': 0,\n",
       " 'number_of_rooms_ranking_adjusted': 12,\n",
       " 'avg_prices($/space)_ranking_adjusted': 0,\n",
       " 'avg_prices(total)_ranking_adjusted': 4,\n",
       " 'avg_area(sq_meters)_ranking_adjusted': 18,\n",
       " 'avg_floors_ranking_adjusted': 9}"
      ]
     },
     "metadata": {},
     "execution_count": 32
    }
   ],
   "source": [
    "compounds[0]"
   ]
  },
  {
   "cell_type": "code",
   "execution_count": 33,
   "metadata": {},
   "outputs": [
    {
     "output_type": "execute_result",
     "data": {
      "text/plain": [
       "{'compound_name': '古南小区',\n",
       " 'link': 'https://sh.lianjia.com/xiaoqu/5011000014139/',\n",
       " 'available_address': '天山支路100弄1-7号,古北路108弄7-11号,古北路124弄8-14号,古北路136弄11-43号,天山支路50弄1-7号',\n",
       " 'year_of_construction': 1977,\n",
       " 'building_type': '板楼',\n",
       " 'management_company': '华阳物业',\n",
       " 'developer_company': '上海新长宁集团',\n",
       " 'number_of_buildings': 30,\n",
       " 'number_of_rooms': 651,\n",
       " 'name': '古南小区',\n",
       " 'location': {'lat': 31.221202, 'lng': 121.40508},\n",
       " 'address': '天山支路50弄1-7号,天山支路100弄1-7号,古北路108弄7-11号,古北路124弄8-14号,古北路136弄11-43号',\n",
       " 'province': '上海市',\n",
       " 'city': '上海市',\n",
       " 'area': '长宁区',\n",
       " 'street_id': '750ec16522869e2a4c3a591d',\n",
       " 'detail': 1,\n",
       " 'uid': '750ec16522869e2a4c3a591d',\n",
       " 'sum_of_prices($/space)': 165620,\n",
       " 'sum_of_prices(total)': 7700000,\n",
       " 'sum_of_area(sq_meters)': 93.07,\n",
       " 'sum_of_floors': 12,\n",
       " 'units_on_sale': 2,\n",
       " 'avg_prices($/space)': 82810.0,\n",
       " 'avg_prices(total)': 3850000.0,\n",
       " 'avg_area(sq_meters)': 46.535,\n",
       " 'avg_floors': 6.0,\n",
       " 'year_of_construction_ranking': 17,\n",
       " 'number_of_buildings_ranking': 10,\n",
       " 'number_of_rooms_ranking': 5,\n",
       " 'avg_prices($/space)_ranking': 23,\n",
       " 'avg_prices(total)_ranking': 3,\n",
       " 'avg_area(sq_meters)_ranking': 4,\n",
       " 'avg_floors_ranking': 3,\n",
       " 'not_year_of_construction_outlier': 1,\n",
       " 'not_number_of_buildings_outlier': 1,\n",
       " 'not_number_of_rooms_outlier': 1,\n",
       " 'not_avg_prices($/space)_outlier': 1,\n",
       " 'not_avg_prices(total)_outlier': 1,\n",
       " 'not_avg_area(sq_meters)_outlier': 1,\n",
       " 'not_avg_floors_outlier': 1,\n",
       " 'year_of_construction_ranking_adjusted': 0,\n",
       " 'number_of_buildings_ranking_adjusted': 22,\n",
       " 'number_of_rooms_ranking_adjusted': 13,\n",
       " 'avg_prices($/space)_ranking_adjusted': 22,\n",
       " 'avg_prices(total)_ranking_adjusted': 4,\n",
       " 'avg_area(sq_meters)_ranking_adjusted': 6,\n",
       " 'avg_floors_ranking_adjusted': 3}"
      ]
     },
     "metadata": {},
     "execution_count": 33
    }
   ],
   "source": [
    "compounds[10]"
   ]
  },
  {
   "cell_type": "code",
   "execution_count": 34,
   "metadata": {},
   "outputs": [],
   "source": [
    "with open('detailed_compounds.json', 'w') as comp_json:\n",
    "    json.dump(compounds, comp_json, ensure_ascii=False)"
   ]
  },
  {
   "cell_type": "code",
   "execution_count": 36,
   "metadata": {},
   "outputs": [
    {
     "output_type": "execute_result",
     "data": {
      "text/plain": [
       "dict_keys(['compound_name', 'link', 'available_address', 'year_of_construction', 'building_type', 'management_company', 'developer_company', 'number_of_buildings', 'number_of_rooms', 'name', 'location', 'address', 'sum_of_prices($/space)', 'sum_of_prices(total)', 'sum_of_area(sq_meters)', 'sum_of_floors', 'units_on_sale', 'avg_prices($/space)', 'avg_prices(total)', 'avg_area(sq_meters)', 'avg_floors', 'year_of_construction_ranking', 'number_of_buildings_ranking', 'number_of_rooms_ranking', 'avg_prices($/space)_ranking', 'avg_prices(total)_ranking', 'avg_area(sq_meters)_ranking', 'avg_floors_ranking', 'not_year_of_construction_outlier', 'not_number_of_buildings_outlier', 'not_number_of_rooms_outlier', 'not_avg_prices($/space)_outlier', 'not_avg_prices(total)_outlier', 'not_avg_area(sq_meters)_outlier', 'not_avg_floors_outlier', 'year_of_construction_ranking_adjusted', 'number_of_buildings_ranking_adjusted', 'number_of_rooms_ranking_adjusted', 'avg_prices($/space)_ranking_adjusted', 'avg_prices(total)_ranking_adjusted', 'avg_area(sq_meters)_ranking_adjusted', 'avg_floors_ranking_adjusted'])"
      ]
     },
     "metadata": {},
     "execution_count": 36
    }
   ],
   "source": [
    "compounds[0].keys()"
   ]
  },
  {
   "cell_type": "code",
   "execution_count": null,
   "metadata": {},
   "outputs": [],
   "source": []
  }
 ]
}