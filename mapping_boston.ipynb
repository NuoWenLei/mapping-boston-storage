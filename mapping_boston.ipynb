{
 "metadata": {
  "language_info": {
   "codemirror_mode": {
    "name": "ipython",
    "version": 3
   },
   "file_extension": ".py",
   "mimetype": "text/x-python",
   "name": "python",
   "nbconvert_exporter": "python",
   "pygments_lexer": "ipython3",
   "version": "3.7.9"
  },
  "orig_nbformat": 2,
  "kernelspec": {
   "name": "python379jvsc74a57bd0aee8b7b246df8f9039afb4144a1f6fd8d2ca17a180786b69acc140d282b71a49",
   "display_name": "Python 3.7.9 64-bit"
  },
  "metadata": {
   "interpreter": {
    "hash": "aee8b7b246df8f9039afb4144a1f6fd8d2ca17a180786b69acc140d282b71a49"
   }
  }
 },
 "nbformat": 4,
 "nbformat_minor": 2,
 "cells": [
  {
   "source": [
    "## 5/21 Cells"
   ],
   "cell_type": "markdown",
   "metadata": {}
  },
  {
   "cell_type": "code",
   "execution_count": 3,
   "metadata": {},
   "outputs": [],
   "source": [
    "import json"
   ]
  },
  {
   "cell_type": "code",
   "execution_count": 2,
   "metadata": {},
   "outputs": [],
   "source": [
    "with open('detailed_compounds.json', 'r') as comp_json:\n",
    "    compounds = json.load(comp_json)"
   ]
  },
  {
   "cell_type": "code",
   "execution_count": 3,
   "metadata": {},
   "outputs": [],
   "source": [
    "with open('detailed_buildings.json', 'r') as build_json:\n",
    "    buildings = json.load(build_json)"
   ]
  },
  {
   "cell_type": "code",
   "execution_count": 15,
   "metadata": {},
   "outputs": [
    {
     "output_type": "execute_result",
     "data": {
      "text/plain": [
       "dict_keys(['name', 'total_price', 'unit_price', 'area(sq_meters)', 'year_of_construction', 'floors_of_building', 'compound_name', 'compound_link', 'floor_plan', 'room_type'])"
      ]
     },
     "metadata": {},
     "execution_count": 15
    }
   ],
   "source": [
    "buildings[0].keys()"
   ]
  },
  {
   "cell_type": "code",
   "execution_count": 28,
   "metadata": {},
   "outputs": [],
   "source": [
    "updated_compounds_v1 = []\n",
    "for compound in compounds:\n",
    "    updated_compound = compound.copy()\n",
    "    updated_compound['sum_of_prices($/space)'] = 0\n",
    "    updated_compound['sum_of_prices(total)'] = 0\n",
    "    updated_compound['sum_of_area(sq_meters)'] = 0\n",
    "    updated_compound['sum_of_floors'] = 0\n",
    "    updated_compound['units_on_sale'] = 0\n",
    "    for building in buildings:\n",
    "        if compound['compound_name'] == building['compound_name']:\n",
    "            updated_compound['sum_of_prices($/space)'] += building['unit_price']\n",
    "            updated_compound['sum_of_prices(total)'] += building['total_price']\n",
    "            updated_compound['sum_of_area(sq_meters)'] += building['area(sq_meters)']\n",
    "            updated_compound['sum_of_floors'] += building['floors_of_building']\n",
    "            updated_compound['units_on_sale'] += 1\n",
    "    updated_compounds_v1.append(updated_compound)\n"
   ]
  },
  {
   "cell_type": "code",
   "execution_count": 29,
   "metadata": {},
   "outputs": [],
   "source": [
    "for updated_compound in updated_compounds_v1:\n",
    "    updated_compound['avg_prices($/space)'] = updated_compound['sum_of_prices($/space)'] / updated_compound['units_on_sale']\n",
    "    updated_compound['avg_prices(total)'] = updated_compound['sum_of_prices(total)'] / updated_compound['units_on_sale']\n",
    "    updated_compound['avg_area(sq_meters)'] = updated_compound['sum_of_area(sq_meters)'] / updated_compound['units_on_sale']\n",
    "    updated_compound['avg_floors'] = updated_compound['sum_of_floors'] / updated_compound['units_on_sale']"
   ]
  },
  {
   "cell_type": "code",
   "execution_count": 30,
   "metadata": {},
   "outputs": [
    {
     "output_type": "execute_result",
     "data": {
      "text/plain": [
       "{'compound_name': '永清新村',\n",
       " 'link': 'https://sh.lianjia.com/xiaoqu/5011000012529/',\n",
       " 'available_address': '永清新村',\n",
       " 'year_of_construction': 1987,\n",
       " 'building_type': '板楼',\n",
       " 'management_company': '新寓物业',\n",
       " 'developer_company': '宝辰集团控股有限公司',\n",
       " 'number_of_buildings': 190,\n",
       " 'number_of_rooms': 2562,\n",
       " 'name': '永清新村小区',\n",
       " 'location': {'lat': 31.39679, 'lng': 121.504638},\n",
       " 'address': '上海市宝山区双城路(永清新村幼儿园西侧)',\n",
       " 'province': '上海市',\n",
       " 'city': '上海市',\n",
       " 'area': '宝山区',\n",
       " 'street_id': 'f44609182e33ed6bb11e367f',\n",
       " 'detail': 1,\n",
       " 'uid': 'f44609182e33ed6bb11e367f',\n",
       " 'sum_of_prices($/space)': 82365,\n",
       " 'sum_of_prices(total)': 10270000,\n",
       " 'sum_of_area(sq_meters)': 42.92,\n",
       " 'sum_of_floors': 6,\n",
       " 'units_on_sale': 1,\n",
       " 'avg_prices($/space)': 82365.0,\n",
       " 'avg_prices(total)': 10270000.0,\n",
       " 'avg_area(sq_meters)': 42.92,\n",
       " 'avg_floors': 6.0}"
      ]
     },
     "metadata": {},
     "execution_count": 30
    }
   ],
   "source": [
    "updated_compounds_v1.pop(4)\n",
    "updated_compounds_v1.pop(4)"
   ]
  },
  {
   "cell_type": "code",
   "execution_count": 31,
   "metadata": {},
   "outputs": [
    {
     "output_type": "execute_result",
     "data": {
      "text/plain": [
       "{'compound_name': '虹桥电子时代广场',\n",
       " 'link': 'https://sh.lianjia.com/xiaoqu/5011000011570/',\n",
       " 'available_address': '天山支路168号',\n",
       " 'year_of_construction': 2001,\n",
       " 'building_type': '板楼',\n",
       " 'management_company': '上海嘉平物业管理有限公司',\n",
       " 'developer_company': '上海嘉平房地产有限公司',\n",
       " 'number_of_buildings': 1,\n",
       " 'number_of_rooms': 585,\n",
       " 'name': '天山支路168号',\n",
       " 'location': {'lat': 31.22062, 'lng': 121.40283},\n",
       " 'address': '长宁区',\n",
       " 'sum_of_prices($/space)': 89419,\n",
       " 'sum_of_prices(total)': 7300000,\n",
       " 'sum_of_area(sq_meters)': 159.8,\n",
       " 'sum_of_floors': 18,\n",
       " 'units_on_sale': 2,\n",
       " 'avg_prices($/space)': 44709.5,\n",
       " 'avg_prices(total)': 3650000.0,\n",
       " 'avg_area(sq_meters)': 79.9,\n",
       " 'avg_floors': 9.0}"
      ]
     },
     "metadata": {},
     "execution_count": 31
    }
   ],
   "source": [
    "updated_compounds_v1[0]"
   ]
  },
  {
   "cell_type": "code",
   "execution_count": 32,
   "metadata": {},
   "outputs": [
    {
     "output_type": "execute_result",
     "data": {
      "text/plain": [
       "{'compound_name': '古南小区',\n",
       " 'link': 'https://sh.lianjia.com/xiaoqu/5011000014139/',\n",
       " 'available_address': '天山支路100弄1-7号,古北路108弄7-11号,古北路124弄8-14号,古北路136弄11-43号,天山支路50弄1-7号',\n",
       " 'year_of_construction': 1977,\n",
       " 'building_type': '板楼',\n",
       " 'management_company': '华阳物业',\n",
       " 'developer_company': '上海新长宁集团',\n",
       " 'number_of_buildings': 30,\n",
       " 'number_of_rooms': 651,\n",
       " 'name': '古南小区',\n",
       " 'location': {'lat': 31.221202, 'lng': 121.40508},\n",
       " 'address': '天山支路50弄1-7号,天山支路100弄1-7号,古北路108弄7-11号,古北路124弄8-14号,古北路136弄11-43号',\n",
       " 'province': '上海市',\n",
       " 'city': '上海市',\n",
       " 'area': '长宁区',\n",
       " 'street_id': '750ec16522869e2a4c3a591d',\n",
       " 'detail': 1,\n",
       " 'uid': '750ec16522869e2a4c3a591d',\n",
       " 'sum_of_prices($/space)': 165620,\n",
       " 'sum_of_prices(total)': 7700000,\n",
       " 'sum_of_area(sq_meters)': 93.07,\n",
       " 'sum_of_floors': 12,\n",
       " 'units_on_sale': 2,\n",
       " 'avg_prices($/space)': 82810.0,\n",
       " 'avg_prices(total)': 3850000.0,\n",
       " 'avg_area(sq_meters)': 46.535,\n",
       " 'avg_floors': 6.0}"
      ]
     },
     "metadata": {},
     "execution_count": 32
    }
   ],
   "source": [
    "updated_compounds_v1[10]"
   ]
  },
  {
   "cell_type": "code",
   "execution_count": 33,
   "metadata": {},
   "outputs": [
    {
     "output_type": "execute_result",
     "data": {
      "text/plain": [
       "{'compound_name': '天山新苑',\n",
       " 'link': 'https://sh.lianjia.com/xiaoqu/5011000017982/',\n",
       " 'available_address': '天山路202弄1-56号',\n",
       " 'year_of_construction': 1998,\n",
       " 'building_type': '板楼',\n",
       " 'management_company': '上海司力物业有限公司',\n",
       " 'developer_company': '上海司力房地产公司',\n",
       " 'number_of_buildings': 51,\n",
       " 'number_of_rooms': 673,\n",
       " 'name': '天山新苑',\n",
       " 'location': {'lat': 31.222608, 'lng': 121.388744},\n",
       " 'address': '天山路202弄1~56号',\n",
       " 'province': '上海市',\n",
       " 'city': '上海市',\n",
       " 'area': '长宁区',\n",
       " 'street_id': 'f2f15ffb38925289631c671c',\n",
       " 'detail': 1,\n",
       " 'uid': 'f2f15ffb38925289631c671c',\n",
       " 'sum_of_prices($/space)': 369135,\n",
       " 'sum_of_prices(total)': 45460000,\n",
       " 'sum_of_area(sq_meters)': 492.7,\n",
       " 'sum_of_floors': 30,\n",
       " 'units_on_sale': 4,\n",
       " 'avg_prices($/space)': 92283.75,\n",
       " 'avg_prices(total)': 11365000.0,\n",
       " 'avg_area(sq_meters)': 123.175,\n",
       " 'avg_floors': 7.5}"
      ]
     },
     "metadata": {},
     "execution_count": 33
    }
   ],
   "source": [
    "updated_compounds_v1[4]"
   ]
  },
  {
   "cell_type": "code",
   "execution_count": 34,
   "metadata": {},
   "outputs": [],
   "source": [
    "import numpy as np\n",
    "import matplotlib.pyplot as plt\n",
    "import seaborn as sns\n",
    "\n",
    "sns.set_theme()\n",
    "\n",
    "%matplotlib inline"
   ]
  },
  {
   "cell_type": "code",
   "execution_count": 35,
   "metadata": {},
   "outputs": [],
   "source": [
    "def create_distribution_plot(compounds, key):\n",
    "    selected_data = np.array([i[key] for i in compounds])\n",
    "    \n",
    "    sns.histplot(x=selected_data, bins=10)\n",
    "\n",
    "    plt.xlabel(key)\n",
    "\n"
   ]
  },
  {
   "cell_type": "code",
   "execution_count": 36,
   "metadata": {},
   "outputs": [
    {
     "output_type": "display_data",
     "data": {
      "text/plain": "<Figure size 432x288 with 1 Axes>",
      "image/svg+xml": "<?xml version=\"1.0\" encoding=\"utf-8\" standalone=\"no\"?>\n<!DOCTYPE svg PUBLIC \"-//W3C//DTD SVG 1.1//EN\"\n  \"http://www.w3.org/Graphics/SVG/1.1/DTD/svg11.dtd\">\n<!-- Created with matplotlib (https://matplotlib.org/) -->\n<svg height=\"266.661094pt\" version=\"1.1\" viewBox=\"0 0 385.908437 266.661094\" width=\"385.908437pt\" xmlns=\"http://www.w3.org/2000/svg\" xmlns:xlink=\"http://www.w3.org/1999/xlink\">\n <metadata>\n  <rdf:RDF xmlns:cc=\"http://creativecommons.org/ns#\" xmlns:dc=\"http://purl.org/dc/elements/1.1/\" xmlns:rdf=\"http://www.w3.org/1999/02/22-rdf-syntax-ns#\">\n   <cc:Work>\n    <dc:type rdf:resource=\"http://purl.org/dc/dcmitype/StillImage\"/>\n    <dc:date>2021-05-21T16:02:13.739408</dc:date>\n    <dc:format>image/svg+xml</dc:format>\n    <dc:creator>\n     <cc:Agent>\n      <dc:title>Matplotlib v3.3.3, https://matplotlib.org/</dc:title>\n     </cc:Agent>\n    </dc:creator>\n   </cc:Work>\n  </rdf:RDF>\n </metadata>\n <defs>\n  <style type=\"text/css\">*{stroke-linecap:butt;stroke-linejoin:round;}</style>\n </defs>\n <g id=\"figure_1\">\n  <g id=\"patch_1\">\n   <path d=\"M 0 266.661094 \nL 385.908437 266.661094 \nL 385.908437 0 \nL 0 0 \nz\n\" style=\"fill:none;\"/>\n  </g>\n  <g id=\"axes_1\">\n   <g id=\"patch_2\">\n    <path d=\"M 43.908438 224.64 \nL 378.708438 224.64 \nL 378.708438 7.2 \nL 43.908438 7.2 \nz\n\" style=\"fill:#eaeaf2;\"/>\n   </g>\n   <g id=\"matplotlib.axis_1\">\n    <g id=\"xtick_1\">\n     <g id=\"line2d_1\">\n      <path clip-path=\"url(#p223537e0aa)\" d=\"M 69.621917 224.64 \nL 69.621917 7.2 \n\" style=\"fill:none;stroke:#ffffff;stroke-linecap:round;\"/>\n     </g>\n     <g id=\"text_1\">\n      <!-- 5 -->\n      <g style=\"fill:#262626;\" transform=\"translate(66.563401 242.013594)scale(0.11 -0.11)\">\n       <defs>\n        <path d=\"M 4.15625 18.75 \nL 13.375 19.53125 \nQ 14.40625 12.796875 18.140625 9.390625 \nQ 21.875 6 27.15625 6 \nQ 33.5 6 37.890625 10.78125 \nQ 42.28125 15.578125 42.28125 23.484375 \nQ 42.28125 31 38.0625 35.34375 \nQ 33.84375 39.703125 27 39.703125 \nQ 22.75 39.703125 19.328125 37.765625 \nQ 15.921875 35.84375 13.96875 32.765625 \nL 5.71875 33.84375 \nL 12.640625 70.609375 \nL 48.25 70.609375 \nL 48.25 62.203125 \nL 19.671875 62.203125 \nL 15.828125 42.96875 \nQ 22.265625 47.46875 29.34375 47.46875 \nQ 38.71875 47.46875 45.15625 40.96875 \nQ 51.609375 34.46875 51.609375 24.265625 \nQ 51.609375 14.546875 45.953125 7.46875 \nQ 39.0625 -1.21875 27.15625 -1.21875 \nQ 17.390625 -1.21875 11.203125 4.25 \nQ 5.03125 9.71875 4.15625 18.75 \nz\n\" id=\"ArialMT-53\"/>\n       </defs>\n       <use xlink:href=\"#ArialMT-53\"/>\n      </g>\n     </g>\n    </g>\n    <g id=\"xtick_2\">\n     <g id=\"line2d_2\">\n      <path clip-path=\"url(#p223537e0aa)\" d=\"M 122.098406 224.64 \nL 122.098406 7.2 \n\" style=\"fill:none;stroke:#ffffff;stroke-linecap:round;\"/>\n     </g>\n     <g id=\"text_2\">\n      <!-- 10 -->\n      <g style=\"fill:#262626;\" transform=\"translate(115.981375 242.013594)scale(0.11 -0.11)\">\n       <defs>\n        <path d=\"M 37.25 0 \nL 28.46875 0 \nL 28.46875 56 \nQ 25.296875 52.984375 20.140625 49.953125 \nQ 14.984375 46.921875 10.890625 45.40625 \nL 10.890625 53.90625 \nQ 18.265625 57.375 23.78125 62.296875 \nQ 29.296875 67.234375 31.59375 71.875 \nL 37.25 71.875 \nz\n\" id=\"ArialMT-49\"/>\n        <path d=\"M 4.15625 35.296875 \nQ 4.15625 48 6.765625 55.734375 \nQ 9.375 63.484375 14.515625 67.671875 \nQ 19.671875 71.875 27.484375 71.875 \nQ 33.25 71.875 37.59375 69.546875 \nQ 41.9375 67.234375 44.765625 62.859375 \nQ 47.609375 58.5 49.21875 52.21875 \nQ 50.828125 45.953125 50.828125 35.296875 \nQ 50.828125 22.703125 48.234375 14.96875 \nQ 45.65625 7.234375 40.5 3 \nQ 35.359375 -1.21875 27.484375 -1.21875 \nQ 17.140625 -1.21875 11.234375 6.203125 \nQ 4.15625 15.140625 4.15625 35.296875 \nz\nM 13.1875 35.296875 \nQ 13.1875 17.671875 17.3125 11.828125 \nQ 21.4375 6 27.484375 6 \nQ 33.546875 6 37.671875 11.859375 \nQ 41.796875 17.71875 41.796875 35.296875 \nQ 41.796875 52.984375 37.671875 58.78125 \nQ 33.546875 64.59375 27.390625 64.59375 \nQ 21.34375 64.59375 17.71875 59.46875 \nQ 13.1875 52.9375 13.1875 35.296875 \nz\n\" id=\"ArialMT-48\"/>\n       </defs>\n       <use xlink:href=\"#ArialMT-49\"/>\n       <use x=\"55.615234\" xlink:href=\"#ArialMT-48\"/>\n      </g>\n     </g>\n    </g>\n    <g id=\"xtick_3\">\n     <g id=\"line2d_3\">\n      <path clip-path=\"url(#p223537e0aa)\" d=\"M 174.574895 224.64 \nL 174.574895 7.2 \n\" style=\"fill:none;stroke:#ffffff;stroke-linecap:round;\"/>\n     </g>\n     <g id=\"text_3\">\n      <!-- 15 -->\n      <g style=\"fill:#262626;\" transform=\"translate(168.457864 242.013594)scale(0.11 -0.11)\">\n       <use xlink:href=\"#ArialMT-49\"/>\n       <use x=\"55.615234\" xlink:href=\"#ArialMT-53\"/>\n      </g>\n     </g>\n    </g>\n    <g id=\"xtick_4\">\n     <g id=\"line2d_4\">\n      <path clip-path=\"url(#p223537e0aa)\" d=\"M 227.051384 224.64 \nL 227.051384 7.2 \n\" style=\"fill:none;stroke:#ffffff;stroke-linecap:round;\"/>\n     </g>\n     <g id=\"text_4\">\n      <!-- 20 -->\n      <g style=\"fill:#262626;\" transform=\"translate(220.934353 242.013594)scale(0.11 -0.11)\">\n       <defs>\n        <path d=\"M 50.34375 8.453125 \nL 50.34375 0 \nL 3.03125 0 \nQ 2.9375 3.171875 4.046875 6.109375 \nQ 5.859375 10.9375 9.828125 15.625 \nQ 13.8125 20.3125 21.34375 26.46875 \nQ 33.015625 36.03125 37.109375 41.625 \nQ 41.21875 47.21875 41.21875 52.203125 \nQ 41.21875 57.421875 37.46875 61 \nQ 33.734375 64.59375 27.734375 64.59375 \nQ 21.390625 64.59375 17.578125 60.78125 \nQ 13.765625 56.984375 13.71875 50.25 \nL 4.6875 51.171875 \nQ 5.609375 61.28125 11.65625 66.578125 \nQ 17.71875 71.875 27.9375 71.875 \nQ 38.234375 71.875 44.234375 66.15625 \nQ 50.25 60.453125 50.25 52 \nQ 50.25 47.703125 48.484375 43.546875 \nQ 46.734375 39.40625 42.65625 34.8125 \nQ 38.578125 30.21875 29.109375 22.21875 \nQ 21.1875 15.578125 18.9375 13.203125 \nQ 16.703125 10.84375 15.234375 8.453125 \nz\n\" id=\"ArialMT-50\"/>\n       </defs>\n       <use xlink:href=\"#ArialMT-50\"/>\n       <use x=\"55.615234\" xlink:href=\"#ArialMT-48\"/>\n      </g>\n     </g>\n    </g>\n    <g id=\"xtick_5\">\n     <g id=\"line2d_5\">\n      <path clip-path=\"url(#p223537e0aa)\" d=\"M 279.527873 224.64 \nL 279.527873 7.2 \n\" style=\"fill:none;stroke:#ffffff;stroke-linecap:round;\"/>\n     </g>\n     <g id=\"text_5\">\n      <!-- 25 -->\n      <g style=\"fill:#262626;\" transform=\"translate(273.410842 242.013594)scale(0.11 -0.11)\">\n       <use xlink:href=\"#ArialMT-50\"/>\n       <use x=\"55.615234\" xlink:href=\"#ArialMT-53\"/>\n      </g>\n     </g>\n    </g>\n    <g id=\"xtick_6\">\n     <g id=\"line2d_6\">\n      <path clip-path=\"url(#p223537e0aa)\" d=\"M 332.004362 224.64 \nL 332.004362 7.2 \n\" style=\"fill:none;stroke:#ffffff;stroke-linecap:round;\"/>\n     </g>\n     <g id=\"text_6\">\n      <!-- 30 -->\n      <g style=\"fill:#262626;\" transform=\"translate(325.887331 242.013594)scale(0.11 -0.11)\">\n       <defs>\n        <path d=\"M 4.203125 18.890625 \nL 12.984375 20.0625 \nQ 14.5 12.59375 18.140625 9.296875 \nQ 21.78125 6 27 6 \nQ 33.203125 6 37.46875 10.296875 \nQ 41.75 14.59375 41.75 20.953125 \nQ 41.75 27 37.796875 30.921875 \nQ 33.84375 34.859375 27.734375 34.859375 \nQ 25.25 34.859375 21.53125 33.890625 \nL 22.515625 41.609375 \nQ 23.390625 41.5 23.921875 41.5 \nQ 29.546875 41.5 34.03125 44.421875 \nQ 38.53125 47.359375 38.53125 53.46875 \nQ 38.53125 58.296875 35.25 61.46875 \nQ 31.984375 64.65625 26.8125 64.65625 \nQ 21.6875 64.65625 18.265625 61.421875 \nQ 14.84375 58.203125 13.875 51.765625 \nL 5.078125 53.328125 \nQ 6.6875 62.15625 12.390625 67.015625 \nQ 18.109375 71.875 26.609375 71.875 \nQ 32.46875 71.875 37.390625 69.359375 \nQ 42.328125 66.84375 44.9375 62.5 \nQ 47.5625 58.15625 47.5625 53.265625 \nQ 47.5625 48.640625 45.0625 44.828125 \nQ 42.578125 41.015625 37.703125 38.765625 \nQ 44.046875 37.3125 47.5625 32.6875 \nQ 51.078125 28.078125 51.078125 21.140625 \nQ 51.078125 11.765625 44.234375 5.25 \nQ 37.40625 -1.265625 26.953125 -1.265625 \nQ 17.53125 -1.265625 11.296875 4.34375 \nQ 5.078125 9.96875 4.203125 18.890625 \nz\n\" id=\"ArialMT-51\"/>\n       </defs>\n       <use xlink:href=\"#ArialMT-51\"/>\n       <use x=\"55.615234\" xlink:href=\"#ArialMT-48\"/>\n      </g>\n     </g>\n    </g>\n    <g id=\"text_7\">\n     <!-- avg_floors -->\n     <g style=\"fill:#262626;\" transform=\"translate(183.627813 256.935469)scale(0.12 -0.12)\">\n      <defs>\n       <path d=\"M 40.4375 6.390625 \nQ 35.546875 2.25 31.03125 0.53125 \nQ 26.515625 -1.171875 21.34375 -1.171875 \nQ 12.796875 -1.171875 8.203125 3 \nQ 3.609375 7.171875 3.609375 13.671875 \nQ 3.609375 17.484375 5.34375 20.625 \nQ 7.078125 23.78125 9.890625 25.6875 \nQ 12.703125 27.59375 16.21875 28.5625 \nQ 18.796875 29.25 24.03125 29.890625 \nQ 34.671875 31.15625 39.703125 32.90625 \nQ 39.75 34.71875 39.75 35.203125 \nQ 39.75 40.578125 37.25 42.78125 \nQ 33.890625 45.75 27.25 45.75 \nQ 21.046875 45.75 18.09375 43.578125 \nQ 15.140625 41.40625 13.71875 35.890625 \nL 5.125 37.0625 \nQ 6.296875 42.578125 8.984375 45.96875 \nQ 11.671875 49.359375 16.75 51.1875 \nQ 21.828125 53.03125 28.515625 53.03125 \nQ 35.15625 53.03125 39.296875 51.46875 \nQ 43.453125 49.90625 45.40625 47.53125 \nQ 47.359375 45.171875 48.140625 41.546875 \nQ 48.578125 39.3125 48.578125 33.453125 \nL 48.578125 21.734375 \nQ 48.578125 9.46875 49.140625 6.21875 \nQ 49.703125 2.984375 51.375 0 \nL 42.1875 0 \nQ 40.828125 2.734375 40.4375 6.390625 \nz\nM 39.703125 26.03125 \nQ 34.90625 24.078125 25.34375 22.703125 \nQ 19.921875 21.921875 17.671875 20.9375 \nQ 15.4375 19.96875 14.203125 18.09375 \nQ 12.984375 16.21875 12.984375 13.921875 \nQ 12.984375 10.40625 15.640625 8.0625 \nQ 18.3125 5.71875 23.4375 5.71875 \nQ 28.515625 5.71875 32.46875 7.9375 \nQ 36.421875 10.15625 38.28125 14.015625 \nQ 39.703125 17 39.703125 22.796875 \nz\n\" id=\"ArialMT-97\"/>\n       <path d=\"M 21 0 \nL 1.265625 51.859375 \nL 10.546875 51.859375 \nL 21.6875 20.796875 \nQ 23.484375 15.765625 25 10.359375 \nQ 26.171875 14.453125 28.265625 20.21875 \nL 39.796875 51.859375 \nL 48.828125 51.859375 \nL 29.203125 0 \nz\n\" id=\"ArialMT-118\"/>\n       <path d=\"M 4.984375 -4.296875 \nL 13.53125 -5.5625 \nQ 14.0625 -9.515625 16.5 -11.328125 \nQ 19.78125 -13.765625 25.4375 -13.765625 \nQ 31.546875 -13.765625 34.859375 -11.328125 \nQ 38.1875 -8.890625 39.359375 -4.5 \nQ 40.046875 -1.8125 39.984375 6.78125 \nQ 34.234375 0 25.640625 0 \nQ 14.9375 0 9.078125 7.71875 \nQ 3.21875 15.4375 3.21875 26.21875 \nQ 3.21875 33.640625 5.90625 39.90625 \nQ 8.59375 46.1875 13.6875 49.609375 \nQ 18.796875 53.03125 25.6875 53.03125 \nQ 34.859375 53.03125 40.828125 45.609375 \nL 40.828125 51.859375 \nL 48.921875 51.859375 \nL 48.921875 7.03125 \nQ 48.921875 -5.078125 46.453125 -10.125 \nQ 44 -15.1875 38.640625 -18.109375 \nQ 33.296875 -21.046875 25.484375 -21.046875 \nQ 16.21875 -21.046875 10.5 -16.875 \nQ 4.78125 -12.703125 4.984375 -4.296875 \nz\nM 12.25 26.859375 \nQ 12.25 16.65625 16.296875 11.96875 \nQ 20.359375 7.28125 26.46875 7.28125 \nQ 32.515625 7.28125 36.609375 11.9375 \nQ 40.71875 16.609375 40.71875 26.5625 \nQ 40.71875 36.078125 36.5 40.90625 \nQ 32.28125 45.75 26.3125 45.75 \nQ 20.453125 45.75 16.34375 40.984375 \nQ 12.25 36.234375 12.25 26.859375 \nz\n\" id=\"ArialMT-103\"/>\n       <path d=\"M -1.515625 -19.875 \nL -1.515625 -13.53125 \nL 56.734375 -13.53125 \nL 56.734375 -19.875 \nz\n\" id=\"ArialMT-95\"/>\n       <path d=\"M 8.6875 0 \nL 8.6875 45.015625 \nL 0.921875 45.015625 \nL 0.921875 51.859375 \nL 8.6875 51.859375 \nL 8.6875 57.375 \nQ 8.6875 62.59375 9.625 65.140625 \nQ 10.890625 68.5625 14.078125 70.671875 \nQ 17.28125 72.796875 23.046875 72.796875 \nQ 26.765625 72.796875 31.25 71.921875 \nL 29.9375 64.265625 \nQ 27.203125 64.75 24.75 64.75 \nQ 20.75 64.75 19.09375 63.03125 \nQ 17.4375 61.328125 17.4375 56.640625 \nL 17.4375 51.859375 \nL 27.546875 51.859375 \nL 27.546875 45.015625 \nL 17.4375 45.015625 \nL 17.4375 0 \nz\n\" id=\"ArialMT-102\"/>\n       <path d=\"M 6.390625 0 \nL 6.390625 71.578125 \nL 15.1875 71.578125 \nL 15.1875 0 \nz\n\" id=\"ArialMT-108\"/>\n       <path d=\"M 3.328125 25.921875 \nQ 3.328125 40.328125 11.328125 47.265625 \nQ 18.015625 53.03125 27.640625 53.03125 \nQ 38.328125 53.03125 45.109375 46.015625 \nQ 51.90625 39.015625 51.90625 26.65625 \nQ 51.90625 16.65625 48.90625 10.90625 \nQ 45.90625 5.171875 40.15625 2 \nQ 34.421875 -1.171875 27.640625 -1.171875 \nQ 16.75 -1.171875 10.03125 5.8125 \nQ 3.328125 12.796875 3.328125 25.921875 \nz\nM 12.359375 25.921875 \nQ 12.359375 15.96875 16.703125 11.015625 \nQ 21.046875 6.0625 27.640625 6.0625 \nQ 34.1875 6.0625 38.53125 11.03125 \nQ 42.875 16.015625 42.875 26.21875 \nQ 42.875 35.84375 38.5 40.796875 \nQ 34.125 45.75 27.640625 45.75 \nQ 21.046875 45.75 16.703125 40.8125 \nQ 12.359375 35.890625 12.359375 25.921875 \nz\n\" id=\"ArialMT-111\"/>\n       <path d=\"M 6.5 0 \nL 6.5 51.859375 \nL 14.40625 51.859375 \nL 14.40625 44 \nQ 17.4375 49.515625 20 51.265625 \nQ 22.5625 53.03125 25.640625 53.03125 \nQ 30.078125 53.03125 34.671875 50.203125 \nL 31.640625 42.046875 \nQ 28.421875 43.953125 25.203125 43.953125 \nQ 22.3125 43.953125 20.015625 42.21875 \nQ 17.71875 40.484375 16.75 37.40625 \nQ 15.28125 32.71875 15.28125 27.15625 \nL 15.28125 0 \nz\n\" id=\"ArialMT-114\"/>\n       <path d=\"M 3.078125 15.484375 \nL 11.765625 16.84375 \nQ 12.5 11.625 15.84375 8.84375 \nQ 19.1875 6.0625 25.203125 6.0625 \nQ 31.25 6.0625 34.171875 8.515625 \nQ 37.109375 10.984375 37.109375 14.3125 \nQ 37.109375 17.28125 34.515625 19 \nQ 32.71875 20.171875 25.53125 21.96875 \nQ 15.875 24.421875 12.140625 26.203125 \nQ 8.40625 27.984375 6.46875 31.125 \nQ 4.546875 34.28125 4.546875 38.09375 \nQ 4.546875 41.546875 6.125 44.5 \nQ 7.71875 47.46875 10.453125 49.421875 \nQ 12.5 50.921875 16.03125 51.96875 \nQ 19.578125 53.03125 23.640625 53.03125 \nQ 29.734375 53.03125 34.34375 51.265625 \nQ 38.96875 49.515625 41.15625 46.5 \nQ 43.359375 43.5 44.1875 38.484375 \nL 35.59375 37.3125 \nQ 35.015625 41.3125 32.203125 43.546875 \nQ 29.390625 45.796875 24.265625 45.796875 \nQ 18.21875 45.796875 15.625 43.796875 \nQ 13.03125 41.796875 13.03125 39.109375 \nQ 13.03125 37.40625 14.109375 36.03125 \nQ 15.1875 34.625 17.484375 33.6875 \nQ 18.796875 33.203125 25.25 31.453125 \nQ 34.578125 28.953125 38.25 27.359375 \nQ 41.9375 25.78125 44.03125 22.75 \nQ 46.140625 19.734375 46.140625 15.234375 \nQ 46.140625 10.84375 43.578125 6.953125 \nQ 41.015625 3.078125 36.171875 0.953125 \nQ 31.34375 -1.171875 25.25 -1.171875 \nQ 15.140625 -1.171875 9.84375 3.03125 \nQ 4.546875 7.234375 3.078125 15.484375 \nz\n\" id=\"ArialMT-115\"/>\n      </defs>\n      <use xlink:href=\"#ArialMT-97\"/>\n      <use x=\"55.615234\" xlink:href=\"#ArialMT-118\"/>\n      <use x=\"105.615234\" xlink:href=\"#ArialMT-103\"/>\n      <use x=\"161.230469\" xlink:href=\"#ArialMT-95\"/>\n      <use x=\"216.845703\" xlink:href=\"#ArialMT-102\"/>\n      <use x=\"244.628906\" xlink:href=\"#ArialMT-108\"/>\n      <use x=\"266.845703\" xlink:href=\"#ArialMT-111\"/>\n      <use x=\"322.460938\" xlink:href=\"#ArialMT-111\"/>\n      <use x=\"378.076172\" xlink:href=\"#ArialMT-114\"/>\n      <use x=\"411.376953\" xlink:href=\"#ArialMT-115\"/>\n     </g>\n    </g>\n   </g>\n   <g id=\"matplotlib.axis_2\">\n    <g id=\"ytick_1\">\n     <g id=\"line2d_7\">\n      <path clip-path=\"url(#p223537e0aa)\" d=\"M 43.908438 224.64 \nL 378.708438 224.64 \n\" style=\"fill:none;stroke:#ffffff;stroke-linecap:round;\"/>\n     </g>\n     <g id=\"text_8\">\n      <!-- 0 -->\n      <g style=\"fill:#262626;\" transform=\"translate(28.291406 228.576797)scale(0.11 -0.11)\">\n       <use xlink:href=\"#ArialMT-48\"/>\n      </g>\n     </g>\n    </g>\n    <g id=\"ytick_2\">\n     <g id=\"line2d_8\">\n      <path clip-path=\"url(#p223537e0aa)\" d=\"M 43.908438 192.780659 \nL 378.708438 192.780659 \n\" style=\"fill:none;stroke:#ffffff;stroke-linecap:round;\"/>\n     </g>\n     <g id=\"text_9\">\n      <!-- 2 -->\n      <g style=\"fill:#262626;\" transform=\"translate(28.291406 196.717456)scale(0.11 -0.11)\">\n       <use xlink:href=\"#ArialMT-50\"/>\n      </g>\n     </g>\n    </g>\n    <g id=\"ytick_3\">\n     <g id=\"line2d_9\">\n      <path clip-path=\"url(#p223537e0aa)\" d=\"M 43.908438 160.921319 \nL 378.708438 160.921319 \n\" style=\"fill:none;stroke:#ffffff;stroke-linecap:round;\"/>\n     </g>\n     <g id=\"text_10\">\n      <!-- 4 -->\n      <g style=\"fill:#262626;\" transform=\"translate(28.291406 164.858116)scale(0.11 -0.11)\">\n       <defs>\n        <path d=\"M 32.328125 0 \nL 32.328125 17.140625 \nL 1.265625 17.140625 \nL 1.265625 25.203125 \nL 33.9375 71.578125 \nL 41.109375 71.578125 \nL 41.109375 25.203125 \nL 50.78125 25.203125 \nL 50.78125 17.140625 \nL 41.109375 17.140625 \nL 41.109375 0 \nz\nM 32.328125 25.203125 \nL 32.328125 57.46875 \nL 9.90625 25.203125 \nz\n\" id=\"ArialMT-52\"/>\n       </defs>\n       <use xlink:href=\"#ArialMT-52\"/>\n      </g>\n     </g>\n    </g>\n    <g id=\"ytick_4\">\n     <g id=\"line2d_10\">\n      <path clip-path=\"url(#p223537e0aa)\" d=\"M 43.908438 129.061978 \nL 378.708438 129.061978 \n\" style=\"fill:none;stroke:#ffffff;stroke-linecap:round;\"/>\n     </g>\n     <g id=\"text_11\">\n      <!-- 6 -->\n      <g style=\"fill:#262626;\" transform=\"translate(28.291406 132.998775)scale(0.11 -0.11)\">\n       <defs>\n        <path d=\"M 49.75 54.046875 \nL 41.015625 53.375 \nQ 39.84375 58.546875 37.703125 60.890625 \nQ 34.125 64.65625 28.90625 64.65625 \nQ 24.703125 64.65625 21.53125 62.3125 \nQ 17.390625 59.28125 14.984375 53.46875 \nQ 12.59375 47.65625 12.5 36.921875 \nQ 15.671875 41.75 20.265625 44.09375 \nQ 24.859375 46.4375 29.890625 46.4375 \nQ 38.671875 46.4375 44.84375 39.96875 \nQ 51.03125 33.5 51.03125 23.25 \nQ 51.03125 16.5 48.125 10.71875 \nQ 45.21875 4.9375 40.140625 1.859375 \nQ 35.0625 -1.21875 28.609375 -1.21875 \nQ 17.625 -1.21875 10.6875 6.859375 \nQ 3.765625 14.9375 3.765625 33.5 \nQ 3.765625 54.25 11.421875 63.671875 \nQ 18.109375 71.875 29.4375 71.875 \nQ 37.890625 71.875 43.28125 67.140625 \nQ 48.6875 62.40625 49.75 54.046875 \nz\nM 13.875 23.1875 \nQ 13.875 18.65625 15.796875 14.5 \nQ 17.71875 10.359375 21.1875 8.171875 \nQ 24.65625 6 28.46875 6 \nQ 34.03125 6 38.03125 10.484375 \nQ 42.046875 14.984375 42.046875 22.703125 \nQ 42.046875 30.125 38.078125 34.390625 \nQ 34.125 38.671875 28.125 38.671875 \nQ 22.171875 38.671875 18.015625 34.390625 \nQ 13.875 30.125 13.875 23.1875 \nz\n\" id=\"ArialMT-54\"/>\n       </defs>\n       <use xlink:href=\"#ArialMT-54\"/>\n      </g>\n     </g>\n    </g>\n    <g id=\"ytick_5\">\n     <g id=\"line2d_11\">\n      <path clip-path=\"url(#p223537e0aa)\" d=\"M 43.908438 97.202637 \nL 378.708438 97.202637 \n\" style=\"fill:none;stroke:#ffffff;stroke-linecap:round;\"/>\n     </g>\n     <g id=\"text_12\">\n      <!-- 8 -->\n      <g style=\"fill:#262626;\" transform=\"translate(28.291406 101.139434)scale(0.11 -0.11)\">\n       <defs>\n        <path d=\"M 17.671875 38.8125 \nQ 12.203125 40.828125 9.5625 44.53125 \nQ 6.9375 48.25 6.9375 53.421875 \nQ 6.9375 61.234375 12.546875 66.546875 \nQ 18.171875 71.875 27.484375 71.875 \nQ 36.859375 71.875 42.578125 66.421875 \nQ 48.296875 60.984375 48.296875 53.171875 \nQ 48.296875 48.1875 45.671875 44.5 \nQ 43.0625 40.828125 37.75 38.8125 \nQ 44.34375 36.671875 47.78125 31.875 \nQ 51.21875 27.09375 51.21875 20.453125 \nQ 51.21875 11.28125 44.71875 5.03125 \nQ 38.234375 -1.21875 27.640625 -1.21875 \nQ 17.046875 -1.21875 10.546875 5.046875 \nQ 4.046875 11.328125 4.046875 20.703125 \nQ 4.046875 27.6875 7.59375 32.390625 \nQ 11.140625 37.109375 17.671875 38.8125 \nz\nM 15.921875 53.71875 \nQ 15.921875 48.640625 19.1875 45.40625 \nQ 22.46875 42.1875 27.6875 42.1875 \nQ 32.765625 42.1875 36.015625 45.375 \nQ 39.265625 48.578125 39.265625 53.21875 \nQ 39.265625 58.0625 35.90625 61.359375 \nQ 32.5625 64.65625 27.59375 64.65625 \nQ 22.5625 64.65625 19.234375 61.421875 \nQ 15.921875 58.203125 15.921875 53.71875 \nz\nM 13.09375 20.65625 \nQ 13.09375 16.890625 14.875 13.375 \nQ 16.65625 9.859375 20.171875 7.921875 \nQ 23.6875 6 27.734375 6 \nQ 34.03125 6 38.125 10.046875 \nQ 42.234375 14.109375 42.234375 20.359375 \nQ 42.234375 26.703125 38.015625 30.859375 \nQ 33.796875 35.015625 27.4375 35.015625 \nQ 21.234375 35.015625 17.15625 30.90625 \nQ 13.09375 26.8125 13.09375 20.65625 \nz\n\" id=\"ArialMT-56\"/>\n       </defs>\n       <use xlink:href=\"#ArialMT-56\"/>\n      </g>\n     </g>\n    </g>\n    <g id=\"ytick_6\">\n     <g id=\"line2d_12\">\n      <path clip-path=\"url(#p223537e0aa)\" d=\"M 43.908438 65.343297 \nL 378.708438 65.343297 \n\" style=\"fill:none;stroke:#ffffff;stroke-linecap:round;\"/>\n     </g>\n     <g id=\"text_13\">\n      <!-- 10 -->\n      <g style=\"fill:#262626;\" transform=\"translate(22.174375 69.280094)scale(0.11 -0.11)\">\n       <use xlink:href=\"#ArialMT-49\"/>\n       <use x=\"55.615234\" xlink:href=\"#ArialMT-48\"/>\n      </g>\n     </g>\n    </g>\n    <g id=\"ytick_7\">\n     <g id=\"line2d_13\">\n      <path clip-path=\"url(#p223537e0aa)\" d=\"M 43.908438 33.483956 \nL 378.708438 33.483956 \n\" style=\"fill:none;stroke:#ffffff;stroke-linecap:round;\"/>\n     </g>\n     <g id=\"text_14\">\n      <!-- 12 -->\n      <g style=\"fill:#262626;\" transform=\"translate(22.174375 37.420753)scale(0.11 -0.11)\">\n       <use xlink:href=\"#ArialMT-49\"/>\n       <use x=\"55.615234\" xlink:href=\"#ArialMT-50\"/>\n      </g>\n     </g>\n    </g>\n    <g id=\"text_15\">\n     <!-- Count -->\n     <g style=\"fill:#262626;\" transform=\"translate(15.789375 131.929688)rotate(-90)scale(0.12 -0.12)\">\n      <defs>\n       <path d=\"M 58.796875 25.09375 \nL 68.265625 22.703125 \nQ 65.28125 11.03125 57.546875 4.90625 \nQ 49.8125 -1.21875 38.625 -1.21875 \nQ 27.046875 -1.21875 19.796875 3.484375 \nQ 12.546875 8.203125 8.765625 17.140625 \nQ 4.984375 26.078125 4.984375 36.328125 \nQ 4.984375 47.515625 9.25 55.828125 \nQ 13.53125 64.15625 21.40625 68.46875 \nQ 29.296875 72.796875 38.765625 72.796875 \nQ 49.515625 72.796875 56.828125 67.328125 \nQ 64.15625 61.859375 67.046875 51.953125 \nL 57.71875 49.75 \nQ 55.21875 57.5625 50.484375 61.125 \nQ 45.75 64.703125 38.578125 64.703125 \nQ 30.328125 64.703125 24.78125 60.734375 \nQ 19.234375 56.78125 16.984375 50.109375 \nQ 14.75 43.453125 14.75 36.375 \nQ 14.75 27.25 17.40625 20.4375 \nQ 20.0625 13.625 25.671875 10.25 \nQ 31.296875 6.890625 37.84375 6.890625 \nQ 45.796875 6.890625 51.3125 11.46875 \nQ 56.84375 16.0625 58.796875 25.09375 \nz\n\" id=\"ArialMT-67\"/>\n       <path d=\"M 40.578125 0 \nL 40.578125 7.625 \nQ 34.515625 -1.171875 24.125 -1.171875 \nQ 19.53125 -1.171875 15.546875 0.578125 \nQ 11.578125 2.34375 9.640625 5 \nQ 7.71875 7.671875 6.9375 11.53125 \nQ 6.390625 14.109375 6.390625 19.734375 \nL 6.390625 51.859375 \nL 15.1875 51.859375 \nL 15.1875 23.09375 \nQ 15.1875 16.21875 15.71875 13.8125 \nQ 16.546875 10.359375 19.234375 8.375 \nQ 21.921875 6.390625 25.875 6.390625 \nQ 29.828125 6.390625 33.296875 8.421875 \nQ 36.765625 10.453125 38.203125 13.9375 \nQ 39.65625 17.4375 39.65625 24.078125 \nL 39.65625 51.859375 \nL 48.4375 51.859375 \nL 48.4375 0 \nz\n\" id=\"ArialMT-117\"/>\n       <path d=\"M 6.59375 0 \nL 6.59375 51.859375 \nL 14.5 51.859375 \nL 14.5 44.484375 \nQ 20.21875 53.03125 31 53.03125 \nQ 35.6875 53.03125 39.625 51.34375 \nQ 43.5625 49.65625 45.515625 46.921875 \nQ 47.46875 44.1875 48.25 40.4375 \nQ 48.734375 37.984375 48.734375 31.890625 \nL 48.734375 0 \nL 39.9375 0 \nL 39.9375 31.546875 \nQ 39.9375 36.921875 38.90625 39.578125 \nQ 37.890625 42.234375 35.28125 43.8125 \nQ 32.671875 45.40625 29.15625 45.40625 \nQ 23.53125 45.40625 19.453125 41.84375 \nQ 15.375 38.28125 15.375 28.328125 \nL 15.375 0 \nz\n\" id=\"ArialMT-110\"/>\n       <path d=\"M 25.78125 7.859375 \nL 27.046875 0.09375 \nQ 23.34375 -0.6875 20.40625 -0.6875 \nQ 15.625 -0.6875 12.984375 0.828125 \nQ 10.359375 2.34375 9.28125 4.8125 \nQ 8.203125 7.28125 8.203125 15.1875 \nL 8.203125 45.015625 \nL 1.765625 45.015625 \nL 1.765625 51.859375 \nL 8.203125 51.859375 \nL 8.203125 64.703125 \nL 16.9375 69.96875 \nL 16.9375 51.859375 \nL 25.78125 51.859375 \nL 25.78125 45.015625 \nL 16.9375 45.015625 \nL 16.9375 14.703125 \nQ 16.9375 10.9375 17.40625 9.859375 \nQ 17.875 8.796875 18.921875 8.15625 \nQ 19.96875 7.515625 21.921875 7.515625 \nQ 23.390625 7.515625 25.78125 7.859375 \nz\n\" id=\"ArialMT-116\"/>\n      </defs>\n      <use xlink:href=\"#ArialMT-67\"/>\n      <use x=\"72.216797\" xlink:href=\"#ArialMT-111\"/>\n      <use x=\"127.832031\" xlink:href=\"#ArialMT-117\"/>\n      <use x=\"183.447266\" xlink:href=\"#ArialMT-110\"/>\n      <use x=\"239.0625\" xlink:href=\"#ArialMT-116\"/>\n     </g>\n    </g>\n   </g>\n   <g id=\"patch_3\">\n    <path clip-path=\"url(#p223537e0aa)\" d=\"M 59.126619 224.64 \nL 89.562983 224.64 \nL 89.562983 17.554286 \nL 59.126619 17.554286 \nz\n\" style=\"fill:#4c72b0;fill-opacity:0.75;stroke:#ffffff;stroke-linejoin:miter;\"/>\n   </g>\n   <g id=\"patch_4\">\n    <path clip-path=\"url(#p223537e0aa)\" d=\"M 89.562983 224.64 \nL 119.999347 224.64 \nL 119.999347 160.921319 \nL 89.562983 160.921319 \nz\n\" style=\"fill:#4c72b0;fill-opacity:0.75;stroke:#ffffff;stroke-linejoin:miter;\"/>\n   </g>\n   <g id=\"patch_5\">\n    <path clip-path=\"url(#p223537e0aa)\" d=\"M 119.999347 224.64 \nL 150.43571 224.64 \nL 150.43571 144.991648 \nL 119.999347 144.991648 \nz\n\" style=\"fill:#4c72b0;fill-opacity:0.75;stroke:#ffffff;stroke-linejoin:miter;\"/>\n   </g>\n   <g id=\"patch_6\">\n    <path clip-path=\"url(#p223537e0aa)\" d=\"M 150.43571 224.64 \nL 180.872074 224.64 \nL 180.872074 160.921319 \nL 150.43571 160.921319 \nz\n\" style=\"fill:#4c72b0;fill-opacity:0.75;stroke:#ffffff;stroke-linejoin:miter;\"/>\n   </g>\n   <g id=\"patch_7\">\n    <path clip-path=\"url(#p223537e0aa)\" d=\"M 180.872074 224.64 \nL 211.308437 224.64 \nL 211.308437 208.71033 \nL 180.872074 208.71033 \nz\n\" style=\"fill:#4c72b0;fill-opacity:0.75;stroke:#ffffff;stroke-linejoin:miter;\"/>\n   </g>\n   <g id=\"patch_8\">\n    <path clip-path=\"url(#p223537e0aa)\" d=\"M 211.308437 224.64 \nL 241.744801 224.64 \nL 241.744801 160.921319 \nL 211.308437 160.921319 \nz\n\" style=\"fill:#4c72b0;fill-opacity:0.75;stroke:#ffffff;stroke-linejoin:miter;\"/>\n   </g>\n   <g id=\"patch_9\">\n    <path clip-path=\"url(#p223537e0aa)\" d=\"M 241.744801 224.64 \nL 272.181165 224.64 \nL 272.181165 208.71033 \nL 241.744801 208.71033 \nz\n\" style=\"fill:#4c72b0;fill-opacity:0.75;stroke:#ffffff;stroke-linejoin:miter;\"/>\n   </g>\n   <g id=\"patch_10\">\n    <path clip-path=\"url(#p223537e0aa)\" d=\"M 272.181165 224.64 \nL 302.617528 224.64 \nL 302.617528 192.780659 \nL 272.181165 192.780659 \nz\n\" style=\"fill:#4c72b0;fill-opacity:0.75;stroke:#ffffff;stroke-linejoin:miter;\"/>\n   </g>\n   <g id=\"patch_11\">\n    <path clip-path=\"url(#p223537e0aa)\" d=\"M 302.617528 224.64 \nL 333.053892 224.64 \nL 333.053892 192.780659 \nL 302.617528 192.780659 \nz\n\" style=\"fill:#4c72b0;fill-opacity:0.75;stroke:#ffffff;stroke-linejoin:miter;\"/>\n   </g>\n   <g id=\"patch_12\">\n    <path clip-path=\"url(#p223537e0aa)\" d=\"M 333.053892 224.64 \nL 363.490256 224.64 \nL 363.490256 192.780659 \nL 333.053892 192.780659 \nz\n\" style=\"fill:#4c72b0;fill-opacity:0.75;stroke:#ffffff;stroke-linejoin:miter;\"/>\n   </g>\n   <g id=\"patch_13\">\n    <path d=\"M 43.908438 224.64 \nL 43.908438 7.2 \n\" style=\"fill:none;stroke:#ffffff;stroke-linecap:square;stroke-linejoin:miter;stroke-width:1.25;\"/>\n   </g>\n   <g id=\"patch_14\">\n    <path d=\"M 378.708438 224.64 \nL 378.708438 7.2 \n\" style=\"fill:none;stroke:#ffffff;stroke-linecap:square;stroke-linejoin:miter;stroke-width:1.25;\"/>\n   </g>\n   <g id=\"patch_15\">\n    <path d=\"M 43.908438 224.64 \nL 378.708438 224.64 \n\" style=\"fill:none;stroke:#ffffff;stroke-linecap:square;stroke-linejoin:miter;stroke-width:1.25;\"/>\n   </g>\n   <g id=\"patch_16\">\n    <path d=\"M 43.908438 7.2 \nL 378.708438 7.2 \n\" style=\"fill:none;stroke:#ffffff;stroke-linecap:square;stroke-linejoin:miter;stroke-width:1.25;\"/>\n   </g>\n  </g>\n </g>\n <defs>\n  <clipPath id=\"p223537e0aa\">\n   <rect height=\"217.44\" width=\"334.8\" x=\"43.908438\" y=\"7.2\"/>\n  </clipPath>\n </defs>\n</svg>\n",
      "image/png": "[encoded data removed]"
     },
     "metadata": {
      "needs_background": "light"
     }
    }
   ],
   "source": [
    "create_distribution_plot(updated_compounds_v1, 'avg_floors')"
   ]
  },
  {
   "cell_type": "code",
   "execution_count": 37,
   "metadata": {},
   "outputs": [
    {
     "output_type": "execute_result",
     "data": {
      "text/plain": [
       "{'compound_name': '泰荣苑',\n",
       " 'link': 'https://sh.lianjia.com/xiaoqu/5011000018279/',\n",
       " 'available_address': '水城路680弄',\n",
       " 'year_of_construction': 2002,\n",
       " 'building_type': '板楼/塔板结合',\n",
       " 'management_company': '上海长宁顿肯房地产开发经营有限公司',\n",
       " 'developer_company': '上海长宁顿肯房地产开发经营有限公司',\n",
       " 'number_of_buildings': 2,\n",
       " 'number_of_rooms': 244,\n",
       " 'name': '泰荣苑',\n",
       " 'location': {'lat': 31.217847, 'lng': 121.398512},\n",
       " 'address': '水城路680弄1-2号',\n",
       " 'province': '上海市',\n",
       " 'city': '上海市',\n",
       " 'area': '长宁区',\n",
       " 'street_id': '49d959385e7f6542c61e511c',\n",
       " 'detail': 1,\n",
       " 'uid': '49d959385e7f6542c61e511c',\n",
       " 'sum_of_prices($/space)': 97530,\n",
       " 'sum_of_prices(total)': 15750000,\n",
       " 'sum_of_area(sq_meters)': 161.49,\n",
       " 'sum_of_floors': 33,\n",
       " 'units_on_sale': 1,\n",
       " 'avg_prices($/space)': 97530.0,\n",
       " 'avg_prices(total)': 15750000.0,\n",
       " 'avg_area(sq_meters)': 161.49,\n",
       " 'avg_floors': 33.0}"
      ]
     },
     "metadata": {},
     "execution_count": 37
    }
   ],
   "source": [
    "selected_data = np.array([i['avg_floors'] for i in updated_compounds_v1])\n",
    "updated_compounds_v1[np.argmax(selected_data)]\n"
   ]
  },
  {
   "cell_type": "code",
   "execution_count": 38,
   "metadata": {},
   "outputs": [],
   "source": [
    "with open('detailed_compounds.json', 'w') as compound_json:\n",
    "    json.dump(updated_compounds_v1, compound_json, ensure_ascii=False)"
   ]
  },
  {
   "cell_type": "code",
   "execution_count": 97,
   "metadata": {},
   "outputs": [
    {
     "output_type": "execute_result",
     "data": {
      "text/plain": [
       "(32, 56, 3)"
      ]
     },
     "metadata": {},
     "execution_count": 97
    }
   ],
   "source": [
    "from PIL import Image\n",
    "\n",
    "base_icon = Image.open('recolorable_pointer.png')\n",
    "\n",
    "icon_arr = np.array(base_icon)\n",
    "icon_expanded = np.repeat(icon_arr, 3, -1).reshape(32,56,3)\n",
    "icon_expanded.shape\n",
    "icon_refreshed_ls = []\n",
    "for n in icon_expanded.flatten():\n",
    "    if n != 0:\n",
    "        icon_refreshed_ls.append(0)\n",
    "    else:\n",
    "        icon_refreshed_ls.append(255)\n",
    "icon_refreshed = np.array(icon_refreshed_ls).reshape(32,56,3)"
   ]
  },
  {
   "cell_type": "code",
   "execution_count": 100,
   "metadata": {},
   "outputs": [],
   "source": []
  },
  {
   "cell_type": "code",
   "execution_count": 101,
   "metadata": {},
   "outputs": [],
   "source": []
  },
  {
   "cell_type": "code",
   "execution_count": 102,
   "metadata": {},
   "outputs": [],
   "source": [
    "\n",
    "try_im = Image.fromarray(icon_refreshed.astype(np.uint8))\n",
    "try_im.show()"
   ]
  },
  {
   "cell_type": "code",
   "execution_count": 103,
   "metadata": {},
   "outputs": [],
   "source": [
    "from colour import Color"
   ]
  },
  {
   "cell_type": "code",
   "execution_count": 105,
   "metadata": {},
   "outputs": [],
   "source": [
    "ls = icon_refreshed.tolist()"
   ]
  },
  {
   "cell_type": "code",
   "execution_count": 106,
   "metadata": {},
   "outputs": [
    {
     "output_type": "execute_result",
     "data": {
      "text/plain": [
       "255"
      ]
     },
     "metadata": {},
     "execution_count": 106
    }
   ],
   "source": [
    "icon_refreshed.max()"
   ]
  },
  {
   "cell_type": "code",
   "execution_count": 109,
   "metadata": {},
   "outputs": [],
   "source": [
    "import copy"
   ]
  },
  {
   "cell_type": "code",
   "execution_count": 131,
   "metadata": {},
   "outputs": [
    {
     "output_type": "stream",
     "name": "stdout",
     "text": [
      "0\n",
      "10\n",
      "20\n",
      "30\n",
      "40\n",
      "50\n",
      "60\n",
      "70\n",
      "80\n",
      "90\n"
     ]
    }
   ],
   "source": [
    "orange = Color('orange')\n",
    "color_range = list(orange.range_to(Color('blue'), 100))\n",
    "for n, c in enumerate(orange.range_to(Color('blue'), 100)):\n",
    "    if n % 10 == 0:\n",
    "        print(n)\n",
    "    new_ls = copy.deepcopy(ls)\n",
    "    for x in range(len(ls)):\n",
    "        for y in range(len(ls[0])):\n",
    "            for i,(a,b) in enumerate(zip(c.rgb, ls[x][y])):\n",
    "                new_ls[x][y][i] = a*b\n",
    "            if sum(new_ls[x][y]) == 0:\n",
    "                new_ls[x][y].append(0)\n",
    "            else:\n",
    "                new_ls[x][y].append(255)\n",
    "    new_im = Image.fromarray(np.array(new_ls).astype(np.uint8))\n",
    "    new_im.save(f'index/icon_fade_{n}.png', 'PNG')\n",
    "\n",
    "\n",
    "\n"
   ]
  },
  {
   "cell_type": "code",
   "execution_count": 93,
   "metadata": {},
   "outputs": [
    {
     "output_type": "execute_result",
     "data": {
      "text/plain": [
       "(1.0, 0.6470588235294115, 0.0)"
      ]
     },
     "metadata": {},
     "execution_count": 93
    }
   ],
   "source": [
    "color_range[0].rgb"
   ]
  },
  {
   "cell_type": "code",
   "execution_count": 128,
   "metadata": {},
   "outputs": [],
   "source": [
    "new_ls = copy.deepcopy(ls)\n",
    "c = color_range[0]\n",
    "for x in range(len(ls)):\n",
    "    for y in range(len(ls[0])):\n",
    "        for i,(a,b) in enumerate(zip(c.rgb, ls[x][y])):\n",
    "            new_ls[x][y][i] = a*b\n",
    "        if sum(new_ls[x][y]) == 0:\n",
    "            new_ls[x][y].append(0)\n",
    "        else:\n",
    "            new_ls[x][y].append(255)"
   ]
  },
  {
   "cell_type": "code",
   "execution_count": 129,
   "metadata": {},
   "outputs": [
    {
     "output_type": "execute_result",
     "data": {
      "text/plain": [
       "(32, 56, 4)"
      ]
     },
     "metadata": {},
     "execution_count": 129
    }
   ],
   "source": [
    "arr = np.array(new_ls)\n",
    "arr.shape"
   ]
  },
  {
   "cell_type": "code",
   "execution_count": 130,
   "metadata": {},
   "outputs": [],
   "source": [
    "test_im = Image.fromarray(arr.astype(np.uint8))\n",
    "test_im.show()"
   ]
  },
  {
   "cell_type": "code",
   "execution_count": 132,
   "metadata": {},
   "outputs": [],
   "source": [
    "with open('detailed_compounds.json', 'r') as comp_json:\n",
    "    compounds = json.load(comp_json)"
   ]
  },
  {
   "cell_type": "code",
   "execution_count": 134,
   "metadata": {},
   "outputs": [
    {
     "output_type": "execute_result",
     "data": {
      "text/plain": [
       "dict_keys(['compound_name', 'link', 'available_address', 'year_of_construction', 'building_type', 'management_company', 'developer_company', 'number_of_buildings', 'number_of_rooms', 'name', 'location', 'address', 'sum_of_prices($/space)', 'sum_of_prices(total)', 'sum_of_area(sq_meters)', 'sum_of_floors', 'units_on_sale', 'avg_prices($/space)', 'avg_prices(total)', 'avg_area(sq_meters)', 'avg_floors'])"
      ]
     },
     "metadata": {},
     "execution_count": 134
    }
   ],
   "source": [
    "compounds[0].keys()"
   ]
  },
  {
   "cell_type": "code",
   "execution_count": 133,
   "metadata": {},
   "outputs": [],
   "source": [
    "def add_rank_attr(compounds, key):\n",
    "    new_compounds = copy.deepcopy(compounds)\n",
    "    selected_attr = np.array([i[key] for i in compounds])\n",
    "    attr_max = selected_attr.max()\n",
    "    attr_min = selected_attr.min()\n",
    "    lin_range = np.linspace(attr_min, attr_max, 50)\n",
    "    print(len(lin_range))\n",
    "    ranked_attr = []\n",
    "    for j,a in enumerate(selected_attr):\n",
    "        for i,r in enumerate(lin_range):\n",
    "            if a < r:\n",
    "                new_compounds[j][f'{key}_ranking'] = i - 1\n",
    "                break\n",
    "        else:\n",
    "            new_compounds[j][f'{key}_ranking'] = len(lin_range) - 1\n",
    "    return new_compounds\n",
    "            \n",
    "\n"
   ]
  },
  {
   "cell_type": "code",
   "execution_count": 135,
   "metadata": {},
   "outputs": [
    {
     "output_type": "stream",
     "name": "stdout",
     "text": [
      "50\n"
     ]
    }
   ],
   "source": [
    "try_compounds = add_rank_attr(compounds, 'year_of_construction')"
   ]
  },
  {
   "cell_type": "code",
   "execution_count": 138,
   "metadata": {},
   "outputs": [
    {
     "output_type": "stream",
     "name": "stdout",
     "text": [
      "50\n50\n50\n50\n50\n50\n50\n"
     ]
    }
   ],
   "source": [
    "for k in ['year_of_construction', 'number_of_buildings', 'number_of_rooms', 'avg_prices($/space)', 'avg_prices(total)', 'avg_area(sq_meters)', 'avg_floors']:\n",
    "    compounds = add_rank_attr(compounds, k)"
   ]
  },
  {
   "cell_type": "code",
   "execution_count": 139,
   "metadata": {},
   "outputs": [
    {
     "output_type": "execute_result",
     "data": {
      "text/plain": [
       "{'compound_name': '虹桥电子时代广场',\n",
       " 'link': 'https://sh.lianjia.com/xiaoqu/5011000011570/',\n",
       " 'available_address': '天山支路168号',\n",
       " 'year_of_construction': 2001,\n",
       " 'building_type': '板楼',\n",
       " 'management_company': '上海嘉平物业管理有限公司',\n",
       " 'developer_company': '上海嘉平房地产有限公司',\n",
       " 'number_of_buildings': 1,\n",
       " 'number_of_rooms': 585,\n",
       " 'name': '天山支路168号',\n",
       " 'location': {'lat': 31.22062, 'lng': 121.40283},\n",
       " 'address': '长宁区',\n",
       " 'sum_of_prices($/space)': 89419,\n",
       " 'sum_of_prices(total)': 7300000,\n",
       " 'sum_of_area(sq_meters)': 159.8,\n",
       " 'sum_of_floors': 18,\n",
       " 'units_on_sale': 2,\n",
       " 'avg_prices($/space)': 44709.5,\n",
       " 'avg_prices(total)': 3650000.0,\n",
       " 'avg_area(sq_meters)': 79.9,\n",
       " 'avg_floors': 9.0,\n",
       " 'year_of_construction_ranking': 39,\n",
       " 'number_of_buildings_ranking': 0,\n",
       " 'number_of_rooms_ranking': 4,\n",
       " 'avg_prices($/space)_ranking': 5,\n",
       " 'avg_prices(total)_ranking': 3,\n",
       " 'avg_area(sq_meters)_ranking': 12,\n",
       " 'avg_floors_ranking': 8}"
      ]
     },
     "metadata": {},
     "execution_count": 139
    }
   ],
   "source": [
    "compounds[0]"
   ]
  },
  {
   "cell_type": "code",
   "execution_count": 140,
   "metadata": {},
   "outputs": [],
   "source": [
    "with open('detailed_compounds.json', 'w') as compounds_json:\n",
    "    json.dump(compounds, compounds_json, ensure_ascii=False)"
   ]
  },
  {
   "cell_type": "code",
   "execution_count": 141,
   "metadata": {},
   "outputs": [
    {
     "output_type": "stream",
     "name": "stdout",
     "text": [
      "year_of_construction_ranking\nnumber_of_buildings_ranking\nnumber_of_rooms_ranking\navg_prices($/space)_ranking\navg_prices(total)_ranking\navg_area(sq_meters)_ranking\navg_floors_ranking\n"
     ]
    }
   ],
   "source": [
    "for k in compounds[0].keys():\n",
    "    if '_ranking' in k:\n",
    "        print(k)"
   ]
  },
  {
   "source": [
    "## 5/22 Cells"
   ],
   "cell_type": "markdown",
   "metadata": {}
  },
  {
   "cell_type": "code",
   "execution_count": 9,
   "metadata": {},
   "outputs": [],
   "source": [
    "import json, numpy as np, copy"
   ]
  },
  {
   "cell_type": "code",
   "execution_count": 39,
   "metadata": {},
   "outputs": [],
   "source": [
    "with open('detailed_compounds.json', 'r') as comp_json:\n",
    "    compounds = json.load(comp_json)"
   ]
  },
  {
   "cell_type": "code",
   "execution_count": 37,
   "metadata": {},
   "outputs": [],
   "source": [
    "def label_outliers(data, k, m=2):\n",
    "    new_data = []\n",
    "    selected_data = np.array([i[k] for i in data])\n",
    "    mask_arr = (abs(selected_data - np.mean(selected_data)) < (m * np.std(selected_data)))\n",
    "    for mask, c in zip(mask_arr, data):\n",
    "        new_obj = c.copy()\n",
    "        new_obj[f'not_{k}_ranking_outlier'] = 1 if mask else 0\n",
    "        new_data.append(new_obj)\n",
    "    return new_data"
   ]
  },
  {
   "cell_type": "code",
   "execution_count": 38,
   "metadata": {},
   "outputs": [],
   "source": [
    "for k in ['year_of_construction', 'number_of_buildings', 'number_of_rooms', 'avg_prices($/space)', 'avg_prices(total)', 'avg_area(sq_meters)', 'avg_floors']:\n",
    "    compounds = label_outliers(compounds, k)"
   ]
  },
  {
   "cell_type": "code",
   "execution_count": 28,
   "metadata": {},
   "outputs": [
    {
     "output_type": "execute_result",
     "data": {
      "text/plain": [
       "{'compound_name': '虹桥电子时代广场',\n",
       " 'link': 'https://sh.lianjia.com/xiaoqu/5011000011570/',\n",
       " 'available_address': '天山支路168号',\n",
       " 'year_of_construction': 2001,\n",
       " 'building_type': '板楼',\n",
       " 'management_company': '上海嘉平物业管理有限公司',\n",
       " 'developer_company': '上海嘉平房地产有限公司',\n",
       " 'number_of_buildings': 1,\n",
       " 'number_of_rooms': 585,\n",
       " 'name': '天山支路168号',\n",
       " 'location': {'lat': 31.22062, 'lng': 121.40283},\n",
       " 'address': '长宁区',\n",
       " 'sum_of_prices($/space)': 89419,\n",
       " 'sum_of_prices(total)': 7300000,\n",
       " 'sum_of_area(sq_meters)': 159.8,\n",
       " 'sum_of_floors': 18,\n",
       " 'units_on_sale': 2,\n",
       " 'avg_prices($/space)': 44709.5,\n",
       " 'avg_prices(total)': 3650000.0,\n",
       " 'avg_area(sq_meters)': 79.9,\n",
       " 'avg_floors': 9.0,\n",
       " 'year_of_construction_ranking': 39,\n",
       " 'number_of_buildings_ranking': 0,\n",
       " 'number_of_rooms_ranking': 4,\n",
       " 'avg_prices($/space)_ranking': 5,\n",
       " 'avg_prices(total)_ranking': 3,\n",
       " 'avg_area(sq_meters)_ranking': 12,\n",
       " 'avg_floors_ranking': 8,\n",
       " 'not_year_of_construction_outlier': 1,\n",
       " 'not_number_of_buildings_outlier': 1,\n",
       " 'not_number_of_rooms_outlier': 1,\n",
       " 'not_avg_prices($/space)_outlier': 1,\n",
       " 'not_avg_prices(total)_outlier': 1,\n",
       " 'not_avg_area(sq_meters)_outlier': 1,\n",
       " 'not_avg_floors_outlier': 1,\n",
       " 'year_of_construction_ranking_adjusted': 34,\n",
       " 'number_of_buildings_ranking_adjusted': 0,\n",
       " 'number_of_rooms_ranking_adjusted': 12,\n",
       " 'avg_prices($/space)_ranking_adjusted': 0,\n",
       " 'avg_prices(total)_ranking_adjusted': 4,\n",
       " 'avg_area(sq_meters)_ranking_adjusted': 18,\n",
       " 'avg_floors_ranking_adjusted': 9}"
      ]
     },
     "metadata": {},
     "execution_count": 28
    }
   ],
   "source": [
    "compounds[0]"
   ]
  },
  {
   "cell_type": "code",
   "execution_count": 30,
   "metadata": {},
   "outputs": [],
   "source": [
    "def adjust_rank_attr_by_outliers(compounds, key):\n",
    "    new_compounds = copy.deepcopy(compounds)\n",
    "    index_arr = np.array([i for i,obj in enumerate(compounds) if obj[f'not_{key}_outlier'] == 1])\n",
    "    selected_attr = np.array([i[key] for i in compounds if i[f'not_{key}_outlier'] == 1])\n",
    "    attr_max = selected_attr.max()\n",
    "    attr_min = selected_attr.min()\n",
    "    lin_range = np.linspace(attr_min, attr_max, 50)\n",
    "    ranked_attr = []\n",
    "    for j,a in zip(index_arr, selected_attr):\n",
    "        for i,r in enumerate(lin_range):\n",
    "            if a < r:\n",
    "                new_compounds[j][f'{key}_ranking_adjusted'] = i - 1\n",
    "                break\n",
    "        else:\n",
    "            new_compounds[j][f'{key}_ranking_adjusted'] = len(lin_range) - 1\n",
    "    return new_compounds\n"
   ]
  },
  {
   "cell_type": "code",
   "execution_count": 31,
   "metadata": {},
   "outputs": [],
   "source": [
    "for k in ['year_of_construction', 'number_of_buildings', 'number_of_rooms', 'avg_prices($/space)', 'avg_prices(total)', 'avg_area(sq_meters)', 'avg_floors']:\n",
    "    compounds = adjust_rank_attr_by_outliers(compounds, k)"
   ]
  },
  {
   "cell_type": "code",
   "execution_count": 32,
   "metadata": {},
   "outputs": [
    {
     "output_type": "execute_result",
     "data": {
      "text/plain": [
       "{'compound_name': '虹桥电子时代广场',\n",
       " 'link': 'https://sh.lianjia.com/xiaoqu/5011000011570/',\n",
       " 'available_address': '天山支路168号',\n",
       " 'year_of_construction': 2001,\n",
       " 'building_type': '板楼',\n",
       " 'management_company': '上海嘉平物业管理有限公司',\n",
       " 'developer_company': '上海嘉平房地产有限公司',\n",
       " 'number_of_buildings': 1,\n",
       " 'number_of_rooms': 585,\n",
       " 'name': '天山支路168号',\n",
       " 'location': {'lat': 31.22062, 'lng': 121.40283},\n",
       " 'address': '长宁区',\n",
       " 'sum_of_prices($/space)': 89419,\n",
       " 'sum_of_prices(total)': 7300000,\n",
       " 'sum_of_area(sq_meters)': 159.8,\n",
       " 'sum_of_floors': 18,\n",
       " 'units_on_sale': 2,\n",
       " 'avg_prices($/space)': 44709.5,\n",
       " 'avg_prices(total)': 3650000.0,\n",
       " 'avg_area(sq_meters)': 79.9,\n",
       " 'avg_floors': 9.0,\n",
       " 'year_of_construction_ranking': 39,\n",
       " 'number_of_buildings_ranking': 0,\n",
       " 'number_of_rooms_ranking': 4,\n",
       " 'avg_prices($/space)_ranking': 5,\n",
       " 'avg_prices(total)_ranking': 3,\n",
       " 'avg_area(sq_meters)_ranking': 12,\n",
       " 'avg_floors_ranking': 8,\n",
       " 'not_year_of_construction_outlier': 1,\n",
       " 'not_number_of_buildings_outlier': 1,\n",
       " 'not_number_of_rooms_outlier': 1,\n",
       " 'not_avg_prices($/space)_outlier': 1,\n",
       " 'not_avg_prices(total)_outlier': 1,\n",
       " 'not_avg_area(sq_meters)_outlier': 1,\n",
       " 'not_avg_floors_outlier': 1,\n",
       " 'year_of_construction_ranking_adjusted': 34,\n",
       " 'number_of_buildings_ranking_adjusted': 0,\n",
       " 'number_of_rooms_ranking_adjusted': 12,\n",
       " 'avg_prices($/space)_ranking_adjusted': 0,\n",
       " 'avg_prices(total)_ranking_adjusted': 4,\n",
       " 'avg_area(sq_meters)_ranking_adjusted': 18,\n",
       " 'avg_floors_ranking_adjusted': 9}"
      ]
     },
     "metadata": {},
     "execution_count": 32
    }
   ],
   "source": [
    "compounds[0]"
   ]
  },
  {
   "cell_type": "code",
   "execution_count": 33,
   "metadata": {},
   "outputs": [
    {
     "output_type": "execute_result",
     "data": {
      "text/plain": [
       "{'compound_name': '古南小区',\n",
       " 'link': 'https://sh.lianjia.com/xiaoqu/5011000014139/',\n",
       " 'available_address': '天山支路100弄1-7号,古北路108弄7-11号,古北路124弄8-14号,古北路136弄11-43号,天山支路50弄1-7号',\n",
       " 'year_of_construction': 1977,\n",
       " 'building_type': '板楼',\n",
       " 'management_company': '华阳物业',\n",
       " 'developer_company': '上海新长宁集团',\n",
       " 'number_of_buildings': 30,\n",
       " 'number_of_rooms': 651,\n",
       " 'name': '古南小区',\n",
       " 'location': {'lat': 31.221202, 'lng': 121.40508},\n",
       " 'address': '天山支路50弄1-7号,天山支路100弄1-7号,古北路108弄7-11号,古北路124弄8-14号,古北路136弄11-43号',\n",
       " 'province': '上海市',\n",
       " 'city': '上海市',\n",
       " 'area': '长宁区',\n",
       " 'street_id': '750ec16522869e2a4c3a591d',\n",
       " 'detail': 1,\n",
       " 'uid': '750ec16522869e2a4c3a591d',\n",
       " 'sum_of_prices($/space)': 165620,\n",
       " 'sum_of_prices(total)': 7700000,\n",
       " 'sum_of_area(sq_meters)': 93.07,\n",
       " 'sum_of_floors': 12,\n",
       " 'units_on_sale': 2,\n",
       " 'avg_prices($/space)': 82810.0,\n",
       " 'avg_prices(total)': 3850000.0,\n",
       " 'avg_area(sq_meters)': 46.535,\n",
       " 'avg_floors': 6.0,\n",
       " 'year_of_construction_ranking': 17,\n",
       " 'number_of_buildings_ranking': 10,\n",
       " 'number_of_rooms_ranking': 5,\n",
       " 'avg_prices($/space)_ranking': 23,\n",
       " 'avg_prices(total)_ranking': 3,\n",
       " 'avg_area(sq_meters)_ranking': 4,\n",
       " 'avg_floors_ranking': 3,\n",
       " 'not_year_of_construction_outlier': 1,\n",
       " 'not_number_of_buildings_outlier': 1,\n",
       " 'not_number_of_rooms_outlier': 1,\n",
       " 'not_avg_prices($/space)_outlier': 1,\n",
       " 'not_avg_prices(total)_outlier': 1,\n",
       " 'not_avg_area(sq_meters)_outlier': 1,\n",
       " 'not_avg_floors_outlier': 1,\n",
       " 'year_of_construction_ranking_adjusted': 0,\n",
       " 'number_of_buildings_ranking_adjusted': 22,\n",
       " 'number_of_rooms_ranking_adjusted': 13,\n",
       " 'avg_prices($/space)_ranking_adjusted': 22,\n",
       " 'avg_prices(total)_ranking_adjusted': 4,\n",
       " 'avg_area(sq_meters)_ranking_adjusted': 6,\n",
       " 'avg_floors_ranking_adjusted': 3}"
      ]
     },
     "metadata": {},
     "execution_count": 33
    }
   ],
   "source": [
    "compounds[10]"
   ]
  },
  {
   "cell_type": "code",
   "execution_count": 34,
   "metadata": {},
   "outputs": [],
   "source": [
    "with open('detailed_compounds.json', 'w') as comp_json:\n",
    "    json.dump(compounds, comp_json, ensure_ascii=False)"
   ]
  },
  {
   "cell_type": "code",
   "execution_count": 36,
   "metadata": {},
   "outputs": [
    {
     "output_type": "execute_result",
     "data": {
      "text/plain": [
       "dict_keys(['compound_name', 'link', 'available_address', 'year_of_construction', 'building_type', 'management_company', 'developer_company', 'number_of_buildings', 'number_of_rooms', 'name', 'location', 'address', 'sum_of_prices($/space)', 'sum_of_prices(total)', 'sum_of_area(sq_meters)', 'sum_of_floors', 'units_on_sale', 'avg_prices($/space)', 'avg_prices(total)', 'avg_area(sq_meters)', 'avg_floors', 'year_of_construction_ranking', 'number_of_buildings_ranking', 'number_of_rooms_ranking', 'avg_prices($/space)_ranking', 'avg_prices(total)_ranking', 'avg_area(sq_meters)_ranking', 'avg_floors_ranking', 'not_year_of_construction_outlier', 'not_number_of_buildings_outlier', 'not_number_of_rooms_outlier', 'not_avg_prices($/space)_outlier', 'not_avg_prices(total)_outlier', 'not_avg_area(sq_meters)_outlier', 'not_avg_floors_outlier', 'year_of_construction_ranking_adjusted', 'number_of_buildings_ranking_adjusted', 'number_of_rooms_ranking_adjusted', 'avg_prices($/space)_ranking_adjusted', 'avg_prices(total)_ranking_adjusted', 'avg_area(sq_meters)_ranking_adjusted', 'avg_floors_ranking_adjusted'])"
      ]
     },
     "metadata": {},
     "execution_count": 36
    }
   ],
   "source": [
    "compounds[0].keys()"
   ]
  },
  {
   "source": [
    "# 5/29 Cells"
   ],
   "cell_type": "markdown",
   "metadata": {}
  },
  {
   "cell_type": "code",
   "execution_count": 1,
   "metadata": {},
   "outputs": [],
   "source": [
    "import json"
   ]
  },
  {
   "cell_type": "code",
   "execution_count": 31,
   "metadata": {},
   "outputs": [],
   "source": [
    "with open('detailed_restaurants.json', 'r') as restaurant_json:\n",
    "    restaurants = json.load(restaurant_json)\n"
   ]
  },
  {
   "cell_type": "code",
   "execution_count": 3,
   "metadata": {},
   "outputs": [
    {
     "output_type": "execute_result",
     "data": {
      "text/plain": [
       "{'restaurant_name': '西凡尼蛋糕·甜品桌定制',\n",
       " 'consumer_score': 4.7,\n",
       " 'num_comments': 248,\n",
       " 'website_address': '长宁区协和路788号202室',\n",
       " 'avg_spending': 195.0,\n",
       " 'name': '西凡尼蛋糕·甜品桌定制(静安店)',\n",
       " 'location': {'lat': 31.272998, 'lng': 121.472775},\n",
       " 'address': '俞泾港路11号18号楼2楼202室',\n",
       " 'province': '上海市',\n",
       " 'city': '上海市',\n",
       " 'area': '静安区',\n",
       " 'detail': 1,\n",
       " 'uid': '5ad8ecb98439b9fb5e17c3c7'}"
      ]
     },
     "metadata": {},
     "execution_count": 3
    }
   ],
   "source": [
    "restaurants[0]"
   ]
  },
  {
   "cell_type": "code",
   "execution_count": 4,
   "metadata": {},
   "outputs": [
    {
     "output_type": "execute_result",
     "data": {
      "text/plain": [
       "{'restaurant_name': '重庆鸡公煲·巫山烤全鱼（中山西路店）',\n",
       " 'consumer_score': 4.0,\n",
       " 'num_comments': 284,\n",
       " 'website_address': '长宁区中山西路750号1幢1104室（汉庭酒店旁）',\n",
       " 'avg_spending': 63.0,\n",
       " 'name': '巫山烤全鱼重庆鸡公煲(水产西路店)',\n",
       " 'location': {'lat': 31.362005, 'lng': 121.421858},\n",
       " 'address': '上海市宝山区水产西路789-1号',\n",
       " 'province': '上海市',\n",
       " 'city': '上海市',\n",
       " 'area': '宝山区',\n",
       " 'street_id': '6842b42bef549761d2f49e9e',\n",
       " 'telephone': '13651633655',\n",
       " 'detail': 1,\n",
       " 'uid': '6842b42bef549761d2f49e9e'}"
      ]
     },
     "metadata": {},
     "execution_count": 4
    }
   ],
   "source": [
    "restaurants[100]"
   ]
  },
  {
   "cell_type": "code",
   "execution_count": 5,
   "metadata": {},
   "outputs": [
    {
     "output_type": "execute_result",
     "data": {
      "text/plain": [
       "{'restaurant_name': '苏浙汇（古北店）',\n",
       " 'consumer_score': 4.6,\n",
       " 'num_comments': 227,\n",
       " 'website_address': '长宁区延安西路2558号A楼（水城南路与古北路中间）',\n",
       " 'avg_spending': 179.0,\n",
       " 'name': '苏浙汇(古北店)',\n",
       " 'location': {'lat': 31.203642, 'lng': 121.401859},\n",
       " 'address': '上海市长宁区延安西路2558号A楼(水城南路古北路间)',\n",
       " 'province': '上海市',\n",
       " 'city': '上海市',\n",
       " 'area': '长宁区',\n",
       " 'street_id': 'e3a7fd13a7d0264b29b97c9a',\n",
       " 'telephone': '(021)62789558',\n",
       " 'detail': 1,\n",
       " 'uid': 'e3a7fd13a7d0264b29b97c9a'}"
      ]
     },
     "metadata": {},
     "execution_count": 5
    }
   ],
   "source": [
    "restaurants[5]"
   ]
  },
  {
   "cell_type": "code",
   "execution_count": 32,
   "metadata": {},
   "outputs": [],
   "source": [
    "count = 0\n",
    "no_area_res = []\n",
    "for r in restaurants:\n",
    "    if 'area' not in r.keys():\n",
    "        no_area_res.append(r)\n",
    "        continue\n",
    "    if '长宁区' == r['area']:\n",
    "        count += 1"
   ]
  },
  {
   "cell_type": "code",
   "execution_count": 8,
   "metadata": {},
   "outputs": [
    {
     "output_type": "execute_result",
     "data": {
      "text/plain": [
       "446"
      ]
     },
     "metadata": {},
     "execution_count": 8
    }
   ],
   "source": [
    "count"
   ]
  },
  {
   "cell_type": "code",
   "execution_count": 12,
   "metadata": {},
   "outputs": [
    {
     "output_type": "execute_result",
     "data": {
      "text/plain": [
       "{'restaurant_name': 'BON CAKE（长宁来福士店）',\n",
       " 'consumer_score': 4.1,\n",
       " 'num_comments': 1,\n",
       " 'website_address': '长宁区长宁路1133号长宁来福士B1-K30',\n",
       " 'avg_spending': 27.0,\n",
       " 'name': '上海市',\n",
       " 'num': 6}"
      ]
     },
     "metadata": {},
     "execution_count": 12
    }
   ],
   "source": [
    "no_area_res[2]"
   ]
  },
  {
   "cell_type": "code",
   "execution_count": 19,
   "metadata": {},
   "outputs": [],
   "source": [
    "q = '长宁区延安西路2558号A楼'"
   ]
  },
  {
   "cell_type": "code",
   "execution_count": 20,
   "metadata": {},
   "outputs": [],
   "source": [
    "import requests\n",
    "url = f\"http://api.map.baidu.com/place/v2/search?query={q}&region= 上海&output=json&ak=Z7igo805MpAY3f06RyRgmEmDITzNZqsr\"\n",
    "baidu_res = requests.get(url)"
   ]
  },
  {
   "cell_type": "code",
   "execution_count": 21,
   "metadata": {},
   "outputs": [],
   "source": [
    "res = json.loads(baidu_res.text)"
   ]
  },
  {
   "cell_type": "code",
   "execution_count": 22,
   "metadata": {},
   "outputs": [
    {
     "output_type": "execute_result",
     "data": {
      "text/plain": [
       "{'status': 0,\n",
       " 'message': 'ok',\n",
       " 'result_type': 'address_type',\n",
       " 'results': [{'name': '延安西路2558号',\n",
       "   'location': {'lat': 31.20371, 'lng': 121.402736},\n",
       "   'address': '长宁区'}]}"
      ]
     },
     "metadata": {},
     "execution_count": 22
    }
   ],
   "source": [
    "res"
   ]
  },
  {
   "cell_type": "code",
   "execution_count": 33,
   "metadata": {},
   "outputs": [],
   "source": [
    "count = 0\n",
    "better_restaurants = []\n",
    "for r in restaurants:\n",
    "    if '号' in r['website_address']:\n",
    "        count += 1\n",
    "        better_restaurants.append(r)\n"
   ]
  },
  {
   "cell_type": "code",
   "execution_count": 27,
   "metadata": {},
   "outputs": [
    {
     "output_type": "execute_result",
     "data": {
      "text/plain": [
       "676"
      ]
     },
     "metadata": {},
     "execution_count": 27
    }
   ],
   "source": [
    "count"
   ]
  },
  {
   "cell_type": "code",
   "execution_count": 34,
   "metadata": {},
   "outputs": [],
   "source": [
    "for r in better_restaurants:\n",
    "    r['website_address'] = r['website_address'].split('号')[0] + '号'"
   ]
  },
  {
   "cell_type": "code",
   "execution_count": 35,
   "metadata": {},
   "outputs": [
    {
     "output_type": "execute_result",
     "data": {
      "text/plain": [
       "{'restaurant_name': '西凡尼蛋糕·甜品桌定制',\n",
       " 'consumer_score': 4.7,\n",
       " 'num_comments': 248,\n",
       " 'website_address': '长宁区协和路788号',\n",
       " 'avg_spending': 195.0,\n",
       " 'name': '西凡尼蛋糕·甜品桌定制(静安店)',\n",
       " 'location': {'lat': 31.272998, 'lng': 121.472775},\n",
       " 'address': '俞泾港路11号18号楼2楼202室',\n",
       " 'province': '上海市',\n",
       " 'city': '上海市',\n",
       " 'area': '静安区',\n",
       " 'detail': 1,\n",
       " 'uid': '5ad8ecb98439b9fb5e17c3c7'}"
      ]
     },
     "metadata": {},
     "execution_count": 35
    }
   ],
   "source": [
    "better_restaurants[0]"
   ]
  },
  {
   "cell_type": "code",
   "execution_count": 37,
   "metadata": {},
   "outputs": [
    {
     "output_type": "stream",
     "name": "stdout",
     "text": [
      "0\n",
      "1\n",
      "2\n",
      "3\n",
      "4\n",
      "5\n",
      "6\n",
      "7\n",
      "8\n",
      "9\n",
      "10\n",
      "11\n",
      "error\n",
      "12\n",
      "13\n",
      "14\n",
      "15\n",
      "16\n",
      "17\n",
      "18\n",
      "19\n",
      "20\n",
      "21\n",
      "22\n",
      "23\n",
      "24\n",
      "25\n",
      "26\n",
      "27\n",
      "28\n",
      "29\n",
      "30\n",
      "31\n",
      "32\n",
      "33\n",
      "34\n",
      "35\n",
      "36\n",
      "37\n",
      "38\n",
      "39\n",
      "40\n",
      "41\n",
      "42\n",
      "43\n",
      "44\n",
      "45\n",
      "46\n",
      "47\n",
      "error\n",
      "48\n",
      "49\n",
      "50\n",
      "51\n",
      "52\n",
      "53\n",
      "54\n",
      "55\n",
      "56\n",
      "57\n",
      "58\n",
      "59\n",
      "60\n",
      "61\n",
      "62\n",
      "63\n",
      "64\n",
      "65\n",
      "66\n",
      "67\n",
      "68\n",
      "69\n",
      "70\n",
      "71\n",
      "72\n",
      "73\n",
      "74\n",
      "75\n",
      "76\n",
      "77\n",
      "78\n",
      "79\n",
      "80\n",
      "81\n",
      "82\n",
      "83\n",
      "84\n",
      "85\n",
      "86\n",
      "87\n",
      "88\n",
      "89\n",
      "90\n",
      "91\n",
      "92\n",
      "93\n",
      "94\n",
      "95\n",
      "96\n",
      "97\n",
      "98\n",
      "99\n",
      "100\n",
      "101\n",
      "102\n",
      "103\n",
      "104\n",
      "105\n",
      "106\n",
      "107\n",
      "108\n",
      "109\n",
      "110\n",
      "111\n",
      "112\n",
      "113\n",
      "114\n",
      "115\n",
      "116\n",
      "error\n",
      "117\n",
      "118\n",
      "119\n",
      "120\n",
      "121\n",
      "122\n",
      "123\n",
      "124\n",
      "125\n",
      "126\n",
      "127\n",
      "128\n",
      "129\n",
      "130\n",
      "131\n",
      "132\n",
      "133\n",
      "134\n",
      "135\n",
      "136\n",
      "137\n",
      "138\n",
      "139\n",
      "140\n",
      "141\n",
      "142\n",
      "143\n",
      "144\n",
      "145\n",
      "146\n",
      "147\n",
      "148\n",
      "149\n",
      "150\n",
      "151\n",
      "152\n",
      "153\n",
      "154\n",
      "155\n",
      "156\n",
      "157\n",
      "158\n",
      "159\n",
      "160\n",
      "161\n",
      "162\n",
      "163\n",
      "164\n",
      "165\n",
      "166\n",
      "167\n",
      "168\n",
      "169\n",
      "170\n",
      "171\n",
      "172\n",
      "173\n",
      "174\n",
      "175\n",
      "176\n",
      "177\n",
      "178\n",
      "179\n",
      "180\n",
      "181\n",
      "182\n",
      "183\n",
      "184\n",
      "185\n",
      "186\n",
      "187\n",
      "188\n",
      "189\n",
      "190\n",
      "191\n",
      "192\n",
      "193\n",
      "194\n",
      "195\n",
      "196\n",
      "197\n",
      "198\n",
      "199\n",
      "200\n",
      "201\n",
      "202\n",
      "203\n",
      "204\n",
      "205\n",
      "206\n",
      "207\n",
      "208\n",
      "209\n",
      "210\n",
      "211\n",
      "212\n",
      "213\n",
      "214\n",
      "215\n",
      "216\n",
      "217\n",
      "218\n",
      "219\n",
      "220\n",
      "221\n",
      "222\n",
      "223\n",
      "224\n",
      "225\n",
      "226\n",
      "227\n",
      "228\n",
      "229\n",
      "230\n",
      "231\n",
      "232\n",
      "233\n",
      "234\n",
      "235\n",
      "error\n",
      "236\n",
      "237\n",
      "238\n",
      "239\n",
      "240\n",
      "241\n",
      "242\n",
      "243\n",
      "244\n",
      "245\n",
      "246\n",
      "247\n",
      "248\n",
      "249\n",
      "250\n",
      "251\n",
      "252\n",
      "253\n",
      "254\n",
      "255\n",
      "256\n",
      "257\n",
      "258\n",
      "259\n",
      "260\n",
      "261\n",
      "262\n",
      "263\n",
      "264\n",
      "265\n",
      "266\n",
      "error\n",
      "267\n",
      "268\n",
      "269\n",
      "270\n",
      "271\n",
      "272\n",
      "273\n",
      "274\n",
      "275\n",
      "276\n",
      "277\n",
      "278\n",
      "279\n",
      "280\n",
      "281\n",
      "error\n",
      "282\n",
      "283\n",
      "284\n",
      "285\n",
      "286\n",
      "287\n",
      "288\n",
      "289\n",
      "290\n",
      "291\n",
      "292\n",
      "293\n",
      "294\n",
      "295\n",
      "296\n",
      "297\n",
      "298\n",
      "299\n",
      "300\n",
      "301\n",
      "302\n",
      "303\n",
      "304\n",
      "305\n",
      "306\n",
      "307\n",
      "308\n",
      "309\n",
      "310\n",
      "311\n",
      "312\n",
      "313\n",
      "314\n",
      "315\n",
      "316\n",
      "317\n",
      "318\n",
      "319\n",
      "320\n",
      "321\n",
      "322\n",
      "323\n",
      "324\n",
      "325\n",
      "326\n",
      "327\n",
      "328\n",
      "error\n",
      "329\n",
      "330\n",
      "331\n",
      "error\n",
      "332\n",
      "333\n",
      "334\n",
      "335\n",
      "336\n",
      "337\n",
      "338\n",
      "339\n",
      "340\n",
      "341\n",
      "342\n",
      "343\n",
      "344\n",
      "345\n",
      "346\n",
      "347\n",
      "348\n",
      "349\n",
      "350\n",
      "351\n",
      "352\n",
      "353\n",
      "354\n",
      "355\n",
      "356\n",
      "357\n",
      "358\n",
      "359\n",
      "360\n",
      "361\n",
      "362\n",
      "363\n",
      "364\n",
      "365\n",
      "366\n",
      "367\n",
      "368\n",
      "369\n",
      "370\n",
      "371\n",
      "372\n",
      "373\n",
      "374\n",
      "375\n",
      "376\n",
      "377\n",
      "378\n",
      "379\n",
      "380\n",
      "381\n",
      "382\n",
      "383\n",
      "384\n",
      "385\n",
      "386\n",
      "error\n",
      "387\n",
      "388\n",
      "389\n",
      "390\n",
      "391\n",
      "392\n",
      "393\n",
      "394\n",
      "395\n",
      "396\n",
      "397\n",
      "398\n",
      "399\n",
      "400\n",
      "401\n",
      "402\n",
      "403\n",
      "404\n",
      "405\n",
      "406\n",
      "407\n",
      "408\n",
      "409\n",
      "410\n",
      "error\n",
      "411\n",
      "412\n",
      "413\n",
      "414\n",
      "415\n",
      "error\n",
      "416\n",
      "417\n",
      "error\n",
      "418\n",
      "419\n",
      "420\n",
      "421\n",
      "422\n",
      "423\n",
      "424\n",
      "error\n",
      "425\n",
      "426\n",
      "427\n",
      "428\n",
      "429\n",
      "430\n",
      "431\n",
      "432\n",
      "433\n",
      "434\n",
      "435\n",
      "436\n",
      "437\n",
      "438\n",
      "439\n",
      "440\n",
      "441\n",
      "442\n",
      "443\n",
      "444\n",
      "445\n",
      "446\n",
      "447\n",
      "448\n",
      "449\n",
      "450\n",
      "451\n",
      "452\n",
      "error\n",
      "453\n",
      "454\n",
      "455\n",
      "456\n",
      "457\n",
      "458\n",
      "459\n",
      "460\n",
      "461\n",
      "462\n",
      "463\n",
      "464\n",
      "465\n",
      "466\n",
      "467\n",
      "468\n",
      "469\n",
      "470\n",
      "471\n",
      "472\n",
      "473\n",
      "474\n",
      "475\n",
      "476\n",
      "477\n",
      "478\n",
      "479\n",
      "480\n",
      "481\n",
      "482\n",
      "483\n",
      "484\n",
      "485\n",
      "486\n",
      "487\n",
      "488\n",
      "489\n",
      "490\n",
      "491\n",
      "492\n",
      "493\n",
      "494\n",
      "495\n",
      "496\n",
      "497\n",
      "498\n",
      "499\n",
      "500\n",
      "501\n",
      "502\n",
      "503\n",
      "504\n",
      "505\n",
      "506\n",
      "507\n",
      "error\n",
      "508\n",
      "509\n",
      "510\n",
      "511\n",
      "512\n",
      "513\n",
      "514\n",
      "515\n",
      "516\n",
      "517\n",
      "518\n",
      "519\n",
      "520\n",
      "521\n",
      "522\n",
      "523\n",
      "524\n",
      "525\n",
      "error\n",
      "526\n",
      "527\n",
      "528\n",
      "529\n",
      "530\n",
      "531\n",
      "532\n",
      "533\n",
      "534\n",
      "535\n",
      "536\n",
      "537\n",
      "538\n",
      "539\n",
      "540\n",
      "541\n",
      "error\n",
      "542\n",
      "error\n",
      "543\n",
      "544\n",
      "545\n",
      "546\n",
      "547\n",
      "548\n",
      "error\n",
      "549\n",
      "550\n",
      "551\n",
      "552\n",
      "553\n",
      "554\n",
      "555\n",
      "556\n",
      "557\n",
      "558\n",
      "559\n",
      "560\n",
      "561\n",
      "562\n",
      "563\n",
      "564\n",
      "565\n",
      "566\n",
      "567\n",
      "568\n",
      "569\n",
      "570\n",
      "571\n",
      "error\n",
      "572\n",
      "573\n",
      "574\n",
      "575\n",
      "576\n",
      "577\n",
      "578\n",
      "579\n",
      "580\n",
      "581\n",
      "582\n",
      "583\n",
      "584\n",
      "585\n",
      "586\n",
      "587\n",
      "588\n",
      "589\n",
      "590\n",
      "591\n",
      "592\n",
      "593\n",
      "594\n",
      "595\n",
      "596\n",
      "597\n",
      "598\n",
      "599\n",
      "600\n",
      "601\n",
      "602\n",
      "603\n",
      "604\n",
      "605\n",
      "606\n",
      "607\n",
      "608\n",
      "609\n",
      "610\n",
      "611\n",
      "612\n",
      "613\n",
      "614\n",
      "615\n",
      "616\n",
      "617\n",
      "618\n",
      "619\n",
      "620\n",
      "621\n",
      "622\n",
      "623\n",
      "624\n",
      "625\n",
      "626\n",
      "627\n",
      "628\n",
      "629\n",
      "630\n",
      "631\n",
      "632\n",
      "633\n",
      "634\n",
      "635\n",
      "636\n",
      "637\n",
      "638\n",
      "639\n",
      "640\n",
      "641\n",
      "642\n",
      "643\n",
      "644\n",
      "645\n",
      "646\n",
      "647\n",
      "648\n",
      "error\n",
      "649\n",
      "650\n",
      "651\n",
      "652\n",
      "653\n",
      "654\n",
      "655\n",
      "656\n",
      "657\n",
      "658\n",
      "error\n",
      "659\n",
      "660\n",
      "661\n",
      "662\n",
      "663\n",
      "664\n",
      "665\n",
      "666\n",
      "667\n",
      "668\n",
      "669\n",
      "670\n",
      "671\n",
      "672\n",
      "673\n",
      "674\n",
      "675\n"
     ]
    }
   ],
   "source": [
    "for i, r in enumerate(better_restaurants):\n",
    "    print(i)\n",
    "    try:\n",
    "        url = f\"http://api.map.baidu.com/place/v2/search?query={r['website_address']}&region= 上海&output=json&ak=Z7igo805MpAY3f06RyRgmEmDITzNZqsr\"\n",
    "        baidu_res = requests.get(url)\n",
    "        res = json.loads(baidu_res.text)\n",
    "        result = res['results'][0]\n",
    "        for k in result.keys():\n",
    "            r[k] = result[k]\n",
    "    except Exception as e:\n",
    "        print('error')\n",
    "    "
   ]
  },
  {
   "cell_type": "code",
   "execution_count": 38,
   "metadata": {},
   "outputs": [
    {
     "output_type": "execute_result",
     "data": {
      "text/plain": [
       "{'restaurant_name': '西凡尼蛋糕·甜品桌定制',\n",
       " 'consumer_score': 4.7,\n",
       " 'num_comments': 248,\n",
       " 'website_address': '长宁区协和路788号',\n",
       " 'avg_spending': 195.0,\n",
       " 'name': '协和路788号',\n",
       " 'location': {'lat': 31.222954, 'lng': 121.362612},\n",
       " 'address': '长宁区',\n",
       " 'province': '上海市',\n",
       " 'city': '上海市',\n",
       " 'area': '静安区',\n",
       " 'detail': 1,\n",
       " 'uid': '5ad8ecb98439b9fb5e17c3c7'}"
      ]
     },
     "metadata": {},
     "execution_count": 38
    }
   ],
   "source": [
    "better_restaurants[0]"
   ]
  },
  {
   "cell_type": "code",
   "execution_count": 39,
   "metadata": {},
   "outputs": [],
   "source": [
    "with open('detailed_restaurants.json', 'w') as det_rest_json:\n",
    "    json.dump(better_restaurants, det_rest_json, ensure_ascii=False)"
   ]
  },
  {
   "cell_type": "code",
   "execution_count": 1,
   "metadata": {},
   "outputs": [],
   "source": [
    "import json"
   ]
  },
  {
   "cell_type": "code",
   "execution_count": 2,
   "metadata": {},
   "outputs": [],
   "source": [
    "with open('detailed_restaurants.json', 'r') as det_rest_json:\n",
    "    restaurants = json.load(det_rest_json)"
   ]
  },
  {
   "cell_type": "code",
   "execution_count": 64,
   "metadata": {},
   "outputs": [],
   "source": [
    "def add_rank_attr(compounds, key):\n",
    "\t\"\"\"\n",
    "\tArgs: detailed_compounds, keys\n",
    "\tReturns: ranked_compounds\n",
    "\t\"\"\"\n",
    "\tnew_compounds = copy.deepcopy(compounds)\n",
    "\tselected_attr = np.array([i[key] for i in compounds])\n",
    "\tattr_max = selected_attr.max()\n",
    "\tattr_min = selected_attr.min()\n",
    "\tlin_range = np.linspace(attr_min, attr_max, 50)\n",
    "\tprint(len(lin_range))\n",
    "\tfor j,a in enumerate(selected_attr):\n",
    "\t\tfor i,r in enumerate(lin_range):\n",
    "\t\t\tif a < r:\n",
    "\t\t\t\tnew_compounds[j][f'{key}_ranking'] = i - 1\n",
    "\t\t\t\tbreak\n",
    "\t\telse:\n",
    "\t\t\tnew_compounds[j][f'{key}_ranking'] = len(lin_range) - 1\n",
    "\treturn new_compounds\n",
    "\n",
    "def label_outliers(data, k, m=2):\n",
    "\tnew_data = []\n",
    "\tselected_data = np.array([i[k] for i in data])\n",
    "\tmask_arr = (abs(selected_data - np.mean(selected_data)) < (m * np.std(selected_data)))\n",
    "\tfor mask, c in zip(mask_arr, data):\n",
    "\t\tnew_obj = c.copy()\n",
    "\t\tnew_obj[f'not_{k}_outlier'] = 1 if mask else 0\n",
    "\t\tnew_data.append(new_obj)\n",
    "\treturn new_data\n",
    "\n",
    "def adjust_rank_attr_by_outliers(compounds, key):\n",
    "\tnew_compounds = copy.deepcopy(compounds)\n",
    "\tindex_arr = np.array([i for i,obj in enumerate(compounds) if obj[f'not_{key}_outlier'] == 1])\n",
    "\tselected_attr = np.array([i[key] for i in compounds if i[f'not_{key}_outlier'] == 1])\n",
    "\tattr_max = selected_attr.max()\n",
    "\tattr_min = selected_attr.min()\n",
    "\tlin_range = np.linspace(attr_min, attr_max, 50)\n",
    "\tfor j,a in zip(index_arr, selected_attr):\n",
    "\t\tfor i,r in enumerate(lin_range):\n",
    "\t\t\tif a < r:\n",
    "\t\t\t\tnew_compounds[j][f'{key}_ranking_adjusted'] = i - 1\n",
    "\t\t\t\tbreak\n",
    "\t\telse:\n",
    "\t\t\tnew_compounds[j][f'{key}_ranking_adjusted'] = len(lin_range) - 1\n",
    "\treturn new_compounds\n"
   ]
  },
  {
   "cell_type": "code",
   "execution_count": 65,
   "metadata": {},
   "outputs": [
    {
     "output_type": "execute_result",
     "data": {
      "text/plain": [
       "dict_keys(['restaurant_name', 'consumer_score', 'num_comments', 'website_address', 'avg_spending', 'name', 'location', 'address', 'province', 'city', 'area', 'detail', 'uid'])"
      ]
     },
     "metadata": {},
     "execution_count": 65
    }
   ],
   "source": [
    "restaurants[0].keys()"
   ]
  },
  {
   "cell_type": "code",
   "execution_count": 66,
   "metadata": {},
   "outputs": [],
   "source": [
    "import copy, numpy as np\n",
    "new_restaurants = copy.deepcopy(restaurants)"
   ]
  },
  {
   "cell_type": "code",
   "execution_count": 67,
   "metadata": {},
   "outputs": [
    {
     "output_type": "stream",
     "name": "stdout",
     "text": [
      "50\n50\n50\n"
     ]
    }
   ],
   "source": [
    "for k in ['consumer_score', 'num_comments', 'avg_spending']:\n",
    "    new_restaurants = add_rank_attr(new_restaurants, k)\n",
    "    new_restaurants = label_outliers(new_restaurants, k)\n",
    "    new_restaurants = adjust_rank_attr_by_outliers(new_restaurants, k)"
   ]
  },
  {
   "cell_type": "code",
   "execution_count": 18,
   "metadata": {},
   "outputs": [
    {
     "output_type": "execute_result",
     "data": {
      "text/plain": [
       "{'restaurant_name': '西凡尼蛋糕·甜品桌定制',\n",
       " 'consumer_score': 4.7,\n",
       " 'num_comments': 248,\n",
       " 'website_address': '长宁区协和路788号',\n",
       " 'avg_spending': 195.0,\n",
       " 'name': '协和路788号',\n",
       " 'location': {'lat': 31.222954, 'lng': 121.362612},\n",
       " 'address': '长宁区',\n",
       " 'province': '上海市',\n",
       " 'city': '上海市',\n",
       " 'area': '静安区',\n",
       " 'detail': 1,\n",
       " 'uid': '5ad8ecb98439b9fb5e17c3c7',\n",
       " 'consumer_score_ranking': 39,\n",
       " 'not_consumer_score_outlier': 1,\n",
       " 'consumer_score_ranking_adjusted': 40,\n",
       " 'num_comments_ranking': 3,\n",
       " 'not_num_comments_outlier': 1,\n",
       " 'num_comments_ranking_adjusted': 16,\n",
       " 'avg_spending_ranking': 2,\n",
       " 'not_avg_spending_outlier': 1,\n",
       " 'avg_spending_ranking_adjusted': 18}"
      ]
     },
     "metadata": {},
     "execution_count": 18
    }
   ],
   "source": [
    "new_restaurants[0]"
   ]
  },
  {
   "cell_type": "code",
   "execution_count": 19,
   "metadata": {},
   "outputs": [],
   "source": [
    "with open('detailed_restaurants.json', 'w') as det_rest:\n",
    "    json.dump(new_restaurants, det_rest, ensure_ascii=False)"
   ]
  },
  {
   "cell_type": "code",
   "execution_count": 20,
   "metadata": {},
   "outputs": [
    {
     "output_type": "execute_result",
     "data": {
      "text/plain": [
       "dict_keys(['restaurant_name', 'consumer_score', 'num_comments', 'website_address', 'avg_spending', 'name', 'location', 'address', 'province', 'city', 'area', 'detail', 'uid', 'consumer_score_ranking', 'not_consumer_score_outlier', 'consumer_score_ranking_adjusted', 'num_comments_ranking', 'not_num_comments_outlier', 'num_comments_ranking_adjusted', 'avg_spending_ranking', 'not_avg_spending_outlier', 'avg_spending_ranking_adjusted'])"
      ]
     },
     "metadata": {},
     "execution_count": 20
    }
   ],
   "source": [
    "new_restaurants[0].keys()\n"
   ]
  },
  {
   "cell_type": "code",
   "execution_count": 21,
   "metadata": {},
   "outputs": [],
   "source": [
    "import matplotlib.pyplot as plt\n",
    "import seaborn as sns"
   ]
  },
  {
   "cell_type": "code",
   "execution_count": 22,
   "metadata": {},
   "outputs": [],
   "source": [
    "%matplotlib inline"
   ]
  },
  {
   "cell_type": "code",
   "execution_count": 68,
   "metadata": {},
   "outputs": [],
   "source": [
    "def create_distribution_plot(compounds, key):\n",
    "    plt.figure()\n",
    "    selected_data = np.array([i[key] for i in compounds if key in i.keys()])\n",
    "    \n",
    "    sns.histplot(x=selected_data, bins=10)\n",
    "\n",
    "    plt.xlabel(key)"
   ]
  },
  {
   "cell_type": "code",
   "execution_count": 69,
   "metadata": {},
   "outputs": [
    {
     "output_type": "display_data",
     "data": {
      "text/plain": "<Figure size 432x288 with 1 Axes>",
      "image/svg+xml": "<?xml version=\"1.0\" encoding=\"utf-8\" standalone=\"no\"?>\n<!DOCTYPE svg PUBLIC \"-//W3C//DTD SVG 1.1//EN\"\n  \"http://www.w3.org/Graphics/SVG/1.1/DTD/svg11.dtd\">\n<!-- Created with matplotlib (https://matplotlib.org/) -->\n<svg height=\"262.474375pt\" version=\"1.1\" viewBox=\"0 0 388.965625 262.474375\" width=\"388.965625pt\" xmlns=\"http://www.w3.org/2000/svg\" xmlns:xlink=\"http://www.w3.org/1999/xlink\">\n <metadata>\n  <rdf:RDF xmlns:cc=\"http://creativecommons.org/ns#\" xmlns:dc=\"http://purl.org/dc/elements/1.1/\" xmlns:rdf=\"http://www.w3.org/1999/02/22-rdf-syntax-ns#\">\n   <cc:Work>\n    <dc:type rdf:resource=\"http://purl.org/dc/dcmitype/StillImage\"/>\n    <dc:date>2021-05-29T23:05:39.857506</dc:date>\n    <dc:format>image/svg+xml</dc:format>\n    <dc:creator>\n     <cc:Agent>\n      <dc:title>Matplotlib v3.3.3, https://matplotlib.org/</dc:title>\n     </cc:Agent>\n    </dc:creator>\n   </cc:Work>\n  </rdf:RDF>\n </metadata>\n <defs>\n  <style type=\"text/css\">*{stroke-linecap:butt;stroke-linejoin:round;}</style>\n </defs>\n <g id=\"figure_1\">\n  <g id=\"patch_1\">\n   <path d=\"M 0 262.474375 \nL 388.965625 262.474375 \nL 388.965625 0 \nL 0 0 \nz\n\" style=\"fill:none;\"/>\n  </g>\n  <g id=\"axes_1\">\n   <g id=\"patch_2\">\n    <path d=\"M 46.965625 224.64 \nL 381.765625 224.64 \nL 381.765625 7.2 \nL 46.965625 7.2 \nz\n\" style=\"fill:#ffffff;\"/>\n   </g>\n   <g id=\"patch_3\">\n    <path clip-path=\"url(#p2707664dcb)\" d=\"M 62.183807 224.64 \nL 92.62017 224.64 \nL 92.62017 17.554286 \nL 62.183807 17.554286 \nz\n\" style=\"fill:#1f77b4;fill-opacity:0.75;stroke:#000000;stroke-linejoin:miter;\"/>\n   </g>\n   <g id=\"patch_4\">\n    <path clip-path=\"url(#p2707664dcb)\" d=\"M 92.62017 224.64 \nL 123.056534 224.64 \nL 123.056534 82.993371 \nL 92.62017 82.993371 \nz\n\" style=\"fill:#1f77b4;fill-opacity:0.75;stroke:#000000;stroke-linejoin:miter;\"/>\n   </g>\n   <g id=\"patch_5\">\n    <path clip-path=\"url(#p2707664dcb)\" d=\"M 123.056534 224.64 \nL 153.492898 224.64 \nL 153.492898 123.582171 \nL 123.056534 123.582171 \nz\n\" style=\"fill:#1f77b4;fill-opacity:0.75;stroke:#000000;stroke-linejoin:miter;\"/>\n   </g>\n   <g id=\"patch_6\">\n    <path clip-path=\"url(#p2707664dcb)\" d=\"M 153.492898 224.64 \nL 183.929261 224.64 \nL 183.929261 178.2528 \nL 153.492898 178.2528 \nz\n\" style=\"fill:#1f77b4;fill-opacity:0.75;stroke:#000000;stroke-linejoin:miter;\"/>\n   </g>\n   <g id=\"patch_7\">\n    <path clip-path=\"url(#p2707664dcb)\" d=\"M 183.929261 224.64 \nL 214.365625 224.64 \nL 214.365625 199.789714 \nL 183.929261 199.789714 \nz\n\" style=\"fill:#1f77b4;fill-opacity:0.75;stroke:#000000;stroke-linejoin:miter;\"/>\n   </g>\n   <g id=\"patch_8\">\n    <path clip-path=\"url(#p2707664dcb)\" d=\"M 214.365625 224.64 \nL 244.801989 224.64 \nL 244.801989 215.528229 \nL 214.365625 215.528229 \nz\n\" style=\"fill:#1f77b4;fill-opacity:0.75;stroke:#000000;stroke-linejoin:miter;\"/>\n   </g>\n   <g id=\"patch_9\">\n    <path clip-path=\"url(#p2707664dcb)\" d=\"M 244.801989 224.64 \nL 275.238352 224.64 \nL 275.238352 217.184914 \nL 244.801989 217.184914 \nz\n\" style=\"fill:#1f77b4;fill-opacity:0.75;stroke:#000000;stroke-linejoin:miter;\"/>\n   </g>\n   <g id=\"patch_10\">\n    <path clip-path=\"url(#p2707664dcb)\" d=\"M 275.238352 224.64 \nL 305.674716 224.64 \nL 305.674716 215.528229 \nL 275.238352 215.528229 \nz\n\" style=\"fill:#1f77b4;fill-opacity:0.75;stroke:#000000;stroke-linejoin:miter;\"/>\n   </g>\n   <g id=\"patch_11\">\n    <path clip-path=\"url(#p2707664dcb)\" d=\"M 305.674716 224.64 \nL 336.11108 224.64 \nL 336.11108 222.983314 \nL 305.674716 222.983314 \nz\n\" style=\"fill:#1f77b4;fill-opacity:0.75;stroke:#000000;stroke-linejoin:miter;\"/>\n   </g>\n   <g id=\"patch_12\">\n    <path clip-path=\"url(#p2707664dcb)\" d=\"M 336.11108 224.64 \nL 366.547443 224.64 \nL 366.547443 222.154971 \nL 336.11108 222.154971 \nz\n\" style=\"fill:#1f77b4;fill-opacity:0.75;stroke:#000000;stroke-linejoin:miter;\"/>\n   </g>\n   <g id=\"matplotlib.axis_1\">\n    <g id=\"xtick_1\">\n     <g id=\"line2d_1\">\n      <defs>\n       <path d=\"M 0 0 \nL 0 3.5 \n\" id=\"ma76f79ee65\" style=\"stroke:#000000;stroke-width:0.8;\"/>\n      </defs>\n      <g>\n       <use style=\"stroke:#000000;stroke-width:0.8;\" x=\"62.183807\" xlink:href=\"#ma76f79ee65\" y=\"224.64\"/>\n      </g>\n     </g>\n     <g id=\"text_1\">\n      <!-- 0 -->\n      <g transform=\"translate(59.002557 239.238438)scale(0.1 -0.1)\">\n       <defs>\n        <path d=\"M 31.78125 66.40625 \nQ 24.171875 66.40625 20.328125 58.90625 \nQ 16.5 51.421875 16.5 36.375 \nQ 16.5 21.390625 20.328125 13.890625 \nQ 24.171875 6.390625 31.78125 6.390625 \nQ 39.453125 6.390625 43.28125 13.890625 \nQ 47.125 21.390625 47.125 36.375 \nQ 47.125 51.421875 43.28125 58.90625 \nQ 39.453125 66.40625 31.78125 66.40625 \nz\nM 31.78125 74.21875 \nQ 44.046875 74.21875 50.515625 64.515625 \nQ 56.984375 54.828125 56.984375 36.375 \nQ 56.984375 17.96875 50.515625 8.265625 \nQ 44.046875 -1.421875 31.78125 -1.421875 \nQ 19.53125 -1.421875 13.0625 8.265625 \nQ 6.59375 17.96875 6.59375 36.375 \nQ 6.59375 54.828125 13.0625 64.515625 \nQ 19.53125 74.21875 31.78125 74.21875 \nz\n\" id=\"DejaVuSans-48\"/>\n       </defs>\n       <use xlink:href=\"#DejaVuSans-48\"/>\n      </g>\n     </g>\n    </g>\n    <g id=\"xtick_2\">\n     <g id=\"line2d_2\">\n      <g>\n       <use style=\"stroke:#000000;stroke-width:0.8;\" x=\"124.298835\" xlink:href=\"#ma76f79ee65\" y=\"224.64\"/>\n      </g>\n     </g>\n     <g id=\"text_2\">\n      <!-- 10 -->\n      <g transform=\"translate(117.936335 239.238438)scale(0.1 -0.1)\">\n       <defs>\n        <path d=\"M 12.40625 8.296875 \nL 28.515625 8.296875 \nL 28.515625 63.921875 \nL 10.984375 60.40625 \nL 10.984375 69.390625 \nL 28.421875 72.90625 \nL 38.28125 72.90625 \nL 38.28125 8.296875 \nL 54.390625 8.296875 \nL 54.390625 0 \nL 12.40625 0 \nz\n\" id=\"DejaVuSans-49\"/>\n       </defs>\n       <use xlink:href=\"#DejaVuSans-49\"/>\n       <use x=\"63.623047\" xlink:href=\"#DejaVuSans-48\"/>\n      </g>\n     </g>\n    </g>\n    <g id=\"xtick_3\">\n     <g id=\"line2d_3\">\n      <g>\n       <use style=\"stroke:#000000;stroke-width:0.8;\" x=\"186.413862\" xlink:href=\"#ma76f79ee65\" y=\"224.64\"/>\n      </g>\n     </g>\n     <g id=\"text_3\">\n      <!-- 20 -->\n      <g transform=\"translate(180.051362 239.238438)scale(0.1 -0.1)\">\n       <defs>\n        <path d=\"M 19.1875 8.296875 \nL 53.609375 8.296875 \nL 53.609375 0 \nL 7.328125 0 \nL 7.328125 8.296875 \nQ 12.9375 14.109375 22.625 23.890625 \nQ 32.328125 33.6875 34.8125 36.53125 \nQ 39.546875 41.84375 41.421875 45.53125 \nQ 43.3125 49.21875 43.3125 52.78125 \nQ 43.3125 58.59375 39.234375 62.25 \nQ 35.15625 65.921875 28.609375 65.921875 \nQ 23.96875 65.921875 18.8125 64.3125 \nQ 13.671875 62.703125 7.8125 59.421875 \nL 7.8125 69.390625 \nQ 13.765625 71.78125 18.9375 73 \nQ 24.125 74.21875 28.421875 74.21875 \nQ 39.75 74.21875 46.484375 68.546875 \nQ 53.21875 62.890625 53.21875 53.421875 \nQ 53.21875 48.921875 51.53125 44.890625 \nQ 49.859375 40.875 45.40625 35.40625 \nQ 44.1875 33.984375 37.640625 27.21875 \nQ 31.109375 20.453125 19.1875 8.296875 \nz\n\" id=\"DejaVuSans-50\"/>\n       </defs>\n       <use xlink:href=\"#DejaVuSans-50\"/>\n       <use x=\"63.623047\" xlink:href=\"#DejaVuSans-48\"/>\n      </g>\n     </g>\n    </g>\n    <g id=\"xtick_4\">\n     <g id=\"line2d_4\">\n      <g>\n       <use style=\"stroke:#000000;stroke-width:0.8;\" x=\"248.52889\" xlink:href=\"#ma76f79ee65\" y=\"224.64\"/>\n      </g>\n     </g>\n     <g id=\"text_4\">\n      <!-- 30 -->\n      <g transform=\"translate(242.16639 239.238438)scale(0.1 -0.1)\">\n       <defs>\n        <path d=\"M 40.578125 39.3125 \nQ 47.65625 37.796875 51.625 33 \nQ 55.609375 28.21875 55.609375 21.1875 \nQ 55.609375 10.40625 48.1875 4.484375 \nQ 40.765625 -1.421875 27.09375 -1.421875 \nQ 22.515625 -1.421875 17.65625 -0.515625 \nQ 12.796875 0.390625 7.625 2.203125 \nL 7.625 11.71875 \nQ 11.71875 9.328125 16.59375 8.109375 \nQ 21.484375 6.890625 26.8125 6.890625 \nQ 36.078125 6.890625 40.9375 10.546875 \nQ 45.796875 14.203125 45.796875 21.1875 \nQ 45.796875 27.640625 41.28125 31.265625 \nQ 36.765625 34.90625 28.71875 34.90625 \nL 20.21875 34.90625 \nL 20.21875 43.015625 \nL 29.109375 43.015625 \nQ 36.375 43.015625 40.234375 45.921875 \nQ 44.09375 48.828125 44.09375 54.296875 \nQ 44.09375 59.90625 40.109375 62.90625 \nQ 36.140625 65.921875 28.71875 65.921875 \nQ 24.65625 65.921875 20.015625 65.03125 \nQ 15.375 64.15625 9.8125 62.3125 \nL 9.8125 71.09375 \nQ 15.4375 72.65625 20.34375 73.4375 \nQ 25.25 74.21875 29.59375 74.21875 \nQ 40.828125 74.21875 47.359375 69.109375 \nQ 53.90625 64.015625 53.90625 55.328125 \nQ 53.90625 49.265625 50.4375 45.09375 \nQ 46.96875 40.921875 40.578125 39.3125 \nz\n\" id=\"DejaVuSans-51\"/>\n       </defs>\n       <use xlink:href=\"#DejaVuSans-51\"/>\n       <use x=\"63.623047\" xlink:href=\"#DejaVuSans-48\"/>\n      </g>\n     </g>\n    </g>\n    <g id=\"xtick_5\">\n     <g id=\"line2d_5\">\n      <g>\n       <use style=\"stroke:#000000;stroke-width:0.8;\" x=\"310.643918\" xlink:href=\"#ma76f79ee65\" y=\"224.64\"/>\n      </g>\n     </g>\n     <g id=\"text_5\">\n      <!-- 40 -->\n      <g transform=\"translate(304.281418 239.238438)scale(0.1 -0.1)\">\n       <defs>\n        <path d=\"M 37.796875 64.3125 \nL 12.890625 25.390625 \nL 37.796875 25.390625 \nz\nM 35.203125 72.90625 \nL 47.609375 72.90625 \nL 47.609375 25.390625 \nL 58.015625 25.390625 \nL 58.015625 17.1875 \nL 47.609375 17.1875 \nL 47.609375 0 \nL 37.796875 0 \nL 37.796875 17.1875 \nL 4.890625 17.1875 \nL 4.890625 26.703125 \nz\n\" id=\"DejaVuSans-52\"/>\n       </defs>\n       <use xlink:href=\"#DejaVuSans-52\"/>\n       <use x=\"63.623047\" xlink:href=\"#DejaVuSans-48\"/>\n      </g>\n     </g>\n    </g>\n    <g id=\"xtick_6\">\n     <g id=\"line2d_6\">\n      <g>\n       <use style=\"stroke:#000000;stroke-width:0.8;\" x=\"372.758946\" xlink:href=\"#ma76f79ee65\" y=\"224.64\"/>\n      </g>\n     </g>\n     <g id=\"text_6\">\n      <!-- 50 -->\n      <g transform=\"translate(366.396446 239.238438)scale(0.1 -0.1)\">\n       <defs>\n        <path d=\"M 10.796875 72.90625 \nL 49.515625 72.90625 \nL 49.515625 64.59375 \nL 19.828125 64.59375 \nL 19.828125 46.734375 \nQ 21.96875 47.46875 24.109375 47.828125 \nQ 26.265625 48.1875 28.421875 48.1875 \nQ 40.625 48.1875 47.75 41.5 \nQ 54.890625 34.8125 54.890625 23.390625 \nQ 54.890625 11.625 47.5625 5.09375 \nQ 40.234375 -1.421875 26.90625 -1.421875 \nQ 22.3125 -1.421875 17.546875 -0.640625 \nQ 12.796875 0.140625 7.71875 1.703125 \nL 7.71875 11.625 \nQ 12.109375 9.234375 16.796875 8.0625 \nQ 21.484375 6.890625 26.703125 6.890625 \nQ 35.15625 6.890625 40.078125 11.328125 \nQ 45.015625 15.765625 45.015625 23.390625 \nQ 45.015625 31 40.078125 35.4375 \nQ 35.15625 39.890625 26.703125 39.890625 \nQ 22.75 39.890625 18.8125 39.015625 \nQ 14.890625 38.140625 10.796875 36.28125 \nz\n\" id=\"DejaVuSans-53\"/>\n       </defs>\n       <use xlink:href=\"#DejaVuSans-53\"/>\n       <use x=\"63.623047\" xlink:href=\"#DejaVuSans-48\"/>\n      </g>\n     </g>\n    </g>\n    <g id=\"text_7\">\n     <!-- avg_spending_ranking_adjusted -->\n     <g transform=\"translate(134.210156 252.916562)scale(0.1 -0.1)\">\n      <defs>\n       <path d=\"M 34.28125 27.484375 \nQ 23.390625 27.484375 19.1875 25 \nQ 14.984375 22.515625 14.984375 16.5 \nQ 14.984375 11.71875 18.140625 8.90625 \nQ 21.296875 6.109375 26.703125 6.109375 \nQ 34.1875 6.109375 38.703125 11.40625 \nQ 43.21875 16.703125 43.21875 25.484375 \nL 43.21875 27.484375 \nz\nM 52.203125 31.203125 \nL 52.203125 0 \nL 43.21875 0 \nL 43.21875 8.296875 \nQ 40.140625 3.328125 35.546875 0.953125 \nQ 30.953125 -1.421875 24.3125 -1.421875 \nQ 15.921875 -1.421875 10.953125 3.296875 \nQ 6 8.015625 6 15.921875 \nQ 6 25.140625 12.171875 29.828125 \nQ 18.359375 34.515625 30.609375 34.515625 \nL 43.21875 34.515625 \nL 43.21875 35.40625 \nQ 43.21875 41.609375 39.140625 45 \nQ 35.0625 48.390625 27.6875 48.390625 \nQ 23 48.390625 18.546875 47.265625 \nQ 14.109375 46.140625 10.015625 43.890625 \nL 10.015625 52.203125 \nQ 14.9375 54.109375 19.578125 55.046875 \nQ 24.21875 56 28.609375 56 \nQ 40.484375 56 46.34375 49.84375 \nQ 52.203125 43.703125 52.203125 31.203125 \nz\n\" id=\"DejaVuSans-97\"/>\n       <path d=\"M 2.984375 54.6875 \nL 12.5 54.6875 \nL 29.59375 8.796875 \nL 46.6875 54.6875 \nL 56.203125 54.6875 \nL 35.6875 0 \nL 23.484375 0 \nz\n\" id=\"DejaVuSans-118\"/>\n       <path d=\"M 45.40625 27.984375 \nQ 45.40625 37.75 41.375 43.109375 \nQ 37.359375 48.484375 30.078125 48.484375 \nQ 22.859375 48.484375 18.828125 43.109375 \nQ 14.796875 37.75 14.796875 27.984375 \nQ 14.796875 18.265625 18.828125 12.890625 \nQ 22.859375 7.515625 30.078125 7.515625 \nQ 37.359375 7.515625 41.375 12.890625 \nQ 45.40625 18.265625 45.40625 27.984375 \nz\nM 54.390625 6.78125 \nQ 54.390625 -7.171875 48.1875 -13.984375 \nQ 42 -20.796875 29.203125 -20.796875 \nQ 24.46875 -20.796875 20.265625 -20.09375 \nQ 16.0625 -19.390625 12.109375 -17.921875 \nL 12.109375 -9.1875 \nQ 16.0625 -11.328125 19.921875 -12.34375 \nQ 23.78125 -13.375 27.78125 -13.375 \nQ 36.625 -13.375 41.015625 -8.765625 \nQ 45.40625 -4.15625 45.40625 5.171875 \nL 45.40625 9.625 \nQ 42.625 4.78125 38.28125 2.390625 \nQ 33.9375 0 27.875 0 \nQ 17.828125 0 11.671875 7.65625 \nQ 5.515625 15.328125 5.515625 27.984375 \nQ 5.515625 40.671875 11.671875 48.328125 \nQ 17.828125 56 27.875 56 \nQ 33.9375 56 38.28125 53.609375 \nQ 42.625 51.21875 45.40625 46.390625 \nL 45.40625 54.6875 \nL 54.390625 54.6875 \nz\n\" id=\"DejaVuSans-103\"/>\n       <path d=\"M 50.984375 -16.609375 \nL 50.984375 -23.578125 \nL -0.984375 -23.578125 \nL -0.984375 -16.609375 \nz\n\" id=\"DejaVuSans-95\"/>\n       <path d=\"M 44.28125 53.078125 \nL 44.28125 44.578125 \nQ 40.484375 46.53125 36.375 47.5 \nQ 32.28125 48.484375 27.875 48.484375 \nQ 21.1875 48.484375 17.84375 46.4375 \nQ 14.5 44.390625 14.5 40.28125 \nQ 14.5 37.15625 16.890625 35.375 \nQ 19.28125 33.59375 26.515625 31.984375 \nL 29.59375 31.296875 \nQ 39.15625 29.25 43.1875 25.515625 \nQ 47.21875 21.78125 47.21875 15.09375 \nQ 47.21875 7.46875 41.1875 3.015625 \nQ 35.15625 -1.421875 24.609375 -1.421875 \nQ 20.21875 -1.421875 15.453125 -0.5625 \nQ 10.6875 0.296875 5.421875 2 \nL 5.421875 11.28125 \nQ 10.40625 8.6875 15.234375 7.390625 \nQ 20.0625 6.109375 24.8125 6.109375 \nQ 31.15625 6.109375 34.5625 8.28125 \nQ 37.984375 10.453125 37.984375 14.40625 \nQ 37.984375 18.0625 35.515625 20.015625 \nQ 33.0625 21.96875 24.703125 23.78125 \nL 21.578125 24.515625 \nQ 13.234375 26.265625 9.515625 29.90625 \nQ 5.8125 33.546875 5.8125 39.890625 \nQ 5.8125 47.609375 11.28125 51.796875 \nQ 16.75 56 26.8125 56 \nQ 31.78125 56 36.171875 55.265625 \nQ 40.578125 54.546875 44.28125 53.078125 \nz\n\" id=\"DejaVuSans-115\"/>\n       <path d=\"M 18.109375 8.203125 \nL 18.109375 -20.796875 \nL 9.078125 -20.796875 \nL 9.078125 54.6875 \nL 18.109375 54.6875 \nL 18.109375 46.390625 \nQ 20.953125 51.265625 25.265625 53.625 \nQ 29.59375 56 35.59375 56 \nQ 45.5625 56 51.78125 48.09375 \nQ 58.015625 40.1875 58.015625 27.296875 \nQ 58.015625 14.40625 51.78125 6.484375 \nQ 45.5625 -1.421875 35.59375 -1.421875 \nQ 29.59375 -1.421875 25.265625 0.953125 \nQ 20.953125 3.328125 18.109375 8.203125 \nz\nM 48.6875 27.296875 \nQ 48.6875 37.203125 44.609375 42.84375 \nQ 40.53125 48.484375 33.40625 48.484375 \nQ 26.265625 48.484375 22.1875 42.84375 \nQ 18.109375 37.203125 18.109375 27.296875 \nQ 18.109375 17.390625 22.1875 11.75 \nQ 26.265625 6.109375 33.40625 6.109375 \nQ 40.53125 6.109375 44.609375 11.75 \nQ 48.6875 17.390625 48.6875 27.296875 \nz\n\" id=\"DejaVuSans-112\"/>\n       <path d=\"M 56.203125 29.59375 \nL 56.203125 25.203125 \nL 14.890625 25.203125 \nQ 15.484375 15.921875 20.484375 11.0625 \nQ 25.484375 6.203125 34.421875 6.203125 \nQ 39.59375 6.203125 44.453125 7.46875 \nQ 49.3125 8.734375 54.109375 11.28125 \nL 54.109375 2.78125 \nQ 49.265625 0.734375 44.1875 -0.34375 \nQ 39.109375 -1.421875 33.890625 -1.421875 \nQ 20.796875 -1.421875 13.15625 6.1875 \nQ 5.515625 13.8125 5.515625 26.8125 \nQ 5.515625 40.234375 12.765625 48.109375 \nQ 20.015625 56 32.328125 56 \nQ 43.359375 56 49.78125 48.890625 \nQ 56.203125 41.796875 56.203125 29.59375 \nz\nM 47.21875 32.234375 \nQ 47.125 39.59375 43.09375 43.984375 \nQ 39.0625 48.390625 32.421875 48.390625 \nQ 24.90625 48.390625 20.390625 44.140625 \nQ 15.875 39.890625 15.1875 32.171875 \nz\n\" id=\"DejaVuSans-101\"/>\n       <path d=\"M 54.890625 33.015625 \nL 54.890625 0 \nL 45.90625 0 \nL 45.90625 32.71875 \nQ 45.90625 40.484375 42.875 44.328125 \nQ 39.84375 48.1875 33.796875 48.1875 \nQ 26.515625 48.1875 22.3125 43.546875 \nQ 18.109375 38.921875 18.109375 30.90625 \nL 18.109375 0 \nL 9.078125 0 \nL 9.078125 54.6875 \nL 18.109375 54.6875 \nL 18.109375 46.1875 \nQ 21.34375 51.125 25.703125 53.5625 \nQ 30.078125 56 35.796875 56 \nQ 45.21875 56 50.046875 50.171875 \nQ 54.890625 44.34375 54.890625 33.015625 \nz\n\" id=\"DejaVuSans-110\"/>\n       <path d=\"M 45.40625 46.390625 \nL 45.40625 75.984375 \nL 54.390625 75.984375 \nL 54.390625 0 \nL 45.40625 0 \nL 45.40625 8.203125 \nQ 42.578125 3.328125 38.25 0.953125 \nQ 33.9375 -1.421875 27.875 -1.421875 \nQ 17.96875 -1.421875 11.734375 6.484375 \nQ 5.515625 14.40625 5.515625 27.296875 \nQ 5.515625 40.1875 11.734375 48.09375 \nQ 17.96875 56 27.875 56 \nQ 33.9375 56 38.25 53.625 \nQ 42.578125 51.265625 45.40625 46.390625 \nz\nM 14.796875 27.296875 \nQ 14.796875 17.390625 18.875 11.75 \nQ 22.953125 6.109375 30.078125 6.109375 \nQ 37.203125 6.109375 41.296875 11.75 \nQ 45.40625 17.390625 45.40625 27.296875 \nQ 45.40625 37.203125 41.296875 42.84375 \nQ 37.203125 48.484375 30.078125 48.484375 \nQ 22.953125 48.484375 18.875 42.84375 \nQ 14.796875 37.203125 14.796875 27.296875 \nz\n\" id=\"DejaVuSans-100\"/>\n       <path d=\"M 9.421875 54.6875 \nL 18.40625 54.6875 \nL 18.40625 0 \nL 9.421875 0 \nz\nM 9.421875 75.984375 \nL 18.40625 75.984375 \nL 18.40625 64.59375 \nL 9.421875 64.59375 \nz\n\" id=\"DejaVuSans-105\"/>\n       <path d=\"M 41.109375 46.296875 \nQ 39.59375 47.171875 37.8125 47.578125 \nQ 36.03125 48 33.890625 48 \nQ 26.265625 48 22.1875 43.046875 \nQ 18.109375 38.09375 18.109375 28.8125 \nL 18.109375 0 \nL 9.078125 0 \nL 9.078125 54.6875 \nL 18.109375 54.6875 \nL 18.109375 46.1875 \nQ 20.953125 51.171875 25.484375 53.578125 \nQ 30.03125 56 36.53125 56 \nQ 37.453125 56 38.578125 55.875 \nQ 39.703125 55.765625 41.0625 55.515625 \nz\n\" id=\"DejaVuSans-114\"/>\n       <path d=\"M 9.078125 75.984375 \nL 18.109375 75.984375 \nL 18.109375 31.109375 \nL 44.921875 54.6875 \nL 56.390625 54.6875 \nL 27.390625 29.109375 \nL 57.625 0 \nL 45.90625 0 \nL 18.109375 26.703125 \nL 18.109375 0 \nL 9.078125 0 \nz\n\" id=\"DejaVuSans-107\"/>\n       <path d=\"M 9.421875 54.6875 \nL 18.40625 54.6875 \nL 18.40625 -0.984375 \nQ 18.40625 -11.421875 14.421875 -16.109375 \nQ 10.453125 -20.796875 1.609375 -20.796875 \nL -1.8125 -20.796875 \nL -1.8125 -13.1875 \nL 0.59375 -13.1875 \nQ 5.71875 -13.1875 7.5625 -10.8125 \nQ 9.421875 -8.453125 9.421875 -0.984375 \nz\nM 9.421875 75.984375 \nL 18.40625 75.984375 \nL 18.40625 64.59375 \nL 9.421875 64.59375 \nz\n\" id=\"DejaVuSans-106\"/>\n       <path d=\"M 8.5 21.578125 \nL 8.5 54.6875 \nL 17.484375 54.6875 \nL 17.484375 21.921875 \nQ 17.484375 14.15625 20.5 10.265625 \nQ 23.53125 6.390625 29.59375 6.390625 \nQ 36.859375 6.390625 41.078125 11.03125 \nQ 45.3125 15.671875 45.3125 23.6875 \nL 45.3125 54.6875 \nL 54.296875 54.6875 \nL 54.296875 0 \nL 45.3125 0 \nL 45.3125 8.40625 \nQ 42.046875 3.421875 37.71875 1 \nQ 33.40625 -1.421875 27.6875 -1.421875 \nQ 18.265625 -1.421875 13.375 4.4375 \nQ 8.5 10.296875 8.5 21.578125 \nz\nM 31.109375 56 \nz\n\" id=\"DejaVuSans-117\"/>\n       <path d=\"M 18.3125 70.21875 \nL 18.3125 54.6875 \nL 36.8125 54.6875 \nL 36.8125 47.703125 \nL 18.3125 47.703125 \nL 18.3125 18.015625 \nQ 18.3125 11.328125 20.140625 9.421875 \nQ 21.96875 7.515625 27.59375 7.515625 \nL 36.8125 7.515625 \nL 36.8125 0 \nL 27.59375 0 \nQ 17.1875 0 13.234375 3.875 \nQ 9.28125 7.765625 9.28125 18.015625 \nL 9.28125 47.703125 \nL 2.6875 47.703125 \nL 2.6875 54.6875 \nL 9.28125 54.6875 \nL 9.28125 70.21875 \nz\n\" id=\"DejaVuSans-116\"/>\n      </defs>\n      <use xlink:href=\"#DejaVuSans-97\"/>\n      <use x=\"61.279297\" xlink:href=\"#DejaVuSans-118\"/>\n      <use x=\"120.458984\" xlink:href=\"#DejaVuSans-103\"/>\n      <use x=\"183.935547\" xlink:href=\"#DejaVuSans-95\"/>\n      <use x=\"233.935547\" xlink:href=\"#DejaVuSans-115\"/>\n      <use x=\"286.035156\" xlink:href=\"#DejaVuSans-112\"/>\n      <use x=\"349.511719\" xlink:href=\"#DejaVuSans-101\"/>\n      <use x=\"411.035156\" xlink:href=\"#DejaVuSans-110\"/>\n      <use x=\"474.414062\" xlink:href=\"#DejaVuSans-100\"/>\n      <use x=\"537.890625\" xlink:href=\"#DejaVuSans-105\"/>\n      <use x=\"565.673828\" xlink:href=\"#DejaVuSans-110\"/>\n      <use x=\"629.052734\" xlink:href=\"#DejaVuSans-103\"/>\n      <use x=\"692.529297\" xlink:href=\"#DejaVuSans-95\"/>\n      <use x=\"742.529297\" xlink:href=\"#DejaVuSans-114\"/>\n      <use x=\"783.642578\" xlink:href=\"#DejaVuSans-97\"/>\n      <use x=\"844.921875\" xlink:href=\"#DejaVuSans-110\"/>\n      <use x=\"908.300781\" xlink:href=\"#DejaVuSans-107\"/>\n      <use x=\"966.210938\" xlink:href=\"#DejaVuSans-105\"/>\n      <use x=\"993.994141\" xlink:href=\"#DejaVuSans-110\"/>\n      <use x=\"1057.373047\" xlink:href=\"#DejaVuSans-103\"/>\n      <use x=\"1120.849609\" xlink:href=\"#DejaVuSans-95\"/>\n      <use x=\"1170.849609\" xlink:href=\"#DejaVuSans-97\"/>\n      <use x=\"1232.128906\" xlink:href=\"#DejaVuSans-100\"/>\n      <use x=\"1295.605469\" xlink:href=\"#DejaVuSans-106\"/>\n      <use x=\"1323.388672\" xlink:href=\"#DejaVuSans-117\"/>\n      <use x=\"1386.767578\" xlink:href=\"#DejaVuSans-115\"/>\n      <use x=\"1438.867188\" xlink:href=\"#DejaVuSans-116\"/>\n      <use x=\"1478.076172\" xlink:href=\"#DejaVuSans-101\"/>\n      <use x=\"1539.599609\" xlink:href=\"#DejaVuSans-100\"/>\n     </g>\n    </g>\n   </g>\n   <g id=\"matplotlib.axis_2\">\n    <g id=\"ytick_1\">\n     <g id=\"line2d_7\">\n      <defs>\n       <path d=\"M 0 0 \nL -3.5 0 \n\" id=\"mc877315f4a\" style=\"stroke:#000000;stroke-width:0.8;\"/>\n      </defs>\n      <g>\n       <use style=\"stroke:#000000;stroke-width:0.8;\" x=\"46.965625\" xlink:href=\"#mc877315f4a\" y=\"224.64\"/>\n      </g>\n     </g>\n     <g id=\"text_8\">\n      <!-- 0 -->\n      <g transform=\"translate(33.603125 228.439219)scale(0.1 -0.1)\">\n       <use xlink:href=\"#DejaVuSans-48\"/>\n      </g>\n     </g>\n    </g>\n    <g id=\"ytick_2\">\n     <g id=\"line2d_8\">\n      <g>\n       <use style=\"stroke:#000000;stroke-width:0.8;\" x=\"46.965625\" xlink:href=\"#mc877315f4a\" y=\"183.222857\"/>\n      </g>\n     </g>\n     <g id=\"text_9\">\n      <!-- 50 -->\n      <g transform=\"translate(27.240625 187.022076)scale(0.1 -0.1)\">\n       <use xlink:href=\"#DejaVuSans-53\"/>\n       <use x=\"63.623047\" xlink:href=\"#DejaVuSans-48\"/>\n      </g>\n     </g>\n    </g>\n    <g id=\"ytick_3\">\n     <g id=\"line2d_9\">\n      <g>\n       <use style=\"stroke:#000000;stroke-width:0.8;\" x=\"46.965625\" xlink:href=\"#mc877315f4a\" y=\"141.805714\"/>\n      </g>\n     </g>\n     <g id=\"text_10\">\n      <!-- 100 -->\n      <g transform=\"translate(20.878125 145.604933)scale(0.1 -0.1)\">\n       <use xlink:href=\"#DejaVuSans-49\"/>\n       <use x=\"63.623047\" xlink:href=\"#DejaVuSans-48\"/>\n       <use x=\"127.246094\" xlink:href=\"#DejaVuSans-48\"/>\n      </g>\n     </g>\n    </g>\n    <g id=\"ytick_4\">\n     <g id=\"line2d_10\">\n      <g>\n       <use style=\"stroke:#000000;stroke-width:0.8;\" x=\"46.965625\" xlink:href=\"#mc877315f4a\" y=\"100.388571\"/>\n      </g>\n     </g>\n     <g id=\"text_11\">\n      <!-- 150 -->\n      <g transform=\"translate(20.878125 104.18779)scale(0.1 -0.1)\">\n       <use xlink:href=\"#DejaVuSans-49\"/>\n       <use x=\"63.623047\" xlink:href=\"#DejaVuSans-53\"/>\n       <use x=\"127.246094\" xlink:href=\"#DejaVuSans-48\"/>\n      </g>\n     </g>\n    </g>\n    <g id=\"ytick_5\">\n     <g id=\"line2d_11\">\n      <g>\n       <use style=\"stroke:#000000;stroke-width:0.8;\" x=\"46.965625\" xlink:href=\"#mc877315f4a\" y=\"58.971429\"/>\n      </g>\n     </g>\n     <g id=\"text_12\">\n      <!-- 200 -->\n      <g transform=\"translate(20.878125 62.770647)scale(0.1 -0.1)\">\n       <use xlink:href=\"#DejaVuSans-50\"/>\n       <use x=\"63.623047\" xlink:href=\"#DejaVuSans-48\"/>\n       <use x=\"127.246094\" xlink:href=\"#DejaVuSans-48\"/>\n      </g>\n     </g>\n    </g>\n    <g id=\"ytick_6\">\n     <g id=\"line2d_12\">\n      <g>\n       <use style=\"stroke:#000000;stroke-width:0.8;\" x=\"46.965625\" xlink:href=\"#mc877315f4a\" y=\"17.554286\"/>\n      </g>\n     </g>\n     <g id=\"text_13\">\n      <!-- 250 -->\n      <g transform=\"translate(20.878125 21.353504)scale(0.1 -0.1)\">\n       <use xlink:href=\"#DejaVuSans-50\"/>\n       <use x=\"63.623047\" xlink:href=\"#DejaVuSans-53\"/>\n       <use x=\"127.246094\" xlink:href=\"#DejaVuSans-48\"/>\n      </g>\n     </g>\n    </g>\n    <g id=\"text_14\">\n     <!-- Count -->\n     <g transform=\"translate(14.798438 130.768438)rotate(-90)scale(0.1 -0.1)\">\n      <defs>\n       <path d=\"M 64.40625 67.28125 \nL 64.40625 56.890625 \nQ 59.421875 61.53125 53.78125 63.8125 \nQ 48.140625 66.109375 41.796875 66.109375 \nQ 29.296875 66.109375 22.65625 58.46875 \nQ 16.015625 50.828125 16.015625 36.375 \nQ 16.015625 21.96875 22.65625 14.328125 \nQ 29.296875 6.6875 41.796875 6.6875 \nQ 48.140625 6.6875 53.78125 8.984375 \nQ 59.421875 11.28125 64.40625 15.921875 \nL 64.40625 5.609375 \nQ 59.234375 2.09375 53.4375 0.328125 \nQ 47.65625 -1.421875 41.21875 -1.421875 \nQ 24.65625 -1.421875 15.125 8.703125 \nQ 5.609375 18.84375 5.609375 36.375 \nQ 5.609375 53.953125 15.125 64.078125 \nQ 24.65625 74.21875 41.21875 74.21875 \nQ 47.75 74.21875 53.53125 72.484375 \nQ 59.328125 70.75 64.40625 67.28125 \nz\n\" id=\"DejaVuSans-67\"/>\n       <path d=\"M 30.609375 48.390625 \nQ 23.390625 48.390625 19.1875 42.75 \nQ 14.984375 37.109375 14.984375 27.296875 \nQ 14.984375 17.484375 19.15625 11.84375 \nQ 23.34375 6.203125 30.609375 6.203125 \nQ 37.796875 6.203125 41.984375 11.859375 \nQ 46.1875 17.53125 46.1875 27.296875 \nQ 46.1875 37.015625 41.984375 42.703125 \nQ 37.796875 48.390625 30.609375 48.390625 \nz\nM 30.609375 56 \nQ 42.328125 56 49.015625 48.375 \nQ 55.71875 40.765625 55.71875 27.296875 \nQ 55.71875 13.875 49.015625 6.21875 \nQ 42.328125 -1.421875 30.609375 -1.421875 \nQ 18.84375 -1.421875 12.171875 6.21875 \nQ 5.515625 13.875 5.515625 27.296875 \nQ 5.515625 40.765625 12.171875 48.375 \nQ 18.84375 56 30.609375 56 \nz\n\" id=\"DejaVuSans-111\"/>\n      </defs>\n      <use xlink:href=\"#DejaVuSans-67\"/>\n      <use x=\"69.824219\" xlink:href=\"#DejaVuSans-111\"/>\n      <use x=\"131.005859\" xlink:href=\"#DejaVuSans-117\"/>\n      <use x=\"194.384766\" xlink:href=\"#DejaVuSans-110\"/>\n      <use x=\"257.763672\" xlink:href=\"#DejaVuSans-116\"/>\n     </g>\n    </g>\n   </g>\n   <g id=\"patch_13\">\n    <path d=\"M 46.965625 224.64 \nL 46.965625 7.2 \n\" style=\"fill:none;stroke:#000000;stroke-linecap:square;stroke-linejoin:miter;stroke-width:0.8;\"/>\n   </g>\n   <g id=\"patch_14\">\n    <path d=\"M 381.765625 224.64 \nL 381.765625 7.2 \n\" style=\"fill:none;stroke:#000000;stroke-linecap:square;stroke-linejoin:miter;stroke-width:0.8;\"/>\n   </g>\n   <g id=\"patch_15\">\n    <path d=\"M 46.965625 224.64 \nL 381.765625 224.64 \n\" style=\"fill:none;stroke:#000000;stroke-linecap:square;stroke-linejoin:miter;stroke-width:0.8;\"/>\n   </g>\n   <g id=\"patch_16\">\n    <path d=\"M 46.965625 7.2 \nL 381.765625 7.2 \n\" style=\"fill:none;stroke:#000000;stroke-linecap:square;stroke-linejoin:miter;stroke-width:0.8;\"/>\n   </g>\n  </g>\n </g>\n <defs>\n  <clipPath id=\"p2707664dcb\">\n   <rect height=\"217.44\" width=\"334.8\" x=\"46.965625\" y=\"7.2\"/>\n  </clipPath>\n </defs>\n</svg>\n",
      "image/png": "[encoded data removed]"
     },
     "metadata": {
      "needs_background": "light"
     }
    }
   ],
   "source": [
    "create_distribution_plot(new_restaurants, 'avg_spending_ranking_adjusted')"
   ]
  },
  {
   "source": [
    "# 5/30 Cells"
   ],
   "cell_type": "markdown",
   "metadata": {}
  },
  {
   "cell_type": "code",
   "execution_count": 2,
   "metadata": {},
   "outputs": [],
   "source": [
    "import numpy as np, copy, json\n",
    "from PIL import Image"
   ]
  },
  {
   "cell_type": "code",
   "execution_count": 3,
   "metadata": {},
   "outputs": [],
   "source": [
    "with open('rgb_gradient.json', 'r') as gradient_json:\n",
    "    gradient = json.load(gradient_json)"
   ]
  },
  {
   "cell_type": "code",
   "execution_count": 5,
   "metadata": {},
   "outputs": [
    {
     "output_type": "execute_result",
     "data": {
      "text/plain": [
       "[199, 2, 0]"
      ]
     },
     "metadata": {},
     "execution_count": 5
    }
   ],
   "source": [
    "gradient[0]"
   ]
  },
  {
   "cell_type": "code",
   "execution_count": 11,
   "metadata": {},
   "outputs": [],
   "source": [
    "base_icon = Image.open('recolorable_pointer.png')\n",
    "\n",
    "icon_arr = np.array(base_icon)\n",
    "icon_expanded = np.repeat(icon_arr, 3, -1).reshape(32,56,3)\n",
    "icon_expanded.shape\n",
    "icon_refreshed_ls = []\n",
    "for n in icon_expanded.flatten():\n",
    "    if n != 0:\n",
    "        icon_refreshed_ls.append(0)\n",
    "    else:\n",
    "        icon_refreshed_ls.append(1)\n",
    "icon_refreshed = np.array(icon_refreshed_ls).reshape(32,56,3)\n",
    "ls = icon_refreshed.tolist()"
   ]
  },
  {
   "cell_type": "code",
   "execution_count": 12,
   "metadata": {},
   "outputs": [
    {
     "output_type": "stream",
     "name": "stdout",
     "text": [
      "0\n",
      "10\n",
      "20\n",
      "30\n",
      "40\n",
      "50\n"
     ]
    }
   ],
   "source": [
    "for n, c in enumerate(gradient):\n",
    "    if n % 10 == 0:\n",
    "        print(n)\n",
    "    new_ls = copy.deepcopy(ls)\n",
    "    for x in range(len(ls)):\n",
    "        for y in range(len(ls[0])):\n",
    "            for i,(a,b) in enumerate(zip(c, ls[x][y])):\n",
    "                new_ls[x][y][i] = a*b\n",
    "            if sum(new_ls[x][y]) == 0:\n",
    "                new_ls[x][y].append(0)\n",
    "            else:\n",
    "                new_ls[x][y].append(255)\n",
    "    new_im = Image.fromarray(np.array(new_ls).astype(np.uint8))\n",
    "    new_im.save(f'icons/icon_fade_{n}.png', 'PNG')"
   ]
  },
  {
   "cell_type": "code",
   "execution_count": 23,
   "metadata": {},
   "outputs": [],
   "source": [
    "def add_rank_attr(compounds, key):\n",
    "    \"\"\"\n",
    "    Args: detailed_compounds, keys\n",
    "    Returns: ranked_compounds\n",
    "    \"\"\"\n",
    "    new_compounds = copy.deepcopy(compounds)\n",
    "    skipped_data = []\n",
    "    selected_data = []\n",
    "    for i in new_compounds:\n",
    "        if type(i[key]) == float:\n",
    "            selected_data.append(i)\n",
    "        else:\n",
    "            skipped_data.append(i)\n",
    "    selected_attr = np.array([i[key] for i in selected_data])\n",
    "    attr_max = selected_attr.max()\n",
    "    attr_min = selected_attr.min()\n",
    "    lin_range = np.linspace(attr_min, attr_max, 50)\n",
    "    print(len(lin_range))\n",
    "    for j,a in enumerate(selected_attr):\n",
    "        for i,r in enumerate(lin_range):\n",
    "            if a < r:\n",
    "                selected_data[j][f'{key}_ranking'] = i - 1\n",
    "                break\n",
    "        else:\n",
    "            selected_data[j][f'{key}_ranking'] = len(lin_range) - 1\n",
    "    selected_data.extend(skipped_data)\n",
    "    return selected_data\n",
    "\n",
    "def label_outliers(data, k, m=2):\n",
    "    new_data = []\n",
    "    selected_data_list = []\n",
    "    skipped_data = []\n",
    "    for i,d in enumerate(data):\n",
    "        if type(d[k]) == float:\n",
    "            selected_data_list.append(d)\n",
    "        else:\n",
    "            skipped_data.append(d)\n",
    "    selected_data = np.array([d[k] for d in selected_data_list])\n",
    "    mask_arr = list(abs(selected_data - np.mean(selected_data)) < (m * np.std(selected_data)))\n",
    "\n",
    "    for mask, c in zip(mask_arr, selected_data_list):\n",
    "        new_obj = c.copy()\n",
    "        new_obj[f'not_{k}_outlier'] = 1 if mask else 0\n",
    "        new_data.append(new_obj)\n",
    "    new_data.extend(skipped_data)\n",
    "\n",
    "    return new_data\n",
    "\n",
    "def adjust_rank_attr_by_outliers(compounds, key):\n",
    "    new_compounds = copy.deepcopy(compounds)\n",
    "    index_arr = np.array([i for i,obj in enumerate(compounds) if f'not_{key}_outlier' in obj.keys() and obj[f'not_{key}_outlier'] == 1])\n",
    "    selected_attr = np.array([i[key] for i in compounds if f'not_{key}_outlier' in i.keys() and i[f'not_{key}_outlier'] == 1])\n",
    "    attr_max = selected_attr.max()\n",
    "    attr_min = selected_attr.min()\n",
    "    lin_range = np.linspace(attr_min, attr_max, 50)\n",
    "    for j,a in zip(index_arr, selected_attr):\n",
    "        for i,r in enumerate(lin_range):\n",
    "            if a < r:\n",
    "                new_compounds[j][f'{key}_ranking_adjusted'] = i - 1\n",
    "                break\n",
    "        else:\n",
    "            new_compounds[j][f'{key}_ranking_adjusted'] = len(lin_range) - 1\n",
    "    return new_compounds\n"
   ]
  },
  {
   "cell_type": "code",
   "execution_count": 24,
   "metadata": {},
   "outputs": [],
   "source": [
    "import numpy as np\n",
    "import copy\n",
    "import json"
   ]
  },
  {
   "cell_type": "code",
   "execution_count": 3,
   "metadata": {},
   "outputs": [],
   "source": [
    "with open('detailed_compounds_changning_v2.json', 'r') as ch_js:\n",
    "    compounds = json.load(ch_js)"
   ]
  },
  {
   "cell_type": "code",
   "execution_count": 19,
   "metadata": {},
   "outputs": [],
   "source": [
    "new_compounds = copy.deepcopy(compounds)"
   ]
  },
  {
   "cell_type": "code",
   "execution_count": 25,
   "metadata": {},
   "outputs": [
    {
     "output_type": "stream",
     "name": "stdout",
     "text": [
      "50\n"
     ]
    }
   ],
   "source": [
    "k = \"avg_price_increase_per_year\"\n",
    "new_compounds = add_rank_attr(new_compounds, k)\n",
    "new_compounds = label_outliers(new_compounds, k)\n",
    "new_compounds = adjust_rank_attr_by_outliers(new_compounds, k)"
   ]
  },
  {
   "cell_type": "code",
   "execution_count": 29,
   "metadata": {},
   "outputs": [
    {
     "output_type": "execute_result",
     "data": {
      "text/plain": [
       "{'compound_name': '东浜小区',\n",
       " 'link': 'https://sh.lianjia.com/xiaoqu/5011000016348/',\n",
       " 'available_address': '东诸安浜路180弄1-23号',\n",
       " 'year_of_construction': 1997,\n",
       " 'building_type': '板楼',\n",
       " 'management_company': '长宁物业',\n",
       " 'developer_company': '上海新长宁(集团)有限公司',\n",
       " 'number_of_buildings': 23,\n",
       " 'number_of_rooms': 506,\n",
       " 'name': '东诸安浜路180弄-4号',\n",
       " 'location': {'lat': 31.224938, 'lng': 121.439701},\n",
       " 'address': '上海市长宁区东诸安浜路180弄1-23号',\n",
       " 'province': '上海市',\n",
       " 'city': '上海市',\n",
       " 'area': '长宁区',\n",
       " 'street_id': 'aacc6b00cb67f3b3c4f50d2e',\n",
       " 'detail': 1,\n",
       " 'uid': 'aacc6b00cb67f3b3c4f50d2e',\n",
       " 'sum_of_prices($/space)': 180502,\n",
       " 'sum_of_prices(total)': 6550000.0,\n",
       " 'sum_of_area(sq_meters)': 72.76,\n",
       " 'sum_of_floors': 12,\n",
       " 'units_on_sale': 2,\n",
       " 'avg_prices($/space)': 90251.0,\n",
       " 'avg_prices(total)': 3275000.0,\n",
       " 'avg_area(sq_meters)': 36.38,\n",
       " 'avg_floors': 6.0,\n",
       " 'year_of_construction_ranking': 40,\n",
       " 'not_year_of_construction_outlier': 1,\n",
       " 'year_of_construction_ranking_adjusted': 30,\n",
       " 'number_of_buildings_ranking': 5,\n",
       " 'not_number_of_buildings_outlier': 1,\n",
       " 'number_of_buildings_ranking_adjusted': 13,\n",
       " 'number_of_rooms_ranking': 4,\n",
       " 'not_number_of_rooms_outlier': 1,\n",
       " 'number_of_rooms_ranking_adjusted': 15,\n",
       " 'avg_prices($/space)_ranking': 19,\n",
       " 'not_avg_prices($/space)_outlier': 1,\n",
       " 'avg_prices($/space)_ranking_adjusted': 25,\n",
       " 'avg_prices(total)_ranking': 1,\n",
       " 'not_avg_prices(total)_outlier': 1,\n",
       " 'avg_prices(total)_ranking_adjusted': 4,\n",
       " 'avg_area(sq_meters)_ranking': 1,\n",
       " 'not_avg_area(sq_meters)_outlier': 1,\n",
       " 'avg_area(sq_meters)_ranking_adjusted': 2,\n",
       " 'avg_floors_ranking': 6,\n",
       " 'not_avg_floors_outlier': 1,\n",
       " 'avg_floors_ranking_adjusted': 8,\n",
       " 'avg_price_increase_per_year': 8.292854104636325,\n",
       " 'avg_price_increase_per_year_ranking': 18,\n",
       " 'not_avg_price_increase_per_year_outlier': 1,\n",
       " 'avg_price_increase_per_year_ranking_adjusted': 29}"
      ]
     },
     "metadata": {},
     "execution_count": 29
    }
   ],
   "source": [
    "new_compounds[1]"
   ]
  },
  {
   "cell_type": "code",
   "execution_count": 30,
   "metadata": {},
   "outputs": [],
   "source": [
    "with open('detailed_compounds_changning_v3.json', 'w') as ch_js_3:\n",
    "    json.dump(new_compounds, ch_js_3, ensure_ascii=False)"
   ]
  },
  {
   "cell_type": "code",
   "execution_count": null,
   "metadata": {},
   "outputs": [],
   "source": []
  }
 ]
}